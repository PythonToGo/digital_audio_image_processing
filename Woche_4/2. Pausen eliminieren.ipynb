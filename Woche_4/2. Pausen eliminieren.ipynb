{
 "cells": [
  {
   "cell_type": "code",
   "execution_count": 1,
   "metadata": {
    "deletable": false,
    "editable": false,
    "nbgrader": {
     "cell_type": "code",
     "checksum": "38dbf1650815f43e707811e420af8874",
     "grade": false,
     "grade_id": "cell-4293f5d71c591b06",
     "locked": true,
     "schema_version": 3,
     "solution": false,
     "task": false
    }
   },
   "outputs": [],
   "source": [
    "#   |'''''''''''''╔╬╬╬╬╬╬╬╬   _____  _____      _____  _____      ___   __\n",
    "#   |            ╔╬╬╬╬╬╬╬╬╬  |\\   _ \\  _  \\    |\\   _ \\  _  \\    |\\  \\|\\  \\\n",
    "#   | ░░         ╬╬╬╬╬╬╬╬╬╬  \\ \\  \\\\__\\ \\  \\   \\ \\  \\\\__\\ \\  \\   \\ \\  \\/  /|_\n",
    "#    ░░░░        ╬╬╬╬╬╬╬╬╬╬   \\ \\  \\|__| \\  \\   \\ \\  \\|__| \\  \\   \\ \\   ___  \\\n",
    "#   ░░░░░╦╬╦    ╔╬╬╬╬╬╬╬╬╬╬    \\ \\  \\   \\ \\  \\   \\ \\  \\   \\ \\  \\   \\ \\  \\ \\   \\\n",
    "#  ░░░░░╬╬╬╬ ▓▓└╬╬╬╬╬╬╬╬╬╬╬     \\ \\__\\   \\ \\__\\   \\ \\__\\   \\ \\__\\   \\ \\__\\ \\___\\\n",
    "# ░░░░░╔╬╬╬ ▓▓▓  ╓╬╬╬╬╬╬╬╬╬      \\|__|    \\|__|    \\|__|    \\|__|    \\|__| \\|__|\n",
    "# ░░░░░╠╬╬╬ ▓▓▓  └╬╬╬╬╬╬╬╬╬\n",
    "#  ░░░░└╬╬╬╬ ▓▓   ╬╬╬╬╬╬╬╬╬  Lehrstuhl für Mensch-Maschine-Kommunikation\n",
    "#  ░░░░░╙╬╬╬╩            ╬╬  Technische Universität München\n",
    "#   ░░░░░░╚ '''''''''''''''  Author: Tobias Watzel\n",
    "#    ░░░                     Copyright 2020\n",
    "#\n",
    "\n",
    "%matplotlib widget\n",
    "import os\n",
    "import ipywidgets as widgets\n",
    "import matplotlib.pyplot as plt\n",
    "import matplotlib as mpl\n",
    "import matplotlib.lines as lines\n",
    "import IPython.display as ipd\n",
    "import librosa.display\n",
    "import numpy as np\n",
    "import scipy\n",
    "import more_itertools\n",
    "from scipy import signal\n",
    "from scipy.fftpack import fft, fftshift\n",
    "import dill"
   ]
  },
  {
   "cell_type": "markdown",
   "metadata": {
    "deletable": false,
    "editable": false,
    "nbgrader": {
     "cell_type": "markdown",
     "checksum": "df0b87406c5486a20f94a1fc5ac14824",
     "grade": false,
     "grade_id": "cell-085dfae5bb6a211f",
     "locked": true,
     "schema_version": 3,
     "solution": false,
     "task": false
    }
   },
   "source": [
    "# Versuchsbeschreibung:\n",
    "Die Pausen zwischen den gesprochenen Wörtern werden aus dem Spektrum herausgenommen. Als Kriterium dient ein Schwellwert für die Energie, der unterschritten werden muss. Finden Sie einen passenden Schwellwert."
   ]
  },
  {
   "cell_type": "code",
   "execution_count": 2,
   "metadata": {
    "deletable": false,
    "editable": false,
    "nbgrader": {
     "cell_type": "code",
     "checksum": "8ccc2c3399793efd99b19352cf1a3f06",
     "grade": false,
     "grade_id": "cell-4f8d4b21053a4a0a",
     "locked": true,
     "schema_version": 3,
     "solution": false,
     "task": false
    }
   },
   "outputs": [
    {
     "data": {
      "application/vnd.jupyter.widget-view+json": {
       "model_id": "34f3220cfde2457696f1620854a4c0f0",
       "version_major": 2,
       "version_minor": 0
      },
      "text/plain": [
       "Select(description='Dateiliste:', options=('mahlzeit.wav', 'mahlzeitFast.wav', 'mahlzeitLong.wav'), value='mah…"
      ]
     },
     "metadata": {},
     "output_type": "display_data"
    },
    {
     "data": {
      "application/vnd.jupyter.widget-view+json": {
       "model_id": "af7c37e1f06049daa1972df90b86e5c7",
       "version_major": 2,
       "version_minor": 0
      },
      "text/plain": [
       "Label(value='Beschreibung: Das Wort Mahlzeit. Eigenschaften: 16000 Hz, 16 bit mono, Samples: 25333, Länge: 1,5…"
      ]
     },
     "metadata": {},
     "output_type": "display_data"
    }
   ],
   "source": [
    "# init fig for matplotlib\n",
    "fig, fig1 = None, None\n",
    "\n",
    "def handle_select_change(change):\n",
    "    text.value = showText[label.value]\n",
    "    \n",
    "# define file list\n",
    "wav_list = ['mahlzeit.wav', 'mahlzeitFast.wav', 'mahlzeitLong.wav']\n",
    "\n",
    "# define select widget\n",
    "select = widgets.Select(\n",
    "    options = wav_list,\n",
    "    value = 'mahlzeit.wav',\n",
    "    description = 'Dateiliste:')\n",
    "\n",
    "# define explanations\n",
    "text_mahlzeit = 'Beschreibung: Das Wort Mahlzeit. Eigenschaften: 16000 Hz, 16 bit mono, Samples: 25333, Länge: 1,58 s'\n",
    "text_mahlzeit_lang = 'Beschreibung: Das Wort Mahlzeit lang. Eigenschaften: 16000 Hz, 16 bit mono, Samples: 45543, Länge: 2,85 s'\n",
    "text_mahlzeit_kurz = 'Beschreibung: Das Wort Mahlzeit schnell. Eigenschaften: 16000 Hz, 16 bit mono, Samples: 12580, Länge: 0,79 s'\n",
    "\n",
    "showText = {\"mahlzeit.wav\": text_mahlzeit, \"mahlzeitFast.wav\": text_mahlzeit_kurz, \"mahlzeitLong.wav\": text_mahlzeit_lang}\n",
    "\n",
    "label = widgets.Label(value = select.value)\n",
    "text = widgets.Label(value = showText[label.value])\n",
    "widgets.link((select, 'value'), (label, 'value'))\n",
    "select.observe(handle_select_change)\n",
    "\n",
    "display(select, text)"
   ]
  },
  {
   "cell_type": "code",
   "execution_count": 3,
   "metadata": {
    "deletable": false,
    "editable": false,
    "nbgrader": {
     "cell_type": "code",
     "checksum": "2ddebb8dbae22502717071219c53e0a4",
     "grade": false,
     "grade_id": "cell-528c8a4406df3091",
     "locked": true,
     "schema_version": 3,
     "solution": false,
     "task": false
    }
   },
   "outputs": [
    {
     "data": {
      "application/vnd.jupyter.widget-view+json": {
       "model_id": "6571e37b0e244dec9d77a26511b71c66",
       "version_major": 2,
       "version_minor": 0
      },
      "text/plain": [
       "Canvas(toolbar=Toolbar(toolitems=[('Home', 'Reset original view', 'home', 'home'), ('Back', 'Back to previous …"
      ]
     },
     "metadata": {},
     "output_type": "display_data"
    },
    {
     "data": {
      "application/vnd.jupyter.widget-view+json": {
       "model_id": "1c70303dfb814725bd541989a9c636d3",
       "version_major": 2,
       "version_minor": 0
      },
      "text/plain": [
       "VBox(children=(FloatSlider(value=0.5, description='Schwellwert für Energie:', layout=Layout(width='75%'), max=…"
      ]
     },
     "metadata": {},
     "output_type": "display_data"
    }
   ],
   "source": [
    "# load audio file\n",
    "y, sr = librosa.load('wav_files/%s' % select.value, sr = 16000)\n",
    "x = np.linspace(0, y.size, num = y.size)\n",
    "\n",
    "# close old figures if avaible\n",
    "if fig:\n",
    "    plt.close(fig)\n",
    "    plt.close(fig1)\n",
    "\n",
    "def calculate_signal_power(y_input):\n",
    "    return np.mean(y_input ** 2)\n",
    "\n",
    "def consecutive(data, stepsize=1):\n",
    "    return np.split(data, np.where(np.diff(data) != stepsize)[0] + 1)\n",
    "\n",
    "def sliding_window_over_signal(y_signal, window_size):\n",
    "    output_vec = np.zeros(int(np.floor(y_signal.size / window_size)))\n",
    "    \n",
    "    for i, w in enumerate(more_itertools.windowed(y_signal, n = window_size, step = window_size, fillvalue = '!')): \n",
    "        # apply Cepstrum for every window\n",
    "        if '!' not in w:      \n",
    "            # get the cepstrum of the window\n",
    "            output_vec[i] = calculate_signal_power(np.array(w))\n",
    "            \n",
    "    return output_vec\n",
    "\n",
    "def detect_word_boundaries(signal_in, thres_energy, ax = None):\n",
    "    # clear axis \n",
    "    ax.cla()\n",
    "    \n",
    "    thres_start = 4\n",
    "    thres_end = 10\n",
    "    thres_length = 20\n",
    "    \n",
    "    length_window = 256\n",
    "    power_signal_in = sliding_window_over_signal(signal_in, length_window)\n",
    "\n",
    "    total_windows = int(np.floor(signal_in.size / length_window))\n",
    "    \n",
    "    #ax.clear()\n",
    "    ax.plot(power_signal_in, label = 'org', color = 'r', linewidth=1)\n",
    "    \n",
    "    # find threshold for energy\n",
    "    threshold_energy = thres_energy * power_signal_in.max()\n",
    "    ax.axhline(threshold_energy, color = 'g')\n",
    "    \n",
    "    # find consecutive sequences and filter with threshold energy\n",
    "    seq_above_thres = consecutive((power_signal_in > threshold_energy).nonzero()[0])\n",
    "    seq_below_thres = consecutive((power_signal_in < threshold_energy).nonzero()[0])\n",
    "    \n",
    "    helper_array = np.zeros(power_signal_in.size)\n",
    "    \n",
    "    # find word start and end --> set 1.0 for start, 2.0 for end in helper_array\n",
    "    for element in seq_above_thres:\n",
    "        if len(element) > thres_start:\n",
    "            helper_array[element[0] - 1] = 1.0\n",
    "\n",
    "    for element in seq_below_thres:\n",
    "        if len(element) > thres_end:\n",
    "            helper_array[element[0]] = 2.0\n",
    "\n",
    "    # find indices for start and end\n",
    "    start = (helper_array == 1.0).nonzero()[0]\n",
    "    end = (helper_array == 2.0).nonzero()[0]  \n",
    "\n",
    "    # combine all variations of start and end\n",
    "    possible_windows = np.array(np.meshgrid(start, end)).T.reshape(-1,2)\n",
    "    final_windows = []\n",
    "    save_start = -1 # saver var\n",
    "    save_end = -1 # saver var\n",
    "    for row in possible_windows:\n",
    "        final_windows.append(row)\n",
    "        save_start = row[0]\n",
    "        save_end = row[1]\n",
    "        #if row[1] - row[0] > thres_length and row[0] != save_start and row[1] != save_end:\n",
    "        #    final_windows.append(row)\n",
    "        #    save_start = row[0]\n",
    "        #    save_end = row[1]\n",
    "    \n",
    "    if ax:\n",
    "        for element in final_windows:\n",
    "            ax.axvline(element[0], color = 'b')\n",
    "            ax.axvline(element[1], color = 'b')\n",
    "        # setting properties             \n",
    "        ax.set_xlim(0, total_windows - 1)\n",
    "        ax.set_xticks(np.arange(0, total_windows, 5))\n",
    "        ax.set_xlabel(\"Fenster\")\n",
    "        ax.set_ylabel(\"Energie\")\n",
    "        ax.set_title('Sprachdetektion')\n",
    "        ax.grid()\n",
    "        \n",
    "    else:\n",
    "        return final_windows\n",
    "    \n",
    "\n",
    "# define figure with axes\n",
    "fig = plt.figure(figsize = (9, 9))\n",
    "ax1 = plt.subplot(211)\n",
    "ax2 = plt.subplot(212)\n",
    "\n",
    "# define slider\n",
    "slider_layout = widgets.Layout(width = '75%')\n",
    "slider_energy = widgets.FloatSlider(value=0.5, min=0.0, max=1.0, step=0.01, description='Schwellwert für Energie:', orientation='horizontal',\n",
    "                                    readout=True, readout_format='.2f', style={'description_width': 'initial'}, layout = slider_layout)\n",
    "    \n",
    "# plot signal\n",
    "ax1.plot(x, y, linewidth=1, color='r')\n",
    "ax1.set_xlim(x.min(), x.max())\n",
    "ax1.set_xlabel(\"Sample\")\n",
    "ax1.set_ylabel(\"Amplitude\")\n",
    "ax1.set_title('Signal')\n",
    "ax1.grid()\n",
    "        \n",
    "\n",
    "# plot areas of talking\n",
    "energy_threshold = 0.05\n",
    "\n",
    "# create graph with detected boundaries\n",
    "detect_word_boundaries(y, energy_threshold, ax = ax2)\n",
    "fig.tight_layout()\n",
    "\n",
    "# Float slider\n",
    "slider_location = widgets.Layout(justify_content = 'space-around')\n",
    "box_layout = widgets.Layout(display='flex', align_items='stretch', width='100%')\n",
    "\n",
    "box_slider_1 = widgets.VBox([slider_energy], layout = box_layout)\n",
    "display(box_slider_1, layout = slider_location)\n",
    "\n",
    "def change_slider(change):\n",
    "    if change['type'] == 'change' and change['name'] == 'value':\n",
    "        detect_word_boundaries(y, change['new'], ax = ax2)\n",
    "\n",
    "slider_energy.observe(change_slider)\n",
    "\n"
   ]
  },
  {
   "cell_type": "markdown",
   "metadata": {
    "deletable": false,
    "editable": false,
    "nbgrader": {
     "cell_type": "markdown",
     "checksum": "1d916335de8e579eb99c847e1f3d93d5",
     "grade": false,
     "grade_id": "cell-3560fd277af3ddcd",
     "locked": true,
     "schema_version": 3,
     "solution": false,
     "task": false
    }
   },
   "source": [
    "# 1. Am Anfang der Sprachdatei mahlzeit.wav gibt es ein Störgeräusch (bis ca. 6000 Samples).\n",
    "\n",
    "Ist es möglich durch Einstellung des Schwellwertes dieses Störgeräusch zu eliminieren ohne ein Stück aus dem Wort zu schneiden? Wenn ja, ab welchem Schwellwert ist das möglich?"
   ]
  },
  {
   "cell_type": "code",
   "execution_count": 4,
   "metadata": {
    "deletable": false,
    "editable": false,
    "nbgrader": {
     "cell_type": "code",
     "checksum": "417ab94f97d426519da058c5fadcdfa0",
     "grade": false,
     "grade_id": "cell-1a5dc12235f9e146",
     "locked": true,
     "schema_version": 3,
     "solution": false,
     "task": false
    }
   },
   "outputs": [
    {
     "data": {
      "application/vnd.jupyter.widget-view+json": {
       "model_id": "1ba43b634f594227b9346bfc04ed9620",
       "version_major": 2,
       "version_minor": 0
      },
      "text/plain": [
       "RadioButtons(index=1, layout=Layout(width='500px'), options=('Nein.', 'Ja, ab 20%.', 'Ja, ab 10%.', 'Ja, ab 1%…"
      ]
     },
     "metadata": {},
     "output_type": "display_data"
    }
   ],
   "source": [
    "save_radio_select = 'save/radio_select_window_word.dill'\n",
    "\n",
    "radio_button_array = np.array([False, False, False, False])\n",
    "# try to load checkbox array\n",
    "try: \n",
    "    with open(save_radio_select, 'rb') as fp:\n",
    "        radio_button_array = dill.load(fp)\n",
    "except:\n",
    "    pass\n",
    "\n",
    "radio_button_list = ['Nein.', 'Ja, ab 20%.', 'Ja, ab 10%.', 'Ja, ab 1%.']\n",
    "value_radio = [None if len(np.where(radio_button_array == True)[0]) == 0 else \n",
    "               radio_button_list[np.where(radio_button_array == True)[0][0]]]\n",
    "\n",
    "def callback_checkbox(change):\n",
    "    if change['type'] == 'change' and change['name'] == 'value':\n",
    "        radio_button_array[radio_button_list.index(change['new'])] = not radio_button_array[radio_button_list.index(change['new'])]\n",
    "        if change['old']:\n",
    "            radio_button_array[radio_button_list.index(change['old'])] = not radio_button_array[radio_button_list.index(change['old'])]\n",
    "        # save when changed\n",
    "        with open(save_radio_select, 'wb') as fp:\n",
    "            dill.dump(radio_button_array, fp)            \n",
    "\n",
    "radio_buttons = widgets.RadioButtons(options=radio_button_list, \n",
    "                                     value=value_radio[0], layout = {'width' : '500px'})\n",
    "\n",
    "radio_buttons.observe(callback_checkbox)\n",
    "\n",
    "display(radio_buttons)"
   ]
  },
  {
   "cell_type": "code",
   "execution_count": 5,
   "metadata": {
    "deletable": false,
    "editable": false,
    "nbgrader": {
     "cell_type": "code",
     "checksum": "0d8766ff56d692f13c536bfdbb6b9f71",
     "grade": true,
     "grade_id": "cell-5ee576fc61bc73a6",
     "locked": true,
     "points": 1,
     "schema_version": 3,
     "solution": false,
     "task": false
    }
   },
   "outputs": [],
   "source": [
    "# Autograding answer, please ignore\n"
   ]
  },
  {
   "cell_type": "code",
   "execution_count": null,
   "metadata": {},
   "outputs": [],
   "source": []
  }
 ],
 "metadata": {
  "kernelspec": {
   "display_name": "Python 3",
   "language": "python",
   "name": "python3"
  },
  "language_info": {
   "codemirror_mode": {
    "name": "ipython",
    "version": 3
   },
   "file_extension": ".py",
   "mimetype": "text/x-python",
   "name": "python",
   "nbconvert_exporter": "python",
   "pygments_lexer": "ipython3",
   "version": "3.7.7"
  }
 },
 "nbformat": 4,
 "nbformat_minor": 4
}
