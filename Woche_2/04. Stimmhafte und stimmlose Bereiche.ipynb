{
 "cells": [
  {
   "cell_type": "code",
   "execution_count": 1,
   "metadata": {
    "deletable": false,
    "editable": false,
    "nbgrader": {
     "cell_type": "code",
     "checksum": "a1a3f4ee9d9a0d9a493f9d4715ee371f",
     "grade": false,
     "grade_id": "cell-071a57ab51a31ae6",
     "locked": true,
     "schema_version": 3,
     "solution": false,
     "task": false
    }
   },
   "outputs": [],
   "source": [
    "#   |'''''''''''''╔╬╬╬╬╬╬╬╬   _____  _____      _____  _____      ___   __\n",
    "#   |            ╔╬╬╬╬╬╬╬╬╬  |\\   _ \\  _  \\    |\\   _ \\  _  \\    |\\  \\|\\  \\\n",
    "#   | ░░         ╬╬╬╬╬╬╬╬╬╬  \\ \\  \\\\__\\ \\  \\   \\ \\  \\\\__\\ \\  \\   \\ \\  \\/  /|_\n",
    "#    ░░░░        ╬╬╬╬╬╬╬╬╬╬   \\ \\  \\|__| \\  \\   \\ \\  \\|__| \\  \\   \\ \\   ___  \\\n",
    "#   ░░░░░╦╬╦    ╔╬╬╬╬╬╬╬╬╬╬    \\ \\  \\   \\ \\  \\   \\ \\  \\   \\ \\  \\   \\ \\  \\ \\   \\\n",
    "#  ░░░░░╬╬╬╬ ▓▓└╬╬╬╬╬╬╬╬╬╬╬     \\ \\__\\   \\ \\__\\   \\ \\__\\   \\ \\__\\   \\ \\__\\ \\___\\\n",
    "# ░░░░░╔╬╬╬ ▓▓▓  ╓╬╬╬╬╬╬╬╬╬      \\|__|    \\|__|    \\|__|    \\|__|    \\|__| \\|__|\n",
    "# ░░░░░╠╬╬╬ ▓▓▓  └╬╬╬╬╬╬╬╬╬\n",
    "#  ░░░░└╬╬╬╬ ▓▓   ╬╬╬╬╬╬╬╬╬  Lehrstuhl für Mensch-Maschine-Kommunikation\n",
    "#  ░░░░░╙╬╬╬╩            ╬╬  Technische Universität München\n",
    "#   ░░░░░░╚ '''''''''''''''  Author: Tobias Watzel\n",
    "#    ░░░                     Copyright 2020\n",
    "#\n",
    "\n",
    "%matplotlib widget\n",
    "import os\n",
    "import ipywidgets as widgets\n",
    "import matplotlib.pyplot as plt\n",
    "import matplotlib as mpl\n",
    "import matplotlib.lines as lines\n",
    "import IPython.display as ipd\n",
    "import librosa.display\n",
    "import numpy as np\n",
    "from scipy import signal\n",
    "from scipy.fftpack import fft, fftshift\n",
    "import dill"
   ]
  },
  {
   "cell_type": "markdown",
   "metadata": {
    "deletable": false,
    "editable": false,
    "nbgrader": {
     "cell_type": "markdown",
     "checksum": "bea27ca2bbdc3adb3d164eeafdd5ae84",
     "grade": false,
     "grade_id": "cell-e8743eb3c73e2562",
     "locked": true,
     "schema_version": 3,
     "solution": false,
     "task": false
    }
   },
   "source": [
    "## Versuchsbeschreibung:\n",
    "Im folgenden Versuch werden automatisch zwei Bereiche aus einem Sprachsignals gewählt.\n",
    "Zu diesen Bereichen werden die Spektren generiert. Entscheiden Sie anhand der Zeitsignale und der zugehörigen Spektren ob es sich jeweils um einen stimmhaften oder einen stimmlosen Bereich handelt. "
   ]
  },
  {
   "cell_type": "code",
   "execution_count": 2,
   "metadata": {
    "deletable": false,
    "editable": false,
    "nbgrader": {
     "cell_type": "code",
     "checksum": "b787b9c9f134a21d148d1952e1b22528",
     "grade": false,
     "grade_id": "cell-7c0e82cd520fbae8",
     "locked": true,
     "schema_version": 3,
     "solution": false,
     "task": false
    },
    "pycharm": {
     "name": "#%%\n"
    }
   },
   "outputs": [
    {
     "data": {
      "application/vnd.jupyter.widget-view+json": {
       "model_id": "e717b68a17c647f6a475ae7d5dd7e21e",
       "version_major": 2,
       "version_minor": 0
      },
      "text/plain": [
       "Select(description='Dateiliste:', options=('mahlzeit.wav', 'mahlzeitFast.wav', 'mahlzeitLong.wav'), value='mah…"
      ]
     },
     "metadata": {},
     "output_type": "display_data"
    },
    {
     "data": {
      "application/vnd.jupyter.widget-view+json": {
       "model_id": "75d851fa318e4f5e955137ef3035fc75",
       "version_major": 2,
       "version_minor": 0
      },
      "text/plain": [
       "Label(value='Beschreibung: Das Wort Mahlzeit. Eigenschaften: 16000 Hz, 16 bit mono, Samples: 25333, Länge: 1,5…"
      ]
     },
     "metadata": {},
     "output_type": "display_data"
    }
   ],
   "source": [
    "# init fig for matplotlib\n",
    "fig, fig1 = None, None\n",
    "\n",
    "def handle_select_change(change):\n",
    "    text.value = showText[label.value]\n",
    "    \n",
    "# define file list\n",
    "wav_list = ['mahlzeit.wav', 'mahlzeitFast.wav', 'mahlzeitLong.wav']\n",
    "\n",
    "# define select widget\n",
    "select = widgets.Select(\n",
    "    options = wav_list,\n",
    "    value = 'mahlzeit.wav',\n",
    "    description = 'Dateiliste:')\n",
    "\n",
    "# define explanations\n",
    "text_mahlzeit = 'Beschreibung: Das Wort Mahlzeit. Eigenschaften: 16000 Hz, 16 bit mono, Samples: 25333, Länge: 1,58 s'\n",
    "text_mahlzeit_lang = 'Beschreibung: Das Wort Mahlzeit lang. Eigenschaften: 16000 Hz, 16 bit mono, Samples: 45543, Länge: 2,85 s'\n",
    "text_mahlzeit_kurz = 'Beschreibung: Das Wort Mahlzeit schnell. Eigenschaften: 16000 Hz, 16 bit mono, Samples: 12580, Länge: 0,79 s'\n",
    "\n",
    "showText = {\"mahlzeit.wav\": text_mahlzeit, \"mahlzeitFast.wav\": text_mahlzeit_kurz, \"mahlzeitLong.wav\": text_mahlzeit_lang}\n",
    "\n",
    "label = widgets.Label(value = select.value)\n",
    "text = widgets.Label(value = showText[label.value])\n",
    "widgets.link((select, 'value'), (label, 'value'))\n",
    "select.observe(handle_select_change)\n",
    "\n",
    "display(select, text)"
   ]
  },
  {
   "cell_type": "code",
   "execution_count": 3,
   "metadata": {
    "deletable": false,
    "editable": false,
    "nbgrader": {
     "cell_type": "code",
     "checksum": "3d3c29021092b31065035d2cdbc87520",
     "grade": false,
     "grade_id": "cell-06b954fe84a43972",
     "locked": true,
     "schema_version": 3,
     "solution": false,
     "task": false
    }
   },
   "outputs": [
    {
     "data": {
      "application/vnd.jupyter.widget-view+json": {
       "model_id": "983bdcb677a0499b9deccea12bb4b865",
       "version_major": 2,
       "version_minor": 0
      },
      "text/plain": [
       "Text(value='0', description='Startsample:')"
      ]
     },
     "metadata": {},
     "output_type": "display_data"
    },
    {
     "data": {
      "application/vnd.jupyter.widget-view+json": {
       "model_id": "f1517114d76642e68ef1cbb531f5d8a5",
       "version_major": 2,
       "version_minor": 0
      },
      "text/plain": [
       "Text(value='25333', description='Endsample:')"
      ]
     },
     "metadata": {},
     "output_type": "display_data"
    }
   ],
   "source": [
    "# load audio file\n",
    "y, sr = librosa.load('wav_files/%s' % select.value, sr = 16000)\n",
    "\n",
    "startsample=widgets.Text(\n",
    "    value='0',\n",
    "    description='Startsample:')\n",
    "\n",
    "endsample=widgets.Text(\n",
    "    value=str(y.size),\n",
    "    description='Endsample:')\n",
    "\n",
    "display(startsample, endsample)"
   ]
  },
  {
   "cell_type": "code",
   "execution_count": 4,
   "metadata": {
    "deletable": false,
    "editable": false,
    "nbgrader": {
     "cell_type": "code",
     "checksum": "bd763b186b824202a560669b18e32cf5",
     "grade": false,
     "grade_id": "cell-01e83dab921575eb",
     "locked": true,
     "schema_version": 3,
     "solution": false,
     "task": false
    }
   },
   "outputs": [
    {
     "data": {
      "application/vnd.jupyter.widget-view+json": {
       "model_id": "d5234ea4ea8a48efbb26e00da17a029e",
       "version_major": 2,
       "version_minor": 0
      },
      "text/plain": [
       "Canvas(toolbar=Toolbar(toolitems=[('Home', 'Reset original view', 'home', 'home'), ('Back', 'Back to previous …"
      ]
     },
     "metadata": {},
     "output_type": "display_data"
    },
    {
     "data": {
      "text/html": [
       "\n",
       "                <audio  controls=\"controls\" >\n",
       "                    <source src=\"data:audio/wav;base64,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\" type=\"audio/wav\" />\n",
       "                    Your browser does not support the audio element.\n",
       "                </audio>\n",
       "              "
      ],
      "text/plain": [
       "<IPython.lib.display.Audio object>"
      ]
     },
     "execution_count": 4,
     "metadata": {},
     "output_type": "execute_result"
    }
   ],
   "source": [
    "# close old figure if avaible\n",
    "if fig:\n",
    "    plt.close()\n",
    "    \n",
    "# define figure\n",
    "fig, ax = plt.subplots(1, figsize = (9, 7))\n",
    "ax.axhline(y = 0, color = 'k')\n",
    "    \n",
    "y = y[int(startsample.value):int(endsample.value)]\n",
    "x = np.linspace(0, y.size, num = y.size)\n",
    "\n",
    "# plot audio\n",
    "ax.plot(x, y, color = 'r', linewidth = 0.75)\n",
    "ax.set_xlim(xmin = 0.0, xmax = x[-1])\n",
    "plt.tight_layout()\n",
    "# load audio playback module\n",
    "ipd.Audio(y, rate = sr)"
   ]
  },
  {
   "cell_type": "code",
   "execution_count": 5,
   "metadata": {
    "deletable": false,
    "editable": false,
    "nbgrader": {
     "cell_type": "code",
     "checksum": "11e9f8357e2631d34af82f660f19ee10",
     "grade": false,
     "grade_id": "cell-7df3fcf15a2b322d",
     "locked": true,
     "schema_version": 3,
     "solution": false,
     "task": false
    }
   },
   "outputs": [
    {
     "data": {
      "application/vnd.jupyter.widget-view+json": {
       "model_id": "5f090283906d40ebbf860a3ae8c842be",
       "version_major": 2,
       "version_minor": 0
      },
      "text/plain": [
       "HBox(children=(VBox(children=(Text(value='3000', description='Startblue:'), Text(value='3500', description='En…"
      ]
     },
     "metadata": {},
     "output_type": "display_data"
    }
   ],
   "source": [
    "text_startblue = widgets.Text(value = '3000', description = 'Startblue:')\n",
    "text_endblue = widgets.Text(value = '3500', description = 'Endblue:')\n",
    "text_startgreen = widgets.Text(value = '10950', description = 'Startgreen:')\n",
    "text_endgreen = widgets.Text(value = '11470', description = 'Endgreen:')\n",
    "\n",
    "box = widgets.HBox([widgets.VBox([text_startblue, text_endblue]), widgets.VBox([text_startgreen, text_endgreen])])\n",
    "\n",
    "display(box)"
   ]
  },
  {
   "cell_type": "code",
   "execution_count": 6,
   "metadata": {
    "deletable": false,
    "editable": false,
    "nbgrader": {
     "cell_type": "code",
     "checksum": "0c7ff9803b50436f7744d77faf77bb7c",
     "grade": false,
     "grade_id": "cell-f22e9a7ba714c65b",
     "locked": true,
     "schema_version": 3,
     "solution": false,
     "task": false
    },
    "scrolled": false
   },
   "outputs": [
    {
     "data": {
      "application/vnd.jupyter.widget-view+json": {
       "model_id": "b74d90ceb77740a0af295353de80752b",
       "version_major": 2,
       "version_minor": 0
      },
      "text/plain": [
       "Canvas(toolbar=Toolbar(toolitems=[('Home', 'Reset original view', 'home', 'home'), ('Back', 'Back to previous …"
      ]
     },
     "metadata": {},
     "output_type": "display_data"
    },
    {
     "data": {
      "application/vnd.jupyter.widget-view+json": {
       "model_id": "7d224ba75a014a71a6e9eb63c83e6897",
       "version_major": 2,
       "version_minor": 0
      },
      "text/plain": [
       "Canvas(toolbar=Toolbar(toolitems=[('Home', 'Reset original view', 'home', 'home'), ('Back', 'Back to previous …"
      ]
     },
     "metadata": {},
     "output_type": "display_data"
    },
    {
     "data": {
      "application/vnd.jupyter.widget-view+json": {
       "model_id": "733096bf43e346039a84ac7d22c0b5b6",
       "version_major": 2,
       "version_minor": 0
      },
      "text/plain": [
       "Box(children=(RadioButtons(description='Stimmhaft/-los blaues Fenster', index=1, options=('stimmlos', 'stimmha…"
      ]
     },
     "metadata": {},
     "output_type": "display_data"
    }
   ],
   "source": [
    "# fft\n",
    "def calculate_fft(y_input, fs):\n",
    "    n = y_input.size\n",
    "    t = 1 / fs\n",
    "    y_fft = fft(y_input) / n\n",
    "    xf = np.linspace(-fs / 2, fs / 2 - fs / n, num = n)\n",
    "    yf = np.abs(fftshift(y_fft))\n",
    "    return xf, yf\n",
    "\n",
    "# close old figures if avaible\n",
    "if fig:\n",
    "    plt.close(fig)\n",
    "    plt.close(fig1)\n",
    "\n",
    "fig, ax = plt.subplots(1, figsize = (9, 7))\n",
    "ax.plot(x, y, linewidth=1, color='r')\n",
    "ax.set_xlim(xmin = x[0], xmax = x[-1])\n",
    "ax.axhline(y = 0, color = 'k')\n",
    "ax.grid()\n",
    "#ax.set_ylim(-0.3, 0.3)\n",
    "\n",
    "l1 = ax.axvline(x = int(text_startblue.value), color = 'b')\n",
    "l2 = ax.axvline(x = int(text_endblue.value), color = 'b')\n",
    "l3 = ax.axvline(x = int(text_startgreen.value), color = 'g')\n",
    "l4 = ax.axvline(x = int(text_endgreen.value), color = 'g')\n",
    "\n",
    "fig.tight_layout()\n",
    "\n",
    "ipd.Audio(y, rate=sr)\n",
    "\n",
    "fig1, axes = plt.subplots(nrows=2, ncols=2, figsize=(9, 7))\n",
    "\n",
    "axes[0, 0].set_title(\"Zeitverlauf blaues Fenster\")\n",
    "axes[0, 0].plot(np.arange(int(text_startblue.value), int(text_endblue.value)), y[int(text_startblue.value):int(text_endblue.value)], color='b')\n",
    "axes[0, 0].set_xlabel(\"Sample\")\n",
    "axes[0, 0].set_ylabel(\"Amplitude\")\n",
    "axes[0, 0].set_xlim(int(text_startblue.value), int(text_endblue.value))\n",
    "axes[0, 0].grid()\n",
    "\n",
    "axes[0, 1].set_title(\"Zeitverlauf grünes Fenster\")\n",
    "axes[0, 1].plot(np.arange(int(text_startgreen.value), int(text_endgreen.value)), y[int(text_startgreen.value):int(text_endgreen.value)], color='g')\n",
    "axes[0, 1].set_xlabel(\"Sample\")\n",
    "axes[0, 1].set_ylabel(\"Amplitude\")\n",
    "axes[0, 1].set_xlim(int(text_startgreen.value), int(text_endgreen.value))\n",
    "axes[0, 1].grid()\n",
    "\n",
    "axes[1, 0].set_title(\"Frequenzspektrum blaues Fenster\")\n",
    "xf_b, yf_b = calculate_fft(y[int(text_startblue.value):int(text_endblue.value)], sr)\n",
    "axes[1, 0].plot(xf_b, yf_b, color='b')\n",
    "axes[1, 0].set_xlabel(\"Frequenz\")\n",
    "axes[1, 0].set_ylabel(\"Amplitude\")\n",
    "axes[1, 0].set_ylim(ymin = 0)\n",
    "axes[1, 0].set_xlim(- sr / 2, sr / 2)\n",
    "axes[1, 0].grid()\n",
    "\n",
    "axes[1, 1].set_title(\"Frequenzspektrum grünes Fenster\")\n",
    "xf_g, yf_g = calculate_fft(y[int(text_startgreen.value):int(text_endgreen.value)], sr)\n",
    "axes[1, 1].plot(xf_g, yf_g, color='g')\n",
    "axes[1, 1].set_xlabel(\"Frequenz\")\n",
    "axes[1, 1].set_ylabel(\"Amplitude\")\n",
    "axes[1, 1].set_ylim(ymin = 0)\n",
    "axes[1, 1].set_xlim(- sr / 2, sr / 2)\n",
    "axes[1, 1].grid()\n",
    "\n",
    "fig1.tight_layout()\n",
    "\n",
    "\n",
    "save_bg = 'save/radio_select_blue_green.dill'\n",
    "\n",
    "radio_button_blue = np.array([False, False])\n",
    "radio_button_green = np.array([False, False])\n",
    "\n",
    "# try to load checkbox array\n",
    "try:\n",
    "    with open(save_bg, 'rb') as fp:\n",
    "        load_list = dill.load(fp)\n",
    "        radio_button_blue, radio_button_green = load_list[0], load_list[1]\n",
    "except:\n",
    "    pass\n",
    "\n",
    "radio_button_list_blue = ['stimmlos', 'stimmhaft']\n",
    "radio_button_list_green = ['stimmlos', 'stimmhaft']\n",
    "\n",
    "value_radio_blue = [None if len(np.where(radio_button_blue == True)[0]) == 0 else \n",
    "               radio_button_list_blue[np.where(radio_button_blue == True)[0][0]]]\n",
    "value_radio_green = [None if len(np.where(radio_button_green == True)[0]) == 0 else \n",
    "               radio_button_list_green[np.where(radio_button_green == True)[0][0]]]\n",
    "\n",
    "radio_dict = {'blue': widgets.RadioButtons(options=['stimmlos', 'stimmhaft'], \n",
    "                                  description='Stimmhaft/-los blaues Fenster', \n",
    "                                  style={'description_width': 'initial'}, value=value_radio_blue[0]),\n",
    "             'green': widgets.RadioButtons(options=['stimmlos', 'stimmhaft'], \n",
    "                                   description='Stimmhaft/-los grünes Fenster', \n",
    "                                   style={'description_width': 'initial'}, value=value_radio_green[0])}\n",
    "\n",
    "def callback_checkbox_bg(change):\n",
    "    # TODO quite dirty...\n",
    "    if change['type'] == 'change' and change['name'] == 'value':\n",
    "        if change['owner'].description == 'Stimmhaft/-los blaues Fenster':\n",
    "            radio_button_blue[radio_button_list_blue.index(change['new'])]\\\n",
    "            = not radio_button_blue[radio_button_list_blue.index(change['new'])]\n",
    "            if change['old']:\n",
    "                radio_button_blue[radio_button_list_blue.index(change['old'])]\\\n",
    "                = not radio_button_blue[radio_button_list_blue.index(change['old'])]\n",
    "        elif change['owner'].description == 'Stimmhaft/-los grünes Fenster':\n",
    "            radio_button_green[radio_button_list_green.index(change['new'])]\\\n",
    "            = not radio_button_green[radio_button_list_green.index(change['new'])]\n",
    "            if change['old']:\n",
    "                radio_button_green[radio_button_list_green.index(change['old'])]\\\n",
    "                = not radio_button_green[radio_button_list_green.index(change['old'])]\n",
    "                \n",
    "        # save when changed\n",
    "        with open(save_bg, 'wb') as fp:\n",
    "            dill.dump([radio_button_blue, radio_button_green], fp)\n",
    "\n",
    "\n",
    "items = [ele for ele in radio_dict.values()]\n",
    "radio_dict['blue'].observe(callback_checkbox_bg)\n",
    "radio_dict['green'].observe(callback_checkbox_bg)\n",
    "box_layout = widgets.Layout(display='flex',\n",
    "                    flex_flow='wrap',\n",
    "                    position='relative',\n",
    "                    left='60px',\n",
    "                    align_items='stretch',\n",
    "                    width='80%',\n",
    "                    justify_content='space-between')\n",
    "box = widgets.Box(children=items, layout=box_layout)\n",
    "display(box)"
   ]
  },
  {
   "cell_type": "code",
   "execution_count": 7,
   "metadata": {
    "deletable": false,
    "editable": false,
    "nbgrader": {
     "cell_type": "code",
     "checksum": "07d36ac6ee09044a24802d74f5d012b2",
     "grade": true,
     "grade_id": "cell-2fdb3104b29b24b8",
     "locked": true,
     "points": 1,
     "schema_version": 3,
     "solution": false,
     "task": false
    }
   },
   "outputs": [],
   "source": [
    "# Autograding answer, please ignore\n"
   ]
  },
  {
   "cell_type": "code",
   "execution_count": 8,
   "metadata": {
    "deletable": false,
    "editable": false,
    "nbgrader": {
     "cell_type": "code",
     "checksum": "014d20685f13e9f701af92e11d6a3484",
     "grade": true,
     "grade_id": "cell-af43b6542c46f7d1",
     "locked": true,
     "points": 1,
     "schema_version": 3,
     "solution": false,
     "task": false
    }
   },
   "outputs": [],
   "source": [
    "# Autograding answer, please ignore\n"
   ]
  },
  {
   "cell_type": "markdown",
   "metadata": {
    "deletable": false,
    "editable": false,
    "nbgrader": {
     "cell_type": "markdown",
     "checksum": "563e16b25759721d6115f62de8709e40",
     "grade": false,
     "grade_id": "cell-4e70ff1cf1a15b19",
     "locked": true,
     "schema_version": 3,
     "solution": false,
     "task": false
    }
   },
   "source": [
    "## 1. Bei stimmhaften Lauten können die Formanten aus dem Frequenzspektrum bestimmt werden.\n",
    "Das wievielte Maximum der Einhüllenden des Spektrums entspricht dem 1. Formanten?"
   ]
  },
  {
   "cell_type": "code",
   "execution_count": 10,
   "metadata": {
    "deletable": false,
    "editable": false,
    "nbgrader": {
     "cell_type": "code",
     "checksum": "44ac049d5d82423bea77e97f710ce628",
     "grade": false,
     "grade_id": "cell-57c57cae445b9473",
     "locked": true,
     "schema_version": 3,
     "solution": false,
     "task": false
    }
   },
   "outputs": [
    {
     "data": {
      "application/vnd.jupyter.widget-view+json": {
       "model_id": "4147c0e9e77441b7be7950ded4094905",
       "version_major": 2,
       "version_minor": 0
      },
      "text/plain": [
       "Box(children=(Text(value='2'), Label(value='Maximum')))"
      ]
     },
     "metadata": {},
     "output_type": "display_data"
    }
   ],
   "source": [
    "size_file_max1 = 'save/size_max1.dill'\n",
    "\n",
    "size_max1 = ''\n",
    "# try to load checkbox array\n",
    "try: \n",
    "    with open(size_file_max1, 'rb') as fp:\n",
    "        size_max1 = dill.load(fp)\n",
    "        if size_max1 == '':\n",
    "            size_max1 = '0'\n",
    "except:\n",
    "    pass\n",
    "\n",
    "def callback_size_file_max1(change):\n",
    "    if change['type'] == 'change' and change['name'] == 'value':\n",
    "        size_max1 = change['new']\n",
    "        # save when changed\n",
    "        with open(size_file_max1, 'wb') as fp:\n",
    "            dill.dump(change['new'], fp)\n",
    "\n",
    "text_1 = widgets.Text(value=size_max1, continuous_update=True)\n",
    "bits_label = widgets.Label(value = 'Maximum')\n",
    "text_1.observe(callback_size_file_max1)\n",
    "\n",
    "display(widgets.Box([text_1, bits_label]))"
   ]
  },
  {
   "cell_type": "code",
   "execution_count": 11,
   "metadata": {
    "deletable": false,
    "editable": false,
    "nbgrader": {
     "cell_type": "code",
     "checksum": "c01ff12e3d1f714636169c8fef44289e",
     "grade": true,
     "grade_id": "cell-3e4590be19b35479",
     "locked": true,
     "points": 1,
     "schema_version": 3,
     "solution": false,
     "task": false
    }
   },
   "outputs": [],
   "source": [
    "# Autograding answer, please ignore\n"
   ]
  },
  {
   "cell_type": "markdown",
   "metadata": {
    "deletable": false,
    "editable": false,
    "nbgrader": {
     "cell_type": "markdown",
     "checksum": "c11928f458262a4f18f1f94fe5a7e8df",
     "grade": false,
     "grade_id": "cell-7fdc4a463a03745f",
     "locked": true,
     "schema_version": 3,
     "solution": false,
     "task": false
    }
   },
   "source": [
    "## 2. Das wievielte Maximum der Einhüllenden des Spektrums entspricht der Grundfrequenz der Anregungsfunktion?"
   ]
  },
  {
   "cell_type": "code",
   "execution_count": 13,
   "metadata": {
    "deletable": false,
    "editable": false,
    "nbgrader": {
     "cell_type": "code",
     "checksum": "37f9a4e16f872e8a081562d7f2794ec6",
     "grade": false,
     "grade_id": "cell-4a0e72826bca8669",
     "locked": true,
     "schema_version": 3,
     "solution": false,
     "task": false
    }
   },
   "outputs": [
    {
     "data": {
      "application/vnd.jupyter.widget-view+json": {
       "model_id": "3f0aff44cbc94e789d0bc344f90bb10b",
       "version_major": 2,
       "version_minor": 0
      },
      "text/plain": [
       "Box(children=(Text(value='1'), Label(value='Maximum')))"
      ]
     },
     "metadata": {},
     "output_type": "display_data"
    }
   ],
   "source": [
    "size_file_max2 = 'save/size_max2.dill'\n",
    "\n",
    "size_max2 = ''\n",
    "# try to load checkbox array\n",
    "try: \n",
    "    with open(size_file_max2, 'rb') as fp:\n",
    "        size_max2 = dill.load(fp)\n",
    "        if size_max2 == '':\n",
    "            size_max2 = '0'\n",
    "except:\n",
    "    pass\n",
    "\n",
    "def callback_size_file_max2(change):\n",
    "    if change['type'] == 'change' and change['name'] == 'value':\n",
    "        size_max2 = change['new']\n",
    "        # save when changed\n",
    "        with open(size_file_max2, 'wb') as fp:\n",
    "            dill.dump(change['new'], fp)\n",
    "\n",
    "text_2 = widgets.Text(value=size_max2, continuous_update=True)\n",
    "bits_label = widgets.Label(value = 'Maximum')\n",
    "text_2.observe(callback_size_file_max2)\n",
    "\n",
    "display(widgets.Box([text_2, bits_label]))"
   ]
  },
  {
   "cell_type": "code",
   "execution_count": 14,
   "metadata": {
    "deletable": false,
    "editable": false,
    "nbgrader": {
     "cell_type": "code",
     "checksum": "0863fbb2592d2918fb540cc21332e940",
     "grade": true,
     "grade_id": "cell-fbf7d663f9953ba6",
     "locked": true,
     "points": 1,
     "schema_version": 3,
     "solution": false,
     "task": false
    }
   },
   "outputs": [],
   "source": [
    "# Autograding answer, please ignore\n"
   ]
  },
  {
   "cell_type": "markdown",
   "metadata": {
    "deletable": false,
    "editable": false,
    "nbgrader": {
     "cell_type": "markdown",
     "checksum": "2a57a859193351fe86d5fe6ca8e6a13d",
     "grade": false,
     "grade_id": "cell-5a22428daf6ffad4",
     "locked": true,
     "schema_version": 3,
     "solution": false,
     "task": false
    }
   },
   "source": [
    "## 3. Welche Grundfrequenz hat demnach das \"a\" in der Sprachdatei mahlzeit.wav?"
   ]
  },
  {
   "cell_type": "code",
   "execution_count": 16,
   "metadata": {
    "deletable": false,
    "editable": false,
    "nbgrader": {
     "cell_type": "code",
     "checksum": "3842c2532b9b6eacb8117007c3e44e4d",
     "grade": false,
     "grade_id": "cell-4ca8ec1d0b59ca2e",
     "locked": true,
     "schema_version": 3,
     "solution": false,
     "task": false
    }
   },
   "outputs": [
    {
     "data": {
      "application/vnd.jupyter.widget-view+json": {
       "model_id": "07f78eefa708483486f3bef9525d3ccc",
       "version_major": 2,
       "version_minor": 0
      },
      "text/plain": [
       "RadioButtons(options=('140 Hz', '400 Hz', '600 Hz', '1000 Hz'), value='140 Hz')"
      ]
     },
     "metadata": {},
     "output_type": "display_data"
    }
   ],
   "source": [
    "save_radio_select = 'save/radio_select_base_freqa.dill'\n",
    "\n",
    "radio_button_array = np.array([False, False, False, False])\n",
    "# try to load checkbox array\n",
    "try: \n",
    "    with open(save_radio_select, 'rb') as fp:\n",
    "        radio_button_array = dill.load(fp)\n",
    "except:\n",
    "    pass\n",
    "\n",
    "radio_button_list = ['140 Hz', '400 Hz', '600 Hz', '1000 Hz']\n",
    "value_radio = [None if len(np.where(radio_button_array == True)[0]) == 0 else \n",
    "               radio_button_list[np.where(radio_button_array == True)[0][0]]]\n",
    "\n",
    "def callback_checkbox(change):\n",
    "    if change['type'] == 'change' and change['name'] == 'value':\n",
    "        radio_button_array[radio_button_list.index(change['new'])] = not radio_button_array[radio_button_list.index(change['new'])]\n",
    "        if change['old']:\n",
    "            radio_button_array[radio_button_list.index(change['old'])] = not radio_button_array[radio_button_list.index(change['old'])]\n",
    "        # save when changed\n",
    "        with open(save_radio_select, 'wb') as fp:\n",
    "            dill.dump(radio_button_array, fp)\n",
    "\n",
    "radio_buttons = widgets.RadioButtons(options=radio_button_list, \n",
    "                                     value=value_radio[0])\n",
    "\n",
    "radio_buttons.observe(callback_checkbox)\n",
    "\n",
    "display(radio_buttons)"
   ]
  },
  {
   "cell_type": "code",
   "execution_count": 17,
   "metadata": {
    "deletable": false,
    "editable": false,
    "nbgrader": {
     "cell_type": "code",
     "checksum": "70943cfeb7fd40fed4427f0c8d31e0d0",
     "grade": true,
     "grade_id": "cell-f02a4d5471b9f27f",
     "locked": true,
     "points": 1,
     "schema_version": 3,
     "solution": false,
     "task": false
    }
   },
   "outputs": [],
   "source": [
    "# Autograding answer, please ignore\n"
   ]
  },
  {
   "cell_type": "code",
   "execution_count": null,
   "metadata": {},
   "outputs": [],
   "source": []
  }
 ],
 "metadata": {
  "kernelspec": {
   "display_name": "Python 3",
   "language": "python",
   "name": "python3"
  },
  "language_info": {
   "codemirror_mode": {
    "name": "ipython",
    "version": 3
   },
   "file_extension": ".py",
   "mimetype": "text/x-python",
   "name": "python",
   "nbconvert_exporter": "python",
   "pygments_lexer": "ipython3",
   "version": "3.7.7"
  },
  "pycharm": {
   "stem_cell": {
    "cell_type": "raw",
    "metadata": {
     "collapsed": false
    },
    "source": []
   }
  },
  "widgets": {
   "application/vnd.jupyter.widget-state+json": {
    "state": {},
    "version_major": 2,
    "version_minor": 0
   }
  }
 },
 "nbformat": 4,
 "nbformat_minor": 4
}
