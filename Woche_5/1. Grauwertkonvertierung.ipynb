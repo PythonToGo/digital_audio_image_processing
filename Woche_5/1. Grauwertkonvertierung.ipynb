{
 "cells": [
  {
   "cell_type": "code",
   "execution_count": 1,
   "metadata": {
    "deletable": false,
    "editable": false,
    "nbgrader": {
     "cell_type": "code",
     "checksum": "af73ee7b10de091099f521a2d84b815c",
     "grade": false,
     "grade_id": "cell-8ffceed7d2fd63ae",
     "locked": true,
     "schema_version": 3,
     "solution": false,
     "task": false
    }
   },
   "outputs": [],
   "source": [
    "#   |'''''''''''''╔╬╬╬╬╬╬╬╬   _____  _____      _____  _____      ___   __\n",
    "#   |            ╔╬╬╬╬╬╬╬╬╬  |\\   _ \\  _  \\    |\\   _ \\  _  \\    |\\  \\|\\  \\\n",
    "#   | ░░         ╬╬╬╬╬╬╬╬╬╬  \\ \\  \\\\__\\ \\  \\   \\ \\  \\\\__\\ \\  \\   \\ \\  \\/  /|_\n",
    "#    ░░░░        ╬╬╬╬╬╬╬╬╬╬   \\ \\  \\|__| \\  \\   \\ \\  \\|__| \\  \\   \\ \\   ___  \\\n",
    "#   ░░░░░╦╬╦    ╔╬╬╬╬╬╬╬╬╬╬    \\ \\  \\   \\ \\  \\   \\ \\  \\   \\ \\  \\   \\ \\  \\ \\   \\\n",
    "#  ░░░░░╬╬╬╬ ▓▓└╬╬╬╬╬╬╬╬╬╬╬     \\ \\__\\   \\ \\__\\   \\ \\__\\   \\ \\__\\   \\ \\__\\ \\___\\\n",
    "# ░░░░░╔╬╬╬ ▓▓▓  ╓╬╬╬╬╬╬╬╬╬      \\|__|    \\|__|    \\|__|    \\|__|    \\|__| \\|__|\n",
    "# ░░░░░╠╬╬╬ ▓▓▓  └╬╬╬╬╬╬╬╬╬\n",
    "#  ░░░░└╬╬╬╬ ▓▓   ╬╬╬╬╬╬╬╬╬  Lehrstuhl für Mensch-Maschine-Kommunikation\n",
    "#  ░░░░░╙╬╬╬╩            ╬╬  Technische Universität München\n",
    "#   ░░░░░░╚ '''''''''''''''  Author: Tobias Watzel\n",
    "#    ░░░                     Copyright 2020\n",
    "#\n",
    "\n",
    "%matplotlib widget\n",
    "import cv2\n",
    "import glob\n",
    "import re\n",
    "import io\n",
    "import ipywidgets as widgets\n",
    "import numpy as np\n",
    "from IPython.display import clear_output, Image, display\n",
    "import PIL.Image\n",
    "from matplotlib import pyplot as plt\n",
    "import dill\n",
    "\n",
    "# define figure\n",
    "fig = None"
   ]
  },
  {
   "cell_type": "markdown",
   "metadata": {
    "deletable": false,
    "editable": false,
    "nbgrader": {
     "cell_type": "markdown",
     "checksum": "d535bd4a2bbb616c090e62d23a23504e",
     "grade": false,
     "grade_id": "cell-8ade86e27582c465",
     "locked": true,
     "schema_version": 3,
     "solution": false,
     "task": false
    }
   },
   "source": [
    "## Versuchsbeschreibung\n",
    "Die technische Grauwertkonvertierung wertet alle Farbkomponenten RGB gleich.\n",
    "Die wahrnehmungsgerechte Grauwertkonvertierung gewichtet die Farbkomponenten RGB unterschiedlich (siehe Formel für Y im Skript).\n",
    "Vergleichen Sie die beiden Grauwertkonvertierungen zunächst an dem Testbild \"Rot-Grün-Blau Streifen\" und dann an den anderen Bildern oder an den eigenen Bildern. "
   ]
  },
  {
   "cell_type": "code",
   "execution_count": 2,
   "metadata": {
    "deletable": false,
    "editable": false,
    "nbgrader": {
     "cell_type": "code",
     "checksum": "91009ec1db6816239440d3b1b2b59253",
     "grade": false,
     "grade_id": "cell-d5c543be983636e9",
     "locked": true,
     "schema_version": 3,
     "solution": false,
     "task": false
    }
   },
   "outputs": [
    {
     "data": {
      "application/vnd.jupyter.widget-view+json": {
       "model_id": "755a9be29f3b4b7cbc73e5e7b353a810",
       "version_major": 2,
       "version_minor": 0
      },
      "text/plain": [
       "Select(description='Dateiliste:', options=('birne', 'buch', 'fahrzeug', 'klammermaschine', 'mandrill', 'orange…"
      ]
     },
     "metadata": {},
     "output_type": "display_data"
    },
    {
     "data": {
      "application/vnd.jupyter.widget-view+json": {
       "model_id": "636293f4c49c4d31a05ebe1b9d112a96",
       "version_major": 2,
       "version_minor": 0
      },
      "text/plain": [
       "HBox(children=(VBox(children=(Label(value='Ursprüngliches Bild'), Image(value=b'\\x89PNG\\r\\n\\x1a\\n\\x00\\x00\\x00\\…"
      ]
     },
     "metadata": {},
     "output_type": "display_data"
    }
   ],
   "source": [
    "if fig:\n",
    "    plt.close(fig)\n",
    "\n",
    "# create dict with name of image and its path (FIX? hacked...)\n",
    "dict_images = {entry.replace('/',' ').replace('.',' ').split()[1]:entry for entry in sorted(glob.glob(\"images/*\"))}\n",
    "\n",
    "def convert_image(a, fmt='png'):\n",
    "    a = np.uint8(np.clip(a, 0, 255))\n",
    "    f = io.BytesIO()\n",
    "    PIL.Image.fromarray(a).save(f, fmt)\n",
    "    return f.getvalue()\n",
    "\n",
    "def rgb_to_gray_colorimetric(image_in):\n",
    "    # check, if RGB\n",
    "    assert image_in.shape[2] == 3\n",
    "    return 0.3 * image_in[:, :, 0] + 0.59 * image_in[:, :, 1] + 0.11 * image_in[:, :, 2]\n",
    "\n",
    "def rgb_to_gray_average(image_in):\n",
    "    # check, if RGB\n",
    "    assert image_in.shape[2] == 3\n",
    "    return np.mean(image_in, axis=2)\n",
    "\n",
    "def display_images(image_name):  \n",
    "    # read image\n",
    "    image = cv2.imread(dict_images[image_name])\n",
    "    \n",
    "    # image in RGB (just switching dims)\n",
    "    image_rgb = cv2.cvtColor(image, cv2.COLOR_BGR2RGB)\n",
    "    \n",
    "    # transform images\n",
    "    image_gray_average = rgb_to_gray_average(image_rgb)\n",
    "    image_gray_colorimetric = rgb_to_gray_colorimetric(image_rgb)\n",
    "    \n",
    "    # plot images\n",
    "    image_1.value = convert_image(image_rgb)\n",
    "    image_2.value = convert_image(image_gray_average)\n",
    "    image_3.value = convert_image(image_gray_colorimetric)\n",
    "\n",
    "    \n",
    "def change_val(change):\n",
    "    if change['type'] == 'change' and change['name'] == 'value':\n",
    "        display_images(change['new'])\n",
    "\n",
    "\n",
    "select = widgets.Select(\n",
    "    options=list(dict_images.keys()),\n",
    "    value='birne',\n",
    "    description='Dateiliste:')\n",
    "\n",
    "\n",
    "file = open(\"images/birne.png\", \"rb\")\n",
    "image_test = file.read()\n",
    "\n",
    "image_1 = widgets.Image(value=image_test, format='png', width=300, height=400)\n",
    "image_2 = widgets.Image(value=image_test, format='png', width=300, height=400)\n",
    "image_3 = widgets.Image(value=image_test, format='png', width=300, height=400)\n",
    "label_1 = widgets.Label(value='Ursprüngliches Bild')\n",
    "label_2 = widgets.Label(value='Technische Grauwertkonvertierung')\n",
    "label_3 = widgets.Label(value='Wahrnehmungsgerechte Grauwertkonvertierung')\n",
    "\n",
    "box_1 = widgets.VBox([label_1, image_1])\n",
    "box_2 = widgets.VBox([label_2, image_2])\n",
    "box_3 = widgets.VBox([label_3, image_3])\n",
    "\n",
    "items = [box_1, box_2, box_3]\n",
    "box = widgets.HBox(items)\n",
    "\n",
    "display_images('birne')\n",
    "display(select)\n",
    "display(box)\n",
    "\n",
    "select.observe(change_val)"
   ]
  },
  {
   "cell_type": "markdown",
   "metadata": {
    "deletable": false,
    "editable": false,
    "nbgrader": {
     "cell_type": "markdown",
     "checksum": "ed6ccedcb9198c510e531565a962fe91",
     "grade": false,
     "grade_id": "cell-b34319c8832e4460",
     "locked": true,
     "schema_version": 3,
     "solution": false,
     "task": false
    }
   },
   "source": [
    "## 1. Welche Aussagen zur Grauwertkonvertierung treffen zu?"
   ]
  },
  {
   "cell_type": "code",
   "execution_count": 3,
   "metadata": {
    "deletable": false,
    "editable": false,
    "nbgrader": {
     "cell_type": "code",
     "checksum": "5092ca9a6ee06365ae95ccf7c48442ad",
     "grade": false,
     "grade_id": "cell-a0648e32064669c9",
     "locked": true,
     "schema_version": 3,
     "solution": false,
     "task": false
    }
   },
   "outputs": [
    {
     "data": {
      "application/vnd.jupyter.widget-view+json": {
       "model_id": "1f3b5e11464e4894b92f482a33e5f153",
       "version_major": 2,
       "version_minor": 0
      },
      "text/plain": [
       "Checkbox(value=False, description='Sie reduziert den Speicheraufwand eines RGB-Bildes um ca. 45%.', layout=Lay…"
      ]
     },
     "metadata": {},
     "output_type": "display_data"
    },
    {
     "data": {
      "application/vnd.jupyter.widget-view+json": {
       "model_id": "42a3720620c141f887d75d4daaabf979",
       "version_major": 2,
       "version_minor": 0
      },
      "text/plain": [
       "Checkbox(value=False, description='Die wahrnehmungsgerechte Grauwertkonvertierung berücksichtigt unter anderem…"
      ]
     },
     "metadata": {},
     "output_type": "display_data"
    },
    {
     "data": {
      "application/vnd.jupyter.widget-view+json": {
       "model_id": "d4f3cd65f77c4e1ba06f9594739755b8",
       "version_major": 2,
       "version_minor": 0
      },
      "text/plain": [
       "Checkbox(value=False, description='Die technische Grauwerkonvertierung führt zu einem besseren Bildkontrast.',…"
      ]
     },
     "metadata": {},
     "output_type": "display_data"
    },
    {
     "data": {
      "application/vnd.jupyter.widget-view+json": {
       "model_id": "1e6fcb81a58447fbb3eaf8b9785edeb0",
       "version_major": 2,
       "version_minor": 0
      },
      "text/plain": [
       "Checkbox(value=False, description='Die wahrnehmungsgerechte Grauwertkonvertierung berücksichtigt unter anderem…"
      ]
     },
     "metadata": {},
     "output_type": "display_data"
    }
   ],
   "source": [
    "save_checkbox = 'save/checkbox_array_gray_value.dill'\n",
    "\n",
    "checkbox_array = np.array([False, False, False, False])\n",
    "# try to load checkbox array\n",
    "try: \n",
    "    with open(save_checkbox, 'rb') as fp:\n",
    "        checkbox_array = dill.load(fp)\n",
    "except:\n",
    "    pass\n",
    "\n",
    "checkbox_list = ['Sie reduziert den Speicheraufwand eines RGB-Bildes um ca. 45%.',\n",
    "                 'Die wahrnehmungsgerechte Grauwertkonvertierung berücksichtigt unter anderem, dass der Mensch die Farbe Rot heller wahrnimmt als Grün.', \n",
    "                 'Die technische Grauwerkonvertierung führt zu einem besseren Bildkontrast.', \n",
    "                 'Die wahrnehmungsgerechte Grauwertkonvertierung berücksichtigt unter anderem, dass der Mensch die Farbe Grün heller wahrnimmt als Blau.']\n",
    "\n",
    "def callback_checkbox(change):\n",
    "    if change['type'] == 'change' and change['name'] == 'value':\n",
    "        checkbox_array[checkbox_list.index(change['owner'].description)] = change['owner'].value\n",
    "        # save when changed\n",
    "        with open(save_checkbox, 'wb') as fp:\n",
    "            dill.dump(checkbox_array, fp)\n",
    "        \n",
    "checkbox_dict = {i:widgets.Checkbox(\n",
    "    value=bool(checkbox_array[i]),\n",
    "    description=element,\n",
    "    disabled=False,\n",
    "    layout = {'width': '950px', 'align_items': 'stretch'}) \n",
    "                 for i, element in enumerate(checkbox_list)}\n",
    "\n",
    "for ele in range(len(checkbox_list)):\n",
    "    checkbox_dict[ele].observe(callback_checkbox)\n",
    "\n",
    "display(checkbox_dict[0], checkbox_dict[1], checkbox_dict[2], checkbox_dict[3])"
   ]
  },
  {
   "cell_type": "code",
   "execution_count": 4,
   "metadata": {
    "deletable": false,
    "editable": false,
    "nbgrader": {
     "cell_type": "code",
     "checksum": "d2b9339a0e22efa6ff718530476ba42c",
     "grade": true,
     "grade_id": "cell-184a27b711968bd3",
     "locked": true,
     "points": 1,
     "schema_version": 3,
     "solution": false,
     "task": false
    }
   },
   "outputs": [],
   "source": [
    "# Autograding answer, please ignore\n"
   ]
  }
 ],
 "metadata": {
  "kernelspec": {
   "display_name": "Python 3",
   "language": "python",
   "name": "python3"
  },
  "language_info": {
   "codemirror_mode": {
    "name": "ipython",
    "version": 3
   },
   "file_extension": ".py",
   "mimetype": "text/x-python",
   "name": "python",
   "nbconvert_exporter": "python",
   "pygments_lexer": "ipython3",
   "version": "3.7.7"
  }
 },
 "nbformat": 4,
 "nbformat_minor": 4
}
