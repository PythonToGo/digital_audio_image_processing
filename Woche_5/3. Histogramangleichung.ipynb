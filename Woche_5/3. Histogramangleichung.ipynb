{
 "cells": [
  {
   "cell_type": "code",
   "execution_count": 2,
   "metadata": {
    "deletable": false,
    "editable": false,
    "nbgrader": {
     "cell_type": "code",
     "checksum": "cc80b9176cb29d1c5b62d0eec561aba2",
     "grade": false,
     "grade_id": "cell-bfbb640a4902fcdc",
     "locked": true,
     "schema_version": 3,
     "solution": false,
     "task": false
    }
   },
   "outputs": [],
   "source": [
    "#   |'''''''''''''╔╬╬╬╬╬╬╬╬   _____  _____      _____  _____      ___   __\n",
    "#   |            ╔╬╬╬╬╬╬╬╬╬  |\\   _ \\  _  \\    |\\   _ \\  _  \\    |\\  \\|\\  \\\n",
    "#   | ░░         ╬╬╬╬╬╬╬╬╬╬  \\ \\  \\\\__\\ \\  \\   \\ \\  \\\\__\\ \\  \\   \\ \\  \\/  /|_\n",
    "#    ░░░░        ╬╬╬╬╬╬╬╬╬╬   \\ \\  \\|__| \\  \\   \\ \\  \\|__| \\  \\   \\ \\   ___  \\\n",
    "#   ░░░░░╦╬╦    ╔╬╬╬╬╬╬╬╬╬╬    \\ \\  \\   \\ \\  \\   \\ \\  \\   \\ \\  \\   \\ \\  \\ \\   \\\n",
    "#  ░░░░░╬╬╬╬ ▓▓└╬╬╬╬╬╬╬╬╬╬╬     \\ \\__\\   \\ \\__\\   \\ \\__\\   \\ \\__\\   \\ \\__\\ \\___\\\n",
    "# ░░░░░╔╬╬╬ ▓▓▓  ╓╬╬╬╬╬╬╬╬╬      \\|__|    \\|__|    \\|__|    \\|__|    \\|__| \\|__|\n",
    "# ░░░░░╠╬╬╬ ▓▓▓  └╬╬╬╬╬╬╬╬╬\n",
    "#  ░░░░└╬╬╬╬ ▓▓   ╬╬╬╬╬╬╬╬╬  Lehrstuhl für Mensch-Maschine-Kommunikation\n",
    "#  ░░░░░╙╬╬╬╩            ╬╬  Technische Universität München\n",
    "#   ░░░░░░╚ '''''''''''''''  Author: Tobias Watzel\n",
    "#    ░░░                     Copyright 2020\n",
    "#\n",
    "\n",
    "%matplotlib widget\n",
    "import cv2\n",
    "import glob\n",
    "import re\n",
    "import io\n",
    "import ipywidgets as widgets\n",
    "import numpy as np\n",
    "from IPython.display import clear_output, Image, display\n",
    "import PIL.Image\n",
    "from matplotlib import pyplot as plt\n",
    "from mpl_toolkits.axes_grid1.inset_locator import inset_axes\n",
    "import matplotlib as mpl\n",
    "from matplotlib import cm\n",
    "from functools import partial\n",
    "\n",
    "# define figure\n",
    "fig = None"
   ]
  },
  {
   "cell_type": "markdown",
   "metadata": {
    "deletable": false,
    "editable": false,
    "nbgrader": {
     "cell_type": "markdown",
     "checksum": "8cc35677942acb9574b381931fb703a4",
     "grade": false,
     "grade_id": "cell-497da178f0b5766d",
     "locked": true,
     "schema_version": 3,
     "solution": false,
     "task": false
    }
   },
   "source": [
    "## Versuchsbeschreibung\n",
    "Wählen Sie ein Bild und eine Konvertierungsmethode aus. Es wird eine Histogrammangleichung vorgenommen. Welche Auswirkung hat die Histogrammangleichung auf das Bild? "
   ]
  },
  {
   "cell_type": "code",
   "execution_count": 5,
   "metadata": {
    "deletable": false,
    "editable": false,
    "nbgrader": {
     "cell_type": "code",
     "checksum": "9cc9c47ba7120646e644163518336626",
     "grade": false,
     "grade_id": "cell-a70d384ace955706",
     "locked": true,
     "schema_version": 3,
     "solution": false,
     "task": false
    },
    "scrolled": true
   },
   "outputs": [
    {
     "data": {
      "application/vnd.jupyter.widget-view+json": {
       "model_id": "bffc2c939da443fabfcafc31918cadaa",
       "version_major": 2,
       "version_minor": 0
      },
      "text/plain": [
       "Canvas(toolbar=Toolbar(toolitems=[('Home', 'Reset original view', 'home', 'home'), ('Back', 'Back to previous …"
      ]
     },
     "metadata": {},
     "output_type": "display_data"
    },
    {
     "data": {
      "application/vnd.jupyter.widget-view+json": {
       "model_id": "dcdf5421b18645a982df864e10d87f12",
       "version_major": 2,
       "version_minor": 0
      },
      "text/plain": [
       "HBox(children=(Select(description='Dateiliste:', options=('birne', 'buch', 'fahrzeug', 'klammermaschine', 'man…"
      ]
     },
     "metadata": {},
     "output_type": "display_data"
    },
    {
     "data": {
      "application/vnd.jupyter.widget-view+json": {
       "model_id": "de3f70092e5f4aaf9ac84e6abcbd4a11",
       "version_major": 2,
       "version_minor": 0
      },
      "text/plain": [
       "HBox(children=(VBox(children=(Label(value='Ursprüngliches Bild'), Image(value=b'\\x89PNG\\r\\n\\x1a\\n\\x00\\x00\\x00\\…"
      ]
     },
     "metadata": {},
     "output_type": "display_data"
    }
   ],
   "source": [
    "if fig:\n",
    "    plt.close(fig)\n",
    "\n",
    "fig = plt.figure(figsize = (7, 4))\n",
    "ax1 = plt.subplot(121)\n",
    "ax2 = plt.subplot(122)\n",
    "# create subaxes\n",
    "left, bottom, width, height = ax1.get_position().bounds\n",
    "ax1_subaxes = fig.add_axes([left, bottom - height * 0.05 - 0.01, width, height * 0.05])\n",
    "left, bottom, width, height = ax2.get_position().bounds\n",
    "ax2_subaxes = fig.add_axes([left, bottom - height * 0.05 - 0.01, width, height * 0.05])\n",
    "norm = mpl.colors.Normalize(vmin = 0, vmax = 255)\n",
    "cb1 = mpl.colorbar.ColorbarBase(ax1_subaxes, norm = norm, orientation = 'horizontal', cmap = cm.Greys_r)\n",
    "cb1 = mpl.colorbar.ColorbarBase(ax2_subaxes, norm = norm, orientation = 'horizontal', cmap = cm.Greys_r)\n",
    "ax1.get_xaxis().set_visible(False)\n",
    "ax2.get_xaxis().set_visible(False)\n",
    "#hist2 = ax2.hist(np.zeros(1))\n",
    "\n",
    "# create dict with name of image and its path (FIX? hacked...)\n",
    "dict_images = {entry.replace('/',' ').replace('.',' ').split()[1]:entry for entry in sorted(glob.glob(\"images/*\"))}\n",
    "\n",
    "def histogram_adjustment(histogram_in):\n",
    "    pass\n",
    "\n",
    "def convert_image(a, fmt='png'):\n",
    "    a = np.uint8(np.clip(a, 0, 255))\n",
    "    f = io.BytesIO()\n",
    "    PIL.Image.fromarray(a).save(f, fmt)\n",
    "    return f.getvalue()\n",
    "\n",
    "def rgb_to_gray_colorimetric(image_in):\n",
    "    # check, if RGB\n",
    "    assert image_in.shape[2] == 3\n",
    "    return np.uint8(0.3 * image_in[:, :, 0] + 0.59 * image_in[:, :, 1] + 0.11 * image_in[:, :, 2])\n",
    "\n",
    "def rgb_to_gray_average(image_in):\n",
    "    # check, if RGB\n",
    "    assert image_in.shape[2] == 3\n",
    "    return np.uint8(np.mean(image_in, axis=2))\n",
    "\n",
    "def display_images(image_name, conversion = 'technisch'):  \n",
    "    # read image\n",
    "    image = cv2.imread(dict_images[image_name])\n",
    "    \n",
    "    # image in RGB (just switching dims)\n",
    "    image_rgb = cv2.cvtColor(image, cv2.COLOR_BGR2RGB)\n",
    "    \n",
    "    # transform images\n",
    "    image_gray = None\n",
    "    if conversion == 'technisch':\n",
    "        image_gray = rgb_to_gray_average(image_rgb)\n",
    "    else:\n",
    "        image_gray = rgb_to_gray_colorimetric(image_rgb)\n",
    "    \n",
    "    # plot histgrams\n",
    "    ax1.cla()\n",
    "    ax2.cla()\n",
    "    ax1.set_title('Histogram (%s)' % conversion)\n",
    "    ax2.set_title('Histogram nach Angleichung')\n",
    "    \n",
    "    image_equalized = cv2.equalizeHist(image_gray)\n",
    "    hist, bins  = np.histogram(image_equalized.flatten(), 256, [0,256])\n",
    "\n",
    "    ax1.hist(image_gray.ravel(), 256, [0, 256])\n",
    "    ax2.hist(image_equalized.ravel(), 256, [0, 256])\n",
    "    \n",
    "    ax1.set_xlim(0, 255)\n",
    "    ax2.set_xlim(0, 255)\n",
    "    \n",
    "    image_1.value = convert_image(image_rgb)\n",
    "    image_2.value = convert_image(image_gray)\n",
    "    image_3.value = convert_image(image_equalized)\n",
    "    \n",
    "    label_2.value = 'Bild grau (%s)' % conversion\n",
    "    label_3.value = 'Bild nach Angleichung (%s)' % conversion\n",
    "    \n",
    "def change_val(change):\n",
    "    if change['type'] == 'change' and change['name'] == 'value':\n",
    "        if change['new'] in list(dict_images.keys()):\n",
    "            display_images(change['new'], select_conversion.value)\n",
    "        else:\n",
    "            display_images(select.value, change['new'])\n",
    "\n",
    "        \n",
    "select = widgets.Select(\n",
    "    options=list(dict_images.keys()),\n",
    "    value='birne',\n",
    "    description='Dateiliste:')\n",
    "\n",
    "select_conversion = widgets.Select(\n",
    "    options=['technisch', 'wahrnehmungsgerecht'],\n",
    "    value='technisch',\n",
    "    description='Dateiliste:')\n",
    "\n",
    "select_box = widgets.HBox([select, select_conversion])\n",
    "\n",
    "file = open(\"images/birne.png\", \"rb\")\n",
    "image_test = file.read()\n",
    "\n",
    "image_1 = widgets.Image(value=image_test, format='png', width=300, height=400)\n",
    "image_2 = widgets.Image(value=image_test, format='png', width=300, height=400)\n",
    "image_3 = widgets.Image(value=image_test, format='png', width=300, height=400)\n",
    "label_1 = widgets.Label(value='Ursprüngliches Bild')\n",
    "label_2 = widgets.Label(value='Bild grau (%s)' % select_conversion.value)\n",
    "label_3 = widgets.Label(value='Bild nach Angleichung (%s)' % select_conversion.value)\n",
    "\n",
    "box_1 = widgets.VBox([label_1, image_1])\n",
    "box_2 = widgets.VBox([label_2, image_2])\n",
    "box_3 = widgets.VBox([label_3, image_3])\n",
    "\n",
    "items = [box_1, box_2, box_3]\n",
    "box = widgets.HBox(items)\n",
    "\n",
    "display(select_box)\n",
    "display_images('birne')\n",
    "display(box)\n",
    "\n",
    "#select.observe(change_val)\n",
    "select.observe(change_val)\n",
    "select_conversion.observe(change_val)"
   ]
  },
  {
   "cell_type": "markdown",
   "metadata": {},
   "source": [
    "# Auswirkung\n",
    "## 1. Verbesserung des Kontrasts: Optimale Verteilung der Helligkeitsstufen für ausgewogenere Kontrastverhältnis."
   ]
  },
  {
   "cell_type": "markdown",
   "metadata": {},
   "source": [
    "## 2. Erhöhung von Detailgenauigkeit: Bessere Hervorhebung feiner Details durch effektivere Nutzung des Helligkeitsbereichs."
   ]
  },
  {
   "cell_type": "markdown",
   "metadata": {},
   "source": [
    "## 3. Anpassung der Farbbalance: Beeinflussung der Farbintensitäten für eine ausgeglichene Farbwiedergabe.\n"
   ]
  },
  {
   "cell_type": "code",
   "execution_count": null,
   "metadata": {},
   "outputs": [],
   "source": []
  }
 ],
 "metadata": {
  "kernelspec": {
   "display_name": "Python 3",
   "language": "python",
   "name": "python3"
  },
  "language_info": {
   "codemirror_mode": {
    "name": "ipython",
    "version": 3
   },
   "file_extension": ".py",
   "mimetype": "text/x-python",
   "name": "python",
   "nbconvert_exporter": "python",
   "pygments_lexer": "ipython3",
   "version": "3.7.7"
  }
 },
 "nbformat": 4,
 "nbformat_minor": 4
}
