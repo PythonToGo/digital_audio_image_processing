{
 "cells": [
  {
   "cell_type": "code",
   "execution_count": 1,
   "metadata": {
    "deletable": false,
    "editable": false,
    "nbgrader": {
     "cell_type": "code",
     "checksum": "eb69b7ab3a106de8d74393c19ec1dc83",
     "grade": false,
     "grade_id": "cell-cbc900aa3396f9c7",
     "locked": true,
     "schema_version": 3,
     "solution": false,
     "task": false
    }
   },
   "outputs": [],
   "source": [
    "#   |'''''''''''''╔╬╬╬╬╬╬╬╬   _____  _____      _____  _____      ___   __\n",
    "#   |            ╔╬╬╬╬╬╬╬╬╬  |\\   _ \\  _  \\    |\\   _ \\  _  \\    |\\  \\|\\  \\\n",
    "#   | ░░         ╬╬╬╬╬╬╬╬╬╬  \\ \\  \\\\__\\ \\  \\   \\ \\  \\\\__\\ \\  \\   \\ \\  \\/  /|_\n",
    "#    ░░░░        ╬╬╬╬╬╬╬╬╬╬   \\ \\  \\|__| \\  \\   \\ \\  \\|__| \\  \\   \\ \\   ___  \\\n",
    "#   ░░░░░╦╬╦    ╔╬╬╬╬╬╬╬╬╬╬    \\ \\  \\   \\ \\  \\   \\ \\  \\   \\ \\  \\   \\ \\  \\ \\   \\\n",
    "#  ░░░░░╬╬╬╬ ▓▓└╬╬╬╬╬╬╬╬╬╬╬     \\ \\__\\   \\ \\__\\   \\ \\__\\   \\ \\__\\   \\ \\__\\ \\___\\\n",
    "# ░░░░░╔╬╬╬ ▓▓▓  ╓╬╬╬╬╬╬╬╬╬      \\|__|    \\|__|    \\|__|    \\|__|    \\|__| \\|__|\n",
    "# ░░░░░╠╬╬╬ ▓▓▓  └╬╬╬╬╬╬╬╬╬\n",
    "#  ░░░░└╬╬╬╬ ▓▓   ╬╬╬╬╬╬╬╬╬  Lehrstuhl für Mensch-Maschine-Kommunikation\n",
    "#  ░░░░░╙╬╬╬╩            ╬╬  Technische Universität München\n",
    "#   ░░░░░░╚ '''''''''''''''  Author: Tobias Watzel\n",
    "#    ░░░                     Copyright 2020\n",
    "#\n",
    "\n",
    "%matplotlib widget\n",
    "import cv2\n",
    "import glob\n",
    "import re\n",
    "import io\n",
    "import ipywidgets as widgets\n",
    "import numpy as np\n",
    "from IPython.display import clear_output, Image, display\n",
    "import PIL.Image\n",
    "from matplotlib import pyplot as plt\n",
    "from mpl_toolkits.axes_grid1.inset_locator import inset_axes\n",
    "import matplotlib as mpl\n",
    "from matplotlib import cm\n",
    "from functools import partial\n",
    "import dill"
   ]
  },
  {
   "cell_type": "markdown",
   "metadata": {
    "deletable": false,
    "editable": false,
    "nbgrader": {
     "cell_type": "markdown",
     "checksum": "c1ab0b597e7ea4258e952602aee76652",
     "grade": false,
     "grade_id": "cell-03afa1fa725c90da",
     "locked": true,
     "schema_version": 3,
     "solution": false,
     "task": false
    }
   },
   "source": [
    "## Versuchsbeschreibung\n",
    "Dieser Versuch soll Ihnen ein Gefühl für verschiedene Farbräume geben. Wählen Sie ein Bild aus und lassen Sie sich die verschiedenen Farbkomponenten dieses Bildes anzeigen."
   ]
  },
  {
   "cell_type": "code",
   "execution_count": 2,
   "metadata": {
    "deletable": false,
    "editable": false,
    "nbgrader": {
     "cell_type": "code",
     "checksum": "cb148f023744dca1403fa6ab1f20307a",
     "grade": false,
     "grade_id": "cell-8f0ae2f4ac9ebaf5",
     "locked": true,
     "schema_version": 3,
     "solution": false,
     "task": false
    }
   },
   "outputs": [
    {
     "data": {
      "application/vnd.jupyter.widget-view+json": {
       "model_id": "9ed7c054e2c349d59b20fd0c426da945",
       "version_major": 2,
       "version_minor": 0
      },
      "text/plain": [
       "Select(description='Dateiliste:', options=('birne', 'buch', 'fahrzeug', 'klammermaschine', 'mandrill', 'orange…"
      ]
     },
     "metadata": {},
     "output_type": "display_data"
    },
    {
     "data": {
      "application/vnd.jupyter.widget-view+json": {
       "model_id": "211e76550706472baaef76c91128013b",
       "version_major": 2,
       "version_minor": 0
      },
      "text/plain": [
       "VBox(children=(Label(value='\\\\(\\\\textbf{RGB (Red, Green, Blue)}\\\\)'), HBox(children=(Image(value=b'\\x89PNG\\r\\n…"
      ]
     },
     "metadata": {},
     "output_type": "display_data"
    }
   ],
   "source": [
    "# create dict with name of image and its path (FIX? hacked...)\n",
    "dict_images = {entry.replace('/',' ').replace('.',' ').split()[1]:entry for entry in sorted(glob.glob(\"images/*\"))}\n",
    "checkbox_dict = {channel:1 for channel in ['R', 'G', 'B', 'C', 'M', 'Y']}\n",
    "\n",
    "def convert_image(a, fmt='png'):\n",
    "    a = np.uint8(np.clip(a, 0, 255))\n",
    "    f = io.BytesIO()\n",
    "    PIL.Image.fromarray(a).save(f, fmt)\n",
    "    return f.getvalue()\n",
    "    \n",
    "    \n",
    "def update_image():  \n",
    "    # read image\n",
    "    image = cv2.imread(dict_images[select.value])\n",
    "    \n",
    "    # image in RGB (just switching dims)\n",
    "    image_rgb = cv2.cvtColor(image, cv2.COLOR_BGR2RGB)\n",
    "    image_cmy = 255 - cv2.cvtColor(image, cv2.COLOR_BGR2RGB)\n",
    "    \n",
    "    # set channels for rgb\n",
    "    for i, channel in enumerate(list('RGB')):\n",
    "        if not checkbox_dict[channel]:\n",
    "            image_rgb[:, :, i] = 0\n",
    "    box.children[1].children[0].value = convert_image(image_rgb)\n",
    "    \n",
    "    for i, channel in enumerate(list('CMY')):\n",
    "        if not checkbox_dict[channel]:\n",
    "            image_cmy[:, :, i] = 0\n",
    "    box.children[3].children[0].value = convert_image(255 - image_cmy)\n",
    "\n",
    "        \n",
    "\n",
    "init_image = cv2.cvtColor(cv2.imread('images/birne.png'), cv2.COLOR_BGR2RGB)\n",
    "\n",
    "image_1 = widgets.Image(value=convert_image(init_image), format='png', width=300, height=400)\n",
    "image_2 = widgets.Image(value=convert_image(init_image), format='png', width=300, height=400)\n",
    "\n",
    "\n",
    "def change_val(change):\n",
    "    if change['type'] == 'change' and change['name'] == 'value':\n",
    "        if len(change['owner'].description) > 1:\n",
    "            update_image()\n",
    "        else:\n",
    "            checkbox_dict[change['owner'].description] = np.int(change['new'])\n",
    "            update_image()\n",
    "        \n",
    "        \n",
    "    \n",
    "\n",
    "\n",
    "def create_display(name_colorspace = 'rgb'):\n",
    "    \n",
    "    display_list = []\n",
    "    init_image = cv2.cvtColor(cv2.imread('images/birne.png'), cv2.COLOR_BGR2RGB)\n",
    "    \n",
    "    image = widgets.Image(value=convert_image(init_image), format='png', width=300, height=400)\n",
    "    helper_dict = {}\n",
    "    for channel in list(name_colorspace):\n",
    "        helper_dict[channel] = widgets.Checkbox(value=True, description=channel.upper(), disabled=False)\n",
    "        helper_dict[channel].observe(change_val)\n",
    "    \n",
    "    return widgets.HBox([image, widgets.VBox(list(helper_dict.values()))])\n",
    "\n",
    "# create box\n",
    "label_1 = widgets.Label(value=r'\\(\\textbf{RGB (Red, Green, Blue)}\\)')\n",
    "label_2 = widgets.Label(value=r'\\(\\textbf{CMY (Cyan, Magenta, Yellow)}\\)')\n",
    "box = widgets.VBox([label_1, create_display('rgb'), label_2, create_display('cmy')])\n",
    "\n",
    "select = widgets.Select(\n",
    "    options=list(dict_images.keys()),\n",
    "    value='birne',\n",
    "    description='Dateiliste:')\n",
    "\n",
    "select.observe(change_val)\n",
    "\n",
    "display(select)\n",
    "\n",
    "display(box)"
   ]
  },
  {
   "cell_type": "markdown",
   "metadata": {
    "deletable": false,
    "editable": false,
    "nbgrader": {
     "cell_type": "markdown",
     "checksum": "fa63e013ef70a81260b94fa29b93550c",
     "grade": false,
     "grade_id": "cell-1d63c47704e0dd40",
     "locked": true,
     "schema_version": 3,
     "solution": false,
     "task": false
    }
   },
   "source": [
    "### 1. Welche Farbe ergibt sich, wenn man cyan und magenta mischt?\n"
   ]
  },
  {
   "cell_type": "code",
   "execution_count": 3,
   "metadata": {
    "deletable": false,
    "editable": false,
    "nbgrader": {
     "cell_type": "code",
     "checksum": "d198cbc843c149f5a68407d873701dfb",
     "grade": false,
     "grade_id": "cell-10f10dd4a4a903a9",
     "locked": true,
     "schema_version": 3,
     "solution": false,
     "task": false
    }
   },
   "outputs": [
    {
     "data": {
      "application/vnd.jupyter.widget-view+json": {
       "model_id": "d895d9320f3b457fbca86b60a7bfde55",
       "version_major": 2,
       "version_minor": 0
      },
      "text/plain": [
       "Text(value='', placeholder='')"
      ]
     },
     "metadata": {},
     "output_type": "display_data"
    }
   ],
   "source": [
    "save_mix1 = 'save/mix1.dill'\n",
    "\n",
    "mix1 = ''\n",
    "# try to load precicion value\n",
    "try: \n",
    "    with open(save_mix1, 'rb') as fp:\n",
    "        mix1 = dill.load(fp)\n",
    "        if mix1 == '':\n",
    "            mix1 = ''\n",
    "except:\n",
    "    pass\n",
    "\n",
    "text_mix1 = widgets.Text(value=str(mix1),\n",
    "                              placeholder='',\n",
    "                              description='',\n",
    "                              disabled=False,\n",
    "                              continuous_update=True)\n",
    "\n",
    "def callback_mix1(change):\n",
    "    if change['type'] == 'change' and change['name'] == 'value':\n",
    "        # save when press enter\n",
    "        with open(save_mix1, 'wb') as fp:\n",
    "            dill.dump(change['new'], fp)\n",
    "\n",
    "display(text_mix1)\n",
    "\n",
    "text_mix1.observe(callback_mix1)"
   ]
  },
  {
   "cell_type": "code",
   "execution_count": 4,
   "metadata": {
    "deletable": false,
    "editable": false,
    "nbgrader": {
     "cell_type": "code",
     "checksum": "f11cc2d02120ad473075bfe704ec9db9",
     "grade": true,
     "grade_id": "cell-1527731f0f8bc64f",
     "locked": true,
     "points": 1,
     "schema_version": 3,
     "solution": false,
     "task": false
    }
   },
   "outputs": [],
   "source": [
    "# Autograding answer, please ignore\n"
   ]
  },
  {
   "cell_type": "markdown",
   "metadata": {
    "deletable": false,
    "editable": false,
    "nbgrader": {
     "cell_type": "markdown",
     "checksum": "5076a73c3113cf9037e9f3ac1425e4a8",
     "grade": false,
     "grade_id": "cell-fd74868e6de327a2",
     "locked": true,
     "schema_version": 3,
     "solution": false,
     "task": false
    }
   },
   "source": [
    "### 2. Welche Farbe ergibt sich, wenn man magenta und gelb mischt?"
   ]
  },
  {
   "cell_type": "code",
   "execution_count": 6,
   "metadata": {
    "deletable": false,
    "editable": false,
    "nbgrader": {
     "cell_type": "code",
     "checksum": "fbc18660c8daa8fa24afc71916f4c694",
     "grade": false,
     "grade_id": "cell-00ca3d74f97d9f59",
     "locked": true,
     "schema_version": 3,
     "solution": false,
     "task": false
    }
   },
   "outputs": [
    {
     "data": {
      "application/vnd.jupyter.widget-view+json": {
       "model_id": "c1ca57a03e4c46e9a84ef78e19896895",
       "version_major": 2,
       "version_minor": 0
      },
      "text/plain": [
       "Text(value='Rot', placeholder='')"
      ]
     },
     "metadata": {},
     "output_type": "display_data"
    }
   ],
   "source": [
    "save_mix2 = 'save/mix2.dill'\n",
    "\n",
    "mix2 = ''\n",
    "# try to load precicion value\n",
    "try: \n",
    "    with open(save_mix2, 'rb') as fp:\n",
    "        mix2 = dill.load(fp)\n",
    "        if mix2 == '':\n",
    "            mix2 = ''\n",
    "except:\n",
    "    pass\n",
    "\n",
    "text_mix2 = widgets.Text(value=str(mix2),\n",
    "                              placeholder='',\n",
    "                              description='',\n",
    "                              disabled=False,\n",
    "                              continuous_update=True)\n",
    "\n",
    "def callback_mix2(change):\n",
    "    if change['type'] == 'change' and change['name'] == 'value':\n",
    "        # save when press enter\n",
    "        with open(save_mix2, 'wb') as fp:\n",
    "            dill.dump(change['new'], fp)\n",
    "\n",
    "display(text_mix2)\n",
    "\n",
    "text_mix2.observe(callback_mix2)"
   ]
  },
  {
   "cell_type": "code",
   "execution_count": 7,
   "metadata": {
    "deletable": false,
    "editable": false,
    "nbgrader": {
     "cell_type": "code",
     "checksum": "3142f9d52aa53dd1ac07370cf7a43633",
     "grade": true,
     "grade_id": "cell-50f9c5622f262fe3",
     "locked": true,
     "points": 1,
     "schema_version": 3,
     "solution": false,
     "task": false
    }
   },
   "outputs": [],
   "source": [
    "# Autograding answer, please ignore\n"
   ]
  },
  {
   "cell_type": "code",
   "execution_count": null,
   "metadata": {},
   "outputs": [],
   "source": []
  }
 ],
 "metadata": {
  "kernelspec": {
   "display_name": "Python 3",
   "language": "python",
   "name": "python3"
  },
  "language_info": {
   "codemirror_mode": {
    "name": "ipython",
    "version": 3
   },
   "file_extension": ".py",
   "mimetype": "text/x-python",
   "name": "python",
   "nbconvert_exporter": "python",
   "pygments_lexer": "ipython3",
   "version": "3.7.7"
  }
 },
 "nbformat": 4,
 "nbformat_minor": 4
}
