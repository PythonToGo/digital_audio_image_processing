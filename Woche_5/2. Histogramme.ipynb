{
 "cells": [
  {
   "cell_type": "code",
   "execution_count": 1,
   "metadata": {
    "deletable": false,
    "editable": false,
    "nbgrader": {
     "cell_type": "code",
     "checksum": "58056050cf4ac8acf3e4c06572386e71",
     "grade": false,
     "grade_id": "cell-b38a66d5a04cd7db",
     "locked": true,
     "schema_version": 3,
     "solution": false,
     "task": false
    }
   },
   "outputs": [],
   "source": [
    "#   |'''''''''''''╔╬╬╬╬╬╬╬╬   _____  _____      _____  _____      ___   __\n",
    "#   |            ╔╬╬╬╬╬╬╬╬╬  |\\   _ \\  _  \\    |\\   _ \\  _  \\    |\\  \\|\\  \\\n",
    "#   | ░░         ╬╬╬╬╬╬╬╬╬╬  \\ \\  \\\\__\\ \\  \\   \\ \\  \\\\__\\ \\  \\   \\ \\  \\/  /|_\n",
    "#    ░░░░        ╬╬╬╬╬╬╬╬╬╬   \\ \\  \\|__| \\  \\   \\ \\  \\|__| \\  \\   \\ \\   ___  \\\n",
    "#   ░░░░░╦╬╦    ╔╬╬╬╬╬╬╬╬╬╬    \\ \\  \\   \\ \\  \\   \\ \\  \\   \\ \\  \\   \\ \\  \\ \\   \\\n",
    "#  ░░░░░╬╬╬╬ ▓▓└╬╬╬╬╬╬╬╬╬╬╬     \\ \\__\\   \\ \\__\\   \\ \\__\\   \\ \\__\\   \\ \\__\\ \\___\\\n",
    "# ░░░░░╔╬╬╬ ▓▓▓  ╓╬╬╬╬╬╬╬╬╬      \\|__|    \\|__|    \\|__|    \\|__|    \\|__| \\|__|\n",
    "# ░░░░░╠╬╬╬ ▓▓▓  └╬╬╬╬╬╬╬╬╬\n",
    "#  ░░░░└╬╬╬╬ ▓▓   ╬╬╬╬╬╬╬╬╬  Lehrstuhl für Mensch-Maschine-Kommunikation\n",
    "#  ░░░░░╙╬╬╬╩            ╬╬  Technische Universität München\n",
    "#   ░░░░░░╚ '''''''''''''''  Author: Tobias Watzel\n",
    "#    ░░░                     Copyright 2020\n",
    "#\n",
    "\n",
    "%matplotlib widget\n",
    "import cv2\n",
    "import glob\n",
    "import re\n",
    "import io\n",
    "import ipywidgets as widgets\n",
    "import numpy as np\n",
    "from IPython.display import clear_output, Image, display\n",
    "import PIL.Image\n",
    "from matplotlib import pyplot as plt\n",
    "from mpl_toolkits.axes_grid1.inset_locator import inset_axes\n",
    "import matplotlib as mpl\n",
    "from matplotlib import cm\n",
    "\n",
    "# define figure\n",
    "fig = None"
   ]
  },
  {
   "cell_type": "markdown",
   "metadata": {
    "deletable": false,
    "editable": false,
    "nbgrader": {
     "cell_type": "markdown",
     "checksum": "ec8d12c65d303595b2d8ced37d02b806",
     "grade": false,
     "grade_id": "cell-54057b2c1cce560b",
     "locked": true,
     "schema_version": 3,
     "solution": false,
     "task": false
    }
   },
   "source": [
    "## Versuchsbeschreibung\n",
    "Wählen Sie ein Bild und vergleichen Sie die Histogramme der technischen und der wahrnehmungsgerechten Grauwertkonvertierung."
   ]
  },
  {
   "cell_type": "code",
   "execution_count": 2,
   "metadata": {
    "deletable": false,
    "editable": false,
    "nbgrader": {
     "cell_type": "code",
     "checksum": "a9c369e76c5feafad6ec2cffbb9fe6a1",
     "grade": false,
     "grade_id": "cell-ed264311665cb86e",
     "locked": true,
     "schema_version": 3,
     "solution": false,
     "task": false
    }
   },
   "outputs": [
    {
     "data": {
      "application/vnd.jupyter.widget-view+json": {
       "model_id": "63bd6ba025d04595af5dea196f4976b8",
       "version_major": 2,
       "version_minor": 0
      },
      "text/plain": [
       "Canvas(toolbar=Toolbar(toolitems=[('Home', 'Reset original view', 'home', 'home'), ('Back', 'Back to previous …"
      ]
     },
     "metadata": {},
     "output_type": "display_data"
    },
    {
     "data": {
      "application/vnd.jupyter.widget-view+json": {
       "model_id": "f6fd9fae58f84c3095211d49787bf6d1",
       "version_major": 2,
       "version_minor": 0
      },
      "text/plain": [
       "Select(description='Dateiliste:', options=('birne', 'buch', 'fahrzeug', 'klammermaschine', 'mandrill', 'orange…"
      ]
     },
     "metadata": {},
     "output_type": "display_data"
    }
   ],
   "source": [
    "if fig:\n",
    "    plt.close(fig)\n",
    "\n",
    "fig = plt.figure(figsize = (9, 6))\n",
    "ax1 = plt.subplot(121)\n",
    "ax2 = plt.subplot(122)\n",
    "# create subaxes\n",
    "left, bottom, width, height = ax1.get_position().bounds\n",
    "ax1_subaxes = fig.add_axes([left, bottom - height * 0.05 - 0.01, width, height * 0.05])\n",
    "left, bottom, width, height = ax2.get_position().bounds\n",
    "ax2_subaxes = fig.add_axes([left, bottom - height * 0.05 - 0.01, width, height * 0.05])\n",
    "norm = mpl.colors.Normalize(vmin = 0, vmax = 255)\n",
    "cb1 = mpl.colorbar.ColorbarBase(ax1_subaxes, norm = norm, orientation = 'horizontal', cmap = cm.Greys_r)\n",
    "cb1 = mpl.colorbar.ColorbarBase(ax2_subaxes, norm = norm, orientation = 'horizontal', cmap = cm.Greys_r)\n",
    "ax1.get_xaxis().set_visible(False)\n",
    "ax2.get_xaxis().set_visible(False)\n",
    "#hist2 = ax2.hist(np.zeros(1))\n",
    "\n",
    "# create dict with name of image and its path (FIX? hacked...)\n",
    "dict_images = {entry.replace('/',' ').replace('.',' ').split()[1]:entry for entry in sorted(glob.glob(\"images/*\"))}\n",
    "\n",
    "def convert_image(a, fmt='png'):\n",
    "    a = np.uint8(np.clip(a, 0, 255))\n",
    "    f = io.BytesIO()\n",
    "    PIL.Image.fromarray(a).save(f, fmt)\n",
    "    return f.getvalue()\n",
    "\n",
    "def rgb_to_gray_colorimetric(image_in):\n",
    "    # check, if RGB\n",
    "    assert image_in.shape[2] == 3\n",
    "    return 0.3 * image_in[:, :, 0] + 0.59 * image_in[:, :, 1] + 0.11 * image_in[:, :, 2]\n",
    "\n",
    "def rgb_to_gray_average(image_in):\n",
    "    # check, if RGB\n",
    "    assert image_in.shape[2] == 3\n",
    "    return np.mean(image_in, axis=2)\n",
    "\n",
    "def display_images(image_name):  \n",
    "    # read image\n",
    "    image = cv2.imread(dict_images[image_name])\n",
    "    \n",
    "    # image in RGB (just switching dims)\n",
    "    image_rgb = cv2.cvtColor(image, cv2.COLOR_BGR2RGB)\n",
    "    \n",
    "    # transform images\n",
    "    image_gray_average = rgb_to_gray_average(image_rgb)\n",
    "    image_gray_colorimetric = rgb_to_gray_colorimetric(image_rgb)\n",
    "    \n",
    "    # plot histgrams\n",
    "    ax1.cla()\n",
    "    ax2.cla()\n",
    "    ax1.set_title('Technisches Histogram')\n",
    "    ax2.set_title('Wahrnehmungsgerechtes Histogram')\n",
    "    ax1.hist(image_gray_average.ravel(), 256, [0, 256])\n",
    "    ax2.hist(image_gray_colorimetric.ravel(), 256, [0, 256])\n",
    "    ax1.set_xlim(0, 255)\n",
    "    ax2.set_xlim(0, 255)\n",
    "\n",
    "    \n",
    "def change_val(change):\n",
    "    if change['type'] == 'change' and change['name'] == 'value':\n",
    "        display_images(change['new'])\n",
    "\n",
    "        \n",
    "select = widgets.Select(\n",
    "    options=list(dict_images.keys()),\n",
    "    value='birne',\n",
    "    description='Dateiliste:')\n",
    "\n",
    "display(select)\n",
    "display_images('birne')\n",
    "\n",
    "select.observe(change_val)"
   ]
  },
  {
   "cell_type": "markdown",
   "metadata": {},
   "source": [
    "# Vergleichung\n",
    "## Der Unterscheid gibt es in der Verteilung der Helligkeitswerte. Meistens Wahrnehmungsgerechte Grauwertkonvertiertung ist eindeutiger als technische Grauwertkonvertierung. In dem wahrnehmnungsgerechten Histogram für rgb_stripes_color, gibt es drei Linie, die rot, grün und blau erkannt werden. Im vergelcieh dazu, in dem technischen Histogram kann man sehen, nur eine Linie. Das heißt, wahrnehmungsgerechten Grauwert  als technisches kann besser und eindeutiger als technisches aufgefallen werden."
   ]
  },
  {
   "cell_type": "code",
   "execution_count": null,
   "metadata": {},
   "outputs": [],
   "source": []
  },
  {
   "cell_type": "code",
   "execution_count": null,
   "metadata": {},
   "outputs": [],
   "source": []
  }
 ],
 "metadata": {
  "kernelspec": {
   "display_name": "Python 3",
   "language": "python",
   "name": "python3"
  },
  "language_info": {
   "codemirror_mode": {
    "name": "ipython",
    "version": 3
   },
   "file_extension": ".py",
   "mimetype": "text/x-python",
   "name": "python",
   "nbconvert_exporter": "python",
   "pygments_lexer": "ipython3",
   "version": "3.7.7"
  }
 },
 "nbformat": 4,
 "nbformat_minor": 4
}
