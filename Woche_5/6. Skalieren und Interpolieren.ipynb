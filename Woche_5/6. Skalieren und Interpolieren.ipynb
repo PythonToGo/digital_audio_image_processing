{
 "cells": [
  {
   "cell_type": "code",
   "execution_count": 1,
   "metadata": {
    "deletable": false,
    "editable": false,
    "nbgrader": {
     "cell_type": "code",
     "checksum": "9dbdb241c96510f2ffbb6cb37f6f4145",
     "grade": false,
     "grade_id": "cell-c09e8a0ff2255c31",
     "locked": true,
     "schema_version": 3,
     "solution": false,
     "task": false
    }
   },
   "outputs": [],
   "source": [
    "#   |'''''''''''''╔╬╬╬╬╬╬╬╬   _____  _____      _____  _____      ___   __\n",
    "#   |            ╔╬╬╬╬╬╬╬╬╬  |\\   _ \\  _  \\    |\\   _ \\  _  \\    |\\  \\|\\  \\\n",
    "#   | ░░         ╬╬╬╬╬╬╬╬╬╬  \\ \\  \\\\__\\ \\  \\   \\ \\  \\\\__\\ \\  \\   \\ \\  \\/  /|_\n",
    "#    ░░░░        ╬╬╬╬╬╬╬╬╬╬   \\ \\  \\|__| \\  \\   \\ \\  \\|__| \\  \\   \\ \\   ___  \\\n",
    "#   ░░░░░╦╬╦    ╔╬╬╬╬╬╬╬╬╬╬    \\ \\  \\   \\ \\  \\   \\ \\  \\   \\ \\  \\   \\ \\  \\ \\   \\\n",
    "#  ░░░░░╬╬╬╬ ▓▓└╬╬╬╬╬╬╬╬╬╬╬     \\ \\__\\   \\ \\__\\   \\ \\__\\   \\ \\__\\   \\ \\__\\ \\___\\\n",
    "# ░░░░░╔╬╬╬ ▓▓▓  ╓╬╬╬╬╬╬╬╬╬      \\|__|    \\|__|    \\|__|    \\|__|    \\|__| \\|__|\n",
    "# ░░░░░╠╬╬╬ ▓▓▓  └╬╬╬╬╬╬╬╬╬\n",
    "#  ░░░░└╬╬╬╬ ▓▓   ╬╬╬╬╬╬╬╬╬  Lehrstuhl für Mensch-Maschine-Kommunikation\n",
    "#  ░░░░░╙╬╬╬╩            ╬╬  Technische Universität München\n",
    "#   ░░░░░░╚ '''''''''''''''  Author: Tobias Watzel\n",
    "#    ░░░                     Copyright 2020\n",
    "#\n",
    "\n",
    "%matplotlib widget\n",
    "import cv2\n",
    "import glob\n",
    "import re\n",
    "import io\n",
    "import ipywidgets as widgets\n",
    "import numpy as np\n",
    "from IPython.display import clear_output, Image, display\n",
    "import PIL.Image\n",
    "from matplotlib import pyplot as plt\n",
    "from mpl_toolkits.axes_grid1.inset_locator import inset_axes\n",
    "import matplotlib as mpl\n",
    "from matplotlib import cm\n",
    "from functools import partial\n",
    "import dill"
   ]
  },
  {
   "cell_type": "markdown",
   "metadata": {
    "deletable": false,
    "editable": false,
    "nbgrader": {
     "cell_type": "markdown",
     "checksum": "4c40159c7b860a270bab332dbec98c8f",
     "grade": false,
     "grade_id": "cell-afe200eaa446eb0e",
     "locked": true,
     "schema_version": 3,
     "solution": false,
     "task": false
    }
   },
   "source": [
    "## Versuchsbeschreibung\n",
    "Dieser Versuch soll Ihnen ein Gefühl für verschiedene Farbräume geben. Wählen Sie ein Bild aus und lassen Sie sich die verschiedenen Farbkomponenten dieses Bildes anzeigen."
   ]
  },
  {
   "cell_type": "code",
   "execution_count": 5,
   "metadata": {
    "deletable": false,
    "editable": false,
    "nbgrader": {
     "cell_type": "code",
     "checksum": "ce2b5b9e6739f27ad7b6e952f9fb01af",
     "grade": false,
     "grade_id": "cell-e44fe02002178e82",
     "locked": true,
     "schema_version": 3,
     "solution": false,
     "task": false
    },
    "scrolled": false
   },
   "outputs": [
    {
     "data": {
      "application/vnd.jupyter.widget-view+json": {
       "model_id": "17cf1454730a47c38da7e713942e45d0",
       "version_major": 2,
       "version_minor": 0
      },
      "text/plain": [
       "Select(description='Dateiliste:', options=('birne', 'buch', 'fahrzeug', 'klammermaschine', 'mandrill', 'orange…"
      ]
     },
     "metadata": {},
     "output_type": "display_data"
    },
    {
     "data": {
      "application/vnd.jupyter.widget-view+json": {
       "model_id": "5e75ee64745b475e9eff1500da38610d",
       "version_major": 2,
       "version_minor": 0
      },
      "text/plain": [
       "VBox(children=(Label(value='\\\\(\\\\textbf{Originalbild}\\\\)'), Image(value=b'\\x89PNG\\r\\n\\x1a\\n\\x00\\x00\\x00\\rIHDR\\…"
      ]
     },
     "metadata": {},
     "output_type": "display_data"
    }
   ],
   "source": [
    "# create dict with name of image and its path (FIX? hacked...)\n",
    "dict_images = {entry.replace('/',' ').replace('.',' ').split()[1]:entry for entry in sorted(glob.glob(\"images/*\"))}\n",
    "scaling_dict = {'down_x': 0.5, 'down_y': 0.5, 'up_x': 2.0, 'up_y': 2.0}\n",
    "\n",
    "def convert_image(a, fmt='png'):\n",
    "    a = np.uint8(np.clip(a, 0, 255))\n",
    "    f = io.BytesIO()\n",
    "    PIL.Image.fromarray(a).save(f, fmt)\n",
    "    return f.getvalue()\n",
    "    \n",
    "    \n",
    "def update_image():  \n",
    "    # read image\n",
    "    image = cv2.imread(dict_images[select.value])\n",
    "    \n",
    "    # image in RGB (just switching dims)\n",
    "    image_rgb = cv2.cvtColor(image, cv2.COLOR_BGR2RGB)\n",
    "    box.children[1].value = convert_image(image_rgb)\n",
    "    box.children[1].width = image_rgb.shape[1]\n",
    "    box.children[1].height = image_rgb.shape[0]\n",
    "    \n",
    "    # scale down image\n",
    "    image_down = cv2.resize(image_rgb, None, fx=scaling_dict['down_x'], fy=scaling_dict['down_y'])\n",
    "    box.children[3].children[0].value = convert_image(image_down)\n",
    "    box.children[3].children[0].width = image_down.shape[1]\n",
    "    box.children[3].children[0].height = image_down.shape[0]\n",
    "    \n",
    "    # scale up image\n",
    "    image_up = cv2.resize(image_down, None, fx=scaling_dict['up_x'], fy=scaling_dict['up_y'])\n",
    "    box.children[5].children[0].value = convert_image(image_up)\n",
    "    box.children[5].children[0].width = image_up.shape[1]\n",
    "    box.children[5].children[0].height = image_up.shape[0]\n",
    "\n",
    "def change_val(change):\n",
    "    if change['type'] == 'change' and change['name'] == 'value':\n",
    "        scaling_dict[change['owner'].description.replace('.', '_').lower()] = change['owner'].value\n",
    "        update_image()\n",
    "        \n",
    "        \n",
    "def create_display(scaling = 'up'):\n",
    "    display_list = []\n",
    "    init_image = cv2.cvtColor(cv2.imread('images/birne.png'), cv2.COLOR_BGR2RGB)\n",
    "    \n",
    "    image = widgets.Image(value=convert_image(init_image), format='png', width=300, height=400)\n",
    "    helper_dict = {}\n",
    "    for axes in ['x', 'y']:\n",
    "        helper_dict['label' + axes] = widgets.Label(value='Skalierungsfaktor in %s:' % axes.upper())\n",
    "        if scaling == 'up':\n",
    "            helper_dict[axes] = widgets.FloatSlider(value=0.5, min=1.0, max=2.0, step=0.05, disabled=False, continuous_update=False, orientation='horizontal',\n",
    "                                                      readout=True, readout_format='.2f', description = ('%s.' + axes.upper()) % scaling)\n",
    "            helper_dict[axes].value = scaling_dict['%s_%s' % (scaling, axes)]\n",
    "        else:\n",
    "            helper_dict[axes] = widgets.FloatSlider(value=0.5, min=0.0, max=1.0, step=0.05, disabled=False, continuous_update=False, orientation='horizontal',\n",
    "                                                      readout=True, readout_format='.2f', description = ('%s.' + axes.upper()) % scaling)\n",
    "            helper_dict[axes].value = scaling_dict['%s_%s' % (scaling, axes)]\n",
    "        helper_dict[axes].observe(change_val)\n",
    "    \n",
    "    return widgets.HBox([image, widgets.VBox(list(helper_dict.values()))])\n",
    "\n",
    "# create box\n",
    "label_1 = widgets.Label(value=r'\\(\\textbf{Originalbild}\\)')\n",
    "label_2 = widgets.Label(value=r'\\(\\textbf{Verkleinertes Bild}\\)')\n",
    "label_3 = widgets.Label(value=r'\\(\\textbf{Vergrößertes Bild}\\)')\n",
    "init_image = cv2.cvtColor(cv2.imread('images/birne.png'), cv2.COLOR_BGR2RGB)\n",
    "shape_image = init_image.shape\n",
    "image_1 = widgets.Image(value=convert_image(init_image), format='png', width=init_image.shape[0], height=init_image.shape[1])\n",
    "box = widgets.VBox([label_1, image_1, label_2, create_display('down'), label_3, create_display('up')])\n",
    "\n",
    "select = widgets.Select(\n",
    "    options=list(dict_images.keys()),\n",
    "    value='birne',\n",
    "    description='Dateiliste:')\n",
    "\n",
    "select.observe(change_val)\n",
    "\n",
    "display(select)\n",
    "display(box)\n",
    "\n",
    "update_image()"
   ]
  },
  {
   "cell_type": "markdown",
   "metadata": {
    "deletable": false,
    "editable": false,
    "nbgrader": {
     "cell_type": "markdown",
     "checksum": "cccad505c5bec172bb541c06c4f2a51d",
     "grade": false,
     "grade_id": "cell-c3b84ed64afa0094",
     "locked": true,
     "schema_version": 3,
     "solution": false,
     "task": false
    }
   },
   "source": [
    "### 1. Ein .tif-Bild habe 10MB. Wieviel MB hat das skalierte Bild, wenn der Skalierungsfaktor in x- und y-Richtung jeweils 50% beträgt?\n"
   ]
  },
  {
   "cell_type": "code",
   "execution_count": 6,
   "metadata": {
    "deletable": false,
    "editable": false,
    "nbgrader": {
     "cell_type": "code",
     "checksum": "444c5aff27c2dcab143f5714e40a3b7d",
     "grade": false,
     "grade_id": "cell-4efa84793c07446d",
     "locked": true,
     "schema_version": 3,
     "solution": false,
     "task": false
    }
   },
   "outputs": [
    {
     "data": {
      "application/vnd.jupyter.widget-view+json": {
       "model_id": "2d4095c81ba547bd9065ed7348b7c75a",
       "version_major": 2,
       "version_minor": 0
      },
      "text/plain": [
       "HBox(children=(Text(value='2.5', placeholder=''), Label(value='MB (Trennen Sie die Nachkommastellen bitte durc…"
      ]
     },
     "metadata": {},
     "output_type": "display_data"
    }
   ],
   "source": [
    "save_image = 'save/size_image.dill'\n",
    "\n",
    "size_image = ''\n",
    "# try to load precicion value\n",
    "try: \n",
    "    with open(save_image, 'rb') as fp:\n",
    "        size_image = dill.load(fp)\n",
    "        if size_image == '':\n",
    "            size_image = 0.0\n",
    "except:\n",
    "    pass\n",
    "\n",
    "text_size_image = widgets.Text(value=str(size_image),\n",
    "                              placeholder='',\n",
    "                              description='',\n",
    "                              disabled=False,\n",
    "                              continuous_update=True)\n",
    "\n",
    "def callback_size_image(change):\n",
    "    if change['type'] == 'change' and change['name'] == 'value':\n",
    "        # save when press enter\n",
    "        with open(save_image, 'wb') as fp:\n",
    "            dill.dump(change['new'], fp)\n",
    "\n",
    "\n",
    "text_size_image.observe(callback_size_image)\n",
    "\n",
    "label = widgets.Label(value = 'MB (Trennen Sie die Nachkommastellen bitte durch einen Punkt ab.)')\n",
    "display(widgets.HBox([text_size_image, label]))"
   ]
  },
  {
   "cell_type": "code",
   "execution_count": 7,
   "metadata": {
    "deletable": false,
    "editable": false,
    "nbgrader": {
     "cell_type": "code",
     "checksum": "2e9b368fbdaa7b30ebbf9789aff81c2a",
     "grade": true,
     "grade_id": "cell-ad3717defd307e7a",
     "locked": true,
     "points": 1,
     "schema_version": 3,
     "solution": false,
     "task": false
    }
   },
   "outputs": [],
   "source": [
    "# Autograding answer, please ignore\n"
   ]
  },
  {
   "cell_type": "code",
   "execution_count": null,
   "metadata": {},
   "outputs": [],
   "source": []
  }
 ],
 "metadata": {
  "kernelspec": {
   "display_name": "Python 3",
   "language": "python",
   "name": "python3"
  },
  "language_info": {
   "codemirror_mode": {
    "name": "ipython",
    "version": 3
   },
   "file_extension": ".py",
   "mimetype": "text/x-python",
   "name": "python",
   "nbconvert_exporter": "python",
   "pygments_lexer": "ipython3",
   "version": "3.7.7"
  }
 },
 "nbformat": 4,
 "nbformat_minor": 4
}
