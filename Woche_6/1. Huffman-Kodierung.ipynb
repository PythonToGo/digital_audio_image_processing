{
 "cells": [
  {
   "cell_type": "code",
   "execution_count": 12,
   "metadata": {
    "deletable": false,
    "editable": false,
    "nbgrader": {
     "cell_type": "code",
     "checksum": "098879d758d65ef034efaa564515d800",
     "grade": false,
     "grade_id": "cell-3e0408460df294f6",
     "locked": true,
     "schema_version": 3,
     "solution": false,
     "task": false
    }
   },
   "outputs": [],
   "source": [
    "#   |'''''''''''''╔╬╬╬╬╬╬╬╬   _____  _____      _____  _____      ___   __\n",
    "#   |            ╔╬╬╬╬╬╬╬╬╬  |\\   _ \\  _  \\    |\\   _ \\  _  \\    |\\  \\|\\  \\\n",
    "#   | ░░         ╬╬╬╬╬╬╬╬╬╬  \\ \\  \\\\__\\ \\  \\   \\ \\  \\\\__\\ \\  \\   \\ \\  \\/  /|_\n",
    "#    ░░░░        ╬╬╬╬╬╬╬╬╬╬   \\ \\  \\|__| \\  \\   \\ \\  \\|__| \\  \\   \\ \\   ___  \\\n",
    "#   ░░░░░╦╬╦    ╔╬╬╬╬╬╬╬╬╬╬    \\ \\  \\   \\ \\  \\   \\ \\  \\   \\ \\  \\   \\ \\  \\ \\   \\\n",
    "#  ░░░░░╬╬╬╬ ▓▓└╬╬╬╬╬╬╬╬╬╬╬     \\ \\__\\   \\ \\__\\   \\ \\__\\   \\ \\__\\   \\ \\__\\ \\___\\\n",
    "# ░░░░░╔╬╬╬ ▓▓▓  ╓╬╬╬╬╬╬╬╬╬      \\|__|    \\|__|    \\|__|    \\|__|    \\|__| \\|__|\n",
    "# ░░░░░╠╬╬╬ ▓▓▓  └╬╬╬╬╬╬╬╬╬\n",
    "#  ░░░░└╬╬╬╬ ▓▓   ╬╬╬╬╬╬╬╬╬  Lehrstuhl für Mensch-Maschine-Kommunikation\n",
    "#  ░░░░░╙╬╬╬╩            ╬╬  Technische Universität München\n",
    "#   ░░░░░░╚ '''''''''''''''  Author: Tobias Watzel\n",
    "#    ░░░                     Copyright 2020\n",
    "#\n",
    "\n",
    "%matplotlib widget\n",
    "import cv2\n",
    "import sys\n",
    "import io\n",
    "import ipywidgets as widgets\n",
    "from IPython.display import Image\n",
    "from IPython.display import display, Markdown\n",
    "import PIL.Image\n",
    "import numpy as np \n",
    "import subprocess\n",
    "import graphviz\n",
    "from collections import Counter\n",
    "import dill"
   ]
  },
  {
   "cell_type": "code",
   "execution_count": null,
   "metadata": {},
   "outputs": [],
   "source": []
  },
  {
   "cell_type": "markdown",
   "metadata": {
    "deletable": false,
    "editable": false,
    "nbgrader": {
     "cell_type": "markdown",
     "checksum": "9ff0db6630e5e285311522d9649c3f03",
     "grade": false,
     "grade_id": "cell-3eef0a8f53494ac2",
     "locked": true,
     "schema_version": 3,
     "solution": false,
     "task": false
    }
   },
   "source": [
    "# Versuchsbeschreibung:\n",
    "In diesem Versuch soll das Datenkommpressionsverfahren nach Huffman veranschaulicht werden. Geben Sie hierzu ein längeres Wort oder einen kurzen Text in das Textfeld ein! Betrachten Sie anschließend die Huffman-Codierungstabelle und versuchen Sie, deren Entstehung anhand des Ihnen bekannten Huffman-Algorithmus nachzuvollziehen und zu überprüfen. Beachten Sie die erzielten Kompressionsraten und vergleichen Sie diese mit denen von professionellen Packern (rar,zip, etc.) bei Anwendung auf große Text-Dateien."
   ]
  },
  {
   "cell_type": "code",
   "execution_count": 13,
   "metadata": {
    "deletable": false,
    "editable": false,
    "nbgrader": {
     "cell_type": "code",
     "checksum": "a1a77312efd4701dfdeaec39a8a4639c",
     "grade": false,
     "grade_id": "cell-d041580b78681690",
     "locked": true,
     "schema_version": 3,
     "solution": false,
     "task": false
    }
   },
   "outputs": [
    {
     "data": {
      "application/vnd.jupyter.widget-view+json": {
       "model_id": "a9bb69447eef4ec68441b736b1dede33",
       "version_major": 2,
       "version_minor": 0
      },
      "text/plain": [
       "Image(value=b'\\x89PNG\\r\\n\\x1a\\n\\x00\\x00\\x00\\rIHDR\\x00\\x00\\x0c=\\x00\\x00\\x02{\\x08\\x02\\x00\\x00\\x00\\xd5\\x84\\x9c!\\x…"
      ]
     },
     "metadata": {},
     "output_type": "display_data"
    }
   ],
   "source": [
    "def draw_tree(tree, prefix = ''):    \n",
    "    if isinstance(tree, str):            \n",
    "        descr = 'N%s [label=\"%s: %s\", fontcolor=blue, fontsize=18, width=1, shape=box];\\n'%(prefix, tree.upper(), prefix)\n",
    "    else: # Node description\n",
    "        descr = 'N%s [label=\"%s\"];\\n'%(prefix, prefix)\n",
    "        for child in tree.keys():\n",
    "            descr += draw_tree(tree[child], prefix = prefix+child)\n",
    "            descr += 'N%s -> N%s;\\n'%(prefix,prefix+child)\n",
    "    return descr\n",
    "\n",
    "def convert_image(a, fmt='png'):\n",
    "    a = np.uint8(np.clip(a, 0, 255))\n",
    "    f = io.BytesIO()\n",
    "    PIL.Image.fromarray(a).save(f, fmt)\n",
    "    return f.getvalue()\n",
    "\n",
    "\n",
    "with open('images/graph.dot','w') as f:\n",
    "    f.write('digraph G {\\n')\n",
    "    f.write(draw_tree(tree))\n",
    "    f.write('}') \n",
    "subprocess.call('dot -Tpng images/graph.dot -o images/graph.png', shell=True)\n",
    "image1 = cv2.imread('images/graph.png')\n",
    "    \n",
    "image = widgets.Image(value=convert_image(image1), format='png', width=1500, height=1000)\n",
    "\n",
    "display(image)\n"
   ]
  },
  {
   "cell_type": "code",
   "execution_count": 14,
   "metadata": {
    "deletable": false,
    "editable": false,
    "nbgrader": {
     "cell_type": "code",
     "checksum": "c7e9b81d3bf6d9d15a84ad9951e0d6eb",
     "grade": false,
     "grade_id": "cell-ff3f3616eb47ba0c",
     "locked": true,
     "schema_version": 3,
     "solution": false,
     "task": false
    }
   },
   "outputs": [
    {
     "data": {
      "application/vnd.jupyter.widget-view+json": {
       "model_id": "a95aac4b42904e32a3e596e0045eab2c",
       "version_major": 2,
       "version_minor": 0
      },
      "text/plain": [
       "Text(value='Sprach- und Bildverarbeitung macht Spaß!', description='Zu enkodierenden Text eingeben:', layout=L…"
      ]
     },
     "metadata": {},
     "output_type": "display_data"
    },
    {
     "name": "stdout",
     "output_type": "stream",
     "text": [
      "Enkodierter Text: 1100111110101111011111100000111011100001001000111110011110100100000011100010101101111011011100100101010001100001001010011111010100110111111000001101110110011111011011010111000\n",
      "Dekodierter Text: Sprach- und Bildverarbeitung macht Spaß!\n",
      "Speicherplatz Text: 40 Byte (320 Bit)\n",
      "Speicherplatz enkodierter Text: 21 Byte (175 Bit)\n"
     ]
    }
   ],
   "source": [
    "# inspired by https://stackoverflow.com/questions/11587044/how-can-i-create-a-tree-for-huffman-encoding-and-decoding/12656695\n",
    "\n",
    "def assign_code(nodes, label, result, prefix = ''):    \n",
    "    childs = nodes[label]     \n",
    "    tree = {}\n",
    "    if len(childs) == 2:\n",
    "        tree['0'] = assign_code(nodes, childs[0], result, prefix+'0')\n",
    "        tree['1'] = assign_code(nodes, childs[1], result, prefix+'1')     \n",
    "        return tree\n",
    "    else:\n",
    "        result[label] = prefix\n",
    "        return label\n",
    "\n",
    "def huffman_code(_vals):    \n",
    "    vals = _vals.copy()\n",
    "    nodes = {}\n",
    "    for n in vals.keys():\n",
    "        nodes[n] = []\n",
    "\n",
    "    while len(vals) > 1: \n",
    "        s_vals = sorted(vals.items(), key=lambda x:x[1]) \n",
    "        a1 = s_vals[0][0]\n",
    "        a2 = s_vals[1][0]\n",
    "        vals[a1+a2] = vals.pop(a1) + vals.pop(a2)\n",
    "        nodes[a1+a2] = [a1, a2]        \n",
    "    code = {}\n",
    "    root = a1+a2\n",
    "    tree = {}\n",
    "    tree = assign_code(nodes, root, code)   # assignment of the code for the given binary tree      \n",
    "    return code, tree\n",
    "\n",
    "def change_input(change):\n",
    "    pass\n",
    "\n",
    "text = widgets.Text(value='Sprach- und Bildverarbeitung macht Spaß!', placeholder='Type something', description='Zu enkodierenden Text eingeben:', disabled=False, \n",
    "                    style = {'description_width': 'initial'}, layout = widgets.Layout(width = '700px'))\n",
    "display(text)\n",
    "\n",
    "vals = Counter(text.value)\n",
    "code, tree = huffman_code(vals)\n",
    "\n",
    "encoded = ''.join([code[t] for t in text.value])\n",
    "print('Enkodierter Text:', encoded)\n",
    "\n",
    "decoded = []\n",
    "i = 0\n",
    "while i < len(encoded): # decoding using the binary graph\n",
    "    ch = encoded[i]  \n",
    "    act = tree[ch]\n",
    "    while not isinstance(act, str):\n",
    "        i += 1\n",
    "        ch = encoded[i]  \n",
    "        act = act[ch]        \n",
    "    decoded.append(act)          \n",
    "    i += 1\n",
    "\n",
    "print('Dekodierter Text:',''.join(decoded))\n",
    "\n",
    "print('Speicherplatz Text: %i Byte (%i Bit)' % (len(text.value), len(text.value) * 8))\n",
    "print('Speicherplatz enkodierter Text: %i Byte (%i Bit)' % (len(encoded) / 8, len(encoded)))"
   ]
  },
  {
   "cell_type": "code",
   "execution_count": 15,
   "metadata": {},
   "outputs": [
    {
     "data": {
      "application/vnd.jupyter.widget-view+json": {
       "model_id": "f94b4c36077d43ff88fe4389b0934e56",
       "version_major": 2,
       "version_minor": 0
      },
      "text/plain": [
       "Text(value='Franz jagt im komplett verwahrlosten Taxi quer durch Bayern', description='Zu enkodierenden Text e…"
      ]
     },
     "metadata": {},
     "output_type": "display_data"
    },
    {
     "name": "stdout",
     "output_type": "stream",
     "text": [
      "Enkodierter Text: 101100001111101001011010111011101111101111010101110000100010111100001001010001110001100110000101010101111001000000111001111111010000110011100101101000101000010001111010111111101101000001111011110101000001011111000101010011110011010001111101011111110110000010100\n",
      "Dekodierter Text: Franz jagt im komplett verwahrlosten Taxi quer durch Bayern\n",
      "Speicherplatz Text: 59 Byte (472 Bit)\n",
      "Speicherplatz enkodierter Text: 32 Byte (261 Bit)\n"
     ]
    }
   ],
   "source": [
    "'''mine'''\n",
    "def assign_code(nodes, label, result, prefix = ''):    \n",
    "    childs = nodes[label]     \n",
    "    tree = {}\n",
    "    if len(childs) == 2:\n",
    "        tree['0'] = assign_code(nodes, childs[0], result, prefix+'0')\n",
    "        tree['1'] = assign_code(nodes, childs[1], result, prefix+'1')     \n",
    "        return tree\n",
    "    else:\n",
    "        result[label] = prefix\n",
    "        return label\n",
    "\n",
    "def huffman_code(_vals):    \n",
    "    vals = _vals.copy()\n",
    "    nodes = {}\n",
    "    for n in vals.keys():\n",
    "        nodes[n] = []\n",
    "\n",
    "    while len(vals) > 1: \n",
    "        s_vals = sorted(vals.items(), key=lambda x:x[1]) \n",
    "        a1 = s_vals[0][0]\n",
    "        a2 = s_vals[1][0]\n",
    "        vals[a1+a2] = vals.pop(a1) + vals.pop(a2)\n",
    "        nodes[a1+a2] = [a1, a2]        \n",
    "    code = {}\n",
    "    root = a1+a2\n",
    "    tree = {}\n",
    "    tree = assign_code(nodes, root, code)   # assignment of the code for the given binary tree      \n",
    "    return code, tree\n",
    "\n",
    "def change_input(change):\n",
    "    pass\n",
    "\n",
    "text = widgets.Text(value='Franz jagt im komplett verwahrlosten Taxi quer durch Bayern', placeholder='Type something', description='Zu enkodierenden Text eingeben:', disabled=False, \n",
    "                    style = {'description_width': 'initial'}, layout = widgets.Layout(width = '700px'))\n",
    "display(text)\n",
    "\n",
    "vals = Counter(text.value)\n",
    "code, tree = huffman_code(vals)\n",
    "\n",
    "encoded = ''.join([code[t] for t in text.value])\n",
    "print('Enkodierter Text:', encoded)\n",
    "\n",
    "decoded = []\n",
    "i = 0\n",
    "while i < len(encoded): # decoding using the binary graph\n",
    "    ch = encoded[i]  \n",
    "    act = tree[ch]\n",
    "    while not isinstance(act, str):\n",
    "        i += 1\n",
    "        ch = encoded[i]  \n",
    "        act = act[ch]        \n",
    "    decoded.append(act)          \n",
    "    i += 1\n",
    "\n",
    "print('Dekodierter Text:',''.join(decoded))\n",
    "\n",
    "print('Speicherplatz Text: %i Byte (%i Bit)' % (len(text.value), len(text.value) * 8))\n",
    "print('Speicherplatz enkodierter Text: %i Byte (%i Bit)' % (len(encoded) / 8, len(encoded)))"
   ]
  },
  {
   "cell_type": "markdown",
   "metadata": {
    "deletable": false,
    "editable": false,
    "nbgrader": {
     "cell_type": "markdown",
     "checksum": "38016c78efed442c8082d7da9b3e87d2",
     "grade": false,
     "grade_id": "cell-2682af5f3812497c",
     "locked": true,
     "schema_version": 3,
     "solution": false,
     "task": false
    }
   },
   "source": [
    "### 1. Auf wieviel Prozent reduziert sich der Speicherbedarf bei Huffman-Kodierung des Wortes \"Mississippi\"?"
   ]
  },
  {
   "cell_type": "code",
   "execution_count": 16,
   "metadata": {
    "deletable": false,
    "editable": false,
    "nbgrader": {
     "cell_type": "code",
     "checksum": "293f3d0fd9f0030470539526a46bbb7c",
     "grade": false,
     "grade_id": "cell-614a1e86be7946db",
     "locked": true,
     "schema_version": 3,
     "solution": false,
     "task": false
    }
   },
   "outputs": [
    {
     "data": {
      "application/vnd.jupyter.widget-view+json": {
       "model_id": "b4487eea28714da883359bd6b2ea6e3e",
       "version_major": 2,
       "version_minor": 0
      },
      "text/plain": [
       "HBox(children=(Text(value='27', placeholder=''), Label(value='% gerundet ohne Nachkommastellen ')))"
      ]
     },
     "metadata": {},
     "output_type": "display_data"
    }
   ],
   "source": [
    "save_mississippi = 'save/size_mississippi.dill'\n",
    "\n",
    "size_mississippi = ''\n",
    "# try to load precicion value\n",
    "try: \n",
    "    with open(save_mississippi, 'rb') as fp:\n",
    "        size_mississippi = dill.load(fp)\n",
    "        if size_mississippi == '':\n",
    "            size_mississippi = 0.0\n",
    "except:\n",
    "    pass\n",
    "\n",
    "text_size_mississippi = widgets.Text(value=str(size_mississippi),\n",
    "                              placeholder='',\n",
    "                              description='',\n",
    "                              disabled=False,\n",
    "                              continuous_update=True)\n",
    "\n",
    "def callback_size_mississippi(change):\n",
    "    if change['type'] == 'change' and change['name'] == 'value':\n",
    "        # save when press enter\n",
    "        with open(save_mississippi, 'wb') as fp:\n",
    "            dill.dump(change['new'], fp)\n",
    "\n",
    "\n",
    "text_size_mississippi.observe(callback_size_mississippi)\n",
    "\n",
    "label = widgets.Label(value = '% gerundet ohne Nachkommastellen ')\n",
    "display(widgets.HBox([text_size_mississippi, label]))"
   ]
  },
  {
   "cell_type": "code",
   "execution_count": 17,
   "metadata": {
    "deletable": false,
    "editable": false,
    "nbgrader": {
     "cell_type": "code",
     "checksum": "0e8540e52364ebc6bba904ae0af23bd9",
     "grade": true,
     "grade_id": "cell-15b2fe1231ed4fe3",
     "locked": true,
     "points": 1,
     "schema_version": 3,
     "solution": false,
     "task": false
    }
   },
   "outputs": [],
   "source": [
    "# Autograding answer, please ignore\n"
   ]
  },
  {
   "cell_type": "markdown",
   "metadata": {
    "deletable": false,
    "editable": false,
    "nbgrader": {
     "cell_type": "markdown",
     "checksum": "63a9f51b5eebe920245b32f1e5dc3ba3",
     "grade": false,
     "grade_id": "cell-34aa62212edb55b2",
     "locked": true,
     "schema_version": 3,
     "solution": false,
     "task": false
    }
   },
   "source": [
    "### 2. Auf wieviel Prozent reduziert sich der Speicherbedarf bei Huffman-Kodierung von \"Franz jagt im komplett verwahrlosten Taxi quer durch Bayern\" ?"
   ]
  },
  {
   "cell_type": "code",
   "execution_count": 18,
   "metadata": {
    "deletable": false,
    "editable": false,
    "nbgrader": {
     "cell_type": "code",
     "checksum": "edbdc612eb15fb946550aae602e56ca1",
     "grade": false,
     "grade_id": "cell-916ad83ffddedf11",
     "locked": true,
     "schema_version": 3,
     "solution": false,
     "task": false
    }
   },
   "outputs": [
    {
     "data": {
      "application/vnd.jupyter.widget-view+json": {
       "model_id": "629cbd04b3a547cfaa6ac0bb0cbf7fa5",
       "version_major": 2,
       "version_minor": 0
      },
      "text/plain": [
       "HBox(children=(Text(value='56', placeholder=''), Label(value='% gerundet ohne Nachkommastellen ')))"
      ]
     },
     "metadata": {},
     "output_type": "display_data"
    }
   ],
   "source": [
    "save_franz = 'save/size_franz.dill'\n",
    "\n",
    "size_franz = ''\n",
    "# try to load precicion value\n",
    "try: \n",
    "    with open(save_franz, 'rb') as fp:\n",
    "        size_franz = dill.load(fp)\n",
    "        if size_franz == '':\n",
    "            size_franz = 0.0\n",
    "except:\n",
    "    pass\n",
    "\n",
    "text_size_franz = widgets.Text(value=str(size_franz),\n",
    "                              placeholder='',\n",
    "                              description='',\n",
    "                              disabled=False,\n",
    "                              continuous_update=True)\n",
    "\n",
    "def callback_size_franz(change):\n",
    "    if change['type'] == 'change' and change['name'] == 'value':\n",
    "        # save when press enter\n",
    "        with open(save_franz, 'wb') as fp:\n",
    "            dill.dump(change['new'], fp)\n",
    "\n",
    "\n",
    "text_size_franz.observe(callback_size_franz)\n",
    "\n",
    "label = widgets.Label(value = '% gerundet ohne Nachkommastellen ')\n",
    "display(widgets.HBox([text_size_franz, label]))"
   ]
  },
  {
   "cell_type": "code",
   "execution_count": 19,
   "metadata": {
    "deletable": false,
    "editable": false,
    "nbgrader": {
     "cell_type": "code",
     "checksum": "d6028956583890b51d2ae749d11bdb7b",
     "grade": true,
     "grade_id": "cell-7e25aa38f94a001d",
     "locked": true,
     "points": 1,
     "schema_version": 3,
     "solution": false,
     "task": false
    }
   },
   "outputs": [],
   "source": [
    "# Autograding answer, please ignore\n"
   ]
  },
  {
   "cell_type": "code",
   "execution_count": null,
   "metadata": {},
   "outputs": [],
   "source": []
  },
  {
   "cell_type": "code",
   "execution_count": null,
   "metadata": {},
   "outputs": [],
   "source": []
  }
 ],
 "metadata": {
  "kernelspec": {
   "display_name": "Python 3",
   "language": "python",
   "name": "python3"
  },
  "language_info": {
   "codemirror_mode": {
    "name": "ipython",
    "version": 3
   },
   "file_extension": ".py",
   "mimetype": "text/x-python",
   "name": "python",
   "nbconvert_exporter": "python",
   "pygments_lexer": "ipython3",
   "version": "3.7.7"
  }
 },
 "nbformat": 4,
 "nbformat_minor": 4
}
