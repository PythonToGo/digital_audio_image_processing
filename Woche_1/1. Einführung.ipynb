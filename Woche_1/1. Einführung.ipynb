{
 "cells": [
  {
   "cell_type": "code",
   "execution_count": 1,
   "metadata": {
    "deletable": false,
    "editable": false,
    "nbgrader": {
     "cell_type": "code",
     "checksum": "da7ee4fcfd3e4c567b1d836f79754bce",
     "grade": false,
     "grade_id": "cell-1d542ad94311af96",
     "locked": true,
     "schema_version": 3,
     "solution": false,
     "task": false
    },
    "pycharm": {
     "is_executing": false
    }
   },
   "outputs": [],
   "source": [
    "#   |'''''''''''''╔╬╬╬╬╬╬╬╬   _____  _____      _____  _____      ___   __\n",
    "#   |            ╔╬╬╬╬╬╬╬╬╬  |\\   _ \\  _  \\    |\\   _ \\  _  \\    |\\  \\|\\  \\\n",
    "#   | ░░         ╬╬╬╬╬╬╬╬╬╬  \\ \\  \\\\__\\ \\  \\   \\ \\  \\\\__\\ \\  \\   \\ \\  \\/  /|_\n",
    "#    ░░░░        ╬╬╬╬╬╬╬╬╬╬   \\ \\  \\|__| \\  \\   \\ \\  \\|__| \\  \\   \\ \\   ___  \\\n",
    "#   ░░░░░╦╬╦    ╔╬╬╬╬╬╬╬╬╬╬    \\ \\  \\   \\ \\  \\   \\ \\  \\   \\ \\  \\   \\ \\  \\ \\   \\\n",
    "#  ░░░░░╬╬╬╬ ▓▓└╬╬╬╬╬╬╬╬╬╬╬     \\ \\__\\   \\ \\__\\   \\ \\__\\   \\ \\__\\   \\ \\__\\ \\___\\\n",
    "# ░░░░░╔╬╬╬ ▓▓▓  ╓╬╬╬╬╬╬╬╬╬      \\|__|    \\|__|    \\|__|    \\|__|    \\|__| \\|__|\n",
    "# ░░░░░╠╬╬╬ ▓▓▓  └╬╬╬╬╬╬╬╬╬\n",
    "#  ░░░░└╬╬╬╬ ▓▓   ╬╬╬╬╬╬╬╬╬  Lehrstuhl für Mensch-Maschine-Kommunikation\n",
    "#  ░░░░░╙╬╬╬╩            ╬╬  Technische Universität München\n",
    "#   ░░░░░░╚ '''''''''''''''  Author: Tobias Watzel\n",
    "#    ░░░                     Copyright 2020\n",
    "#\n",
    "\n",
    "%matplotlib widget\n",
    "import ipywidgets as widgets\n",
    "import numpy as np\n",
    "import dill\n",
    "from IPython.display import Image\n",
    "import matplotlib.pyplot as plt\n",
    "from matplotlib.pyplot import figure\n",
    "\n",
    "# init fig for matplotlib\n",
    "fig, ax = None, None"
   ]
  },
  {
   "cell_type": "markdown",
   "metadata": {
    "deletable": false,
    "editable": false,
    "nbgrader": {
     "cell_type": "markdown",
     "checksum": "36a9e4aaf8569ccfe970ffe6f1955a20",
     "grade": false,
     "grade_id": "cell-6f1311f06f772706",
     "locked": true,
     "schema_version": 3,
     "solution": false,
     "task": false
    },
    "pycharm": {
     "is_executing": false,
     "name": "#%% md\n"
    }
   },
   "source": [
    "## Unten werden verschiedene Klassen beschrieben. Wählen Sie eine Klasse aus und markieren Sie die Muster, die zur Klasse gehören."
   ]
  },
  {
   "cell_type": "code",
   "execution_count": 2,
   "metadata": {
    "deletable": false,
    "editable": false,
    "nbgrader": {
     "cell_type": "code",
     "checksum": "c18097fe13d0833058086d9239f1e9d0",
     "grade": false,
     "grade_id": "cell-af2377e44f029dd8",
     "locked": true,
     "schema_version": 3,
     "solution": false,
     "task": false
    },
    "pycharm": {
     "name": "#%%\n"
    }
   },
   "outputs": [
    {
     "data": {
      "application/vnd.jupyter.widget-view+json": {
       "model_id": "9e5b822a477d421abad89a84c780c199",
       "version_major": 2,
       "version_minor": 0
      },
      "text/plain": [
       "Dropdown(description='Klasse auswählen:', layout=Layout(width='450px'), options=('Summe von W1 und W2 größer a…"
      ]
     },
     "metadata": {},
     "output_type": "display_data"
    },
    {
     "data": {
      "application/vnd.jupyter.widget-view+json": {
       "model_id": "dd3c9aa805414f47b14edde86681bdee",
       "version_major": 2,
       "version_minor": 0
      },
      "text/plain": [
       "Box(children=(Box(children=(Label(value='W2:6', layout=Layout(width='35px')), Button(button_style='warning', l…"
      ]
     },
     "metadata": {},
     "output_type": "display_data"
    }
   ],
   "source": [
    "select = widgets.Dropdown(\n",
    "    options=['Summe von W1 und W2 größer als 8', 'W1 ist größer als W2', 'Das Produkt von W1 und W2 ist durch 3 teilbar', 'W1 und W2 sind größer als 3'],\n",
    "    value='Summe von W1 und W2 größer als 8',\n",
    "    description='Klasse auswählen:',\n",
    "    layout={'width': '450px'},\n",
    "    style={'description_width': '130px'},\n",
    "    disabled=False,\n",
    ")\n",
    "\n",
    "box_layout = widgets.Layout(#display='flex',\n",
    "                    #flex_flow='column',\n",
    "                    position='relative',\n",
    "                    #align_items='stretch',\n",
    "                    height='32px',\n",
    "                    width='250px'\n",
    "                    )\n",
    "bigbox_layout = widgets.Layout(#display='flex',\n",
    "                    flex_flow='column',\n",
    "                    position='relative',\n",
    "                    #align_items='stretch',\n",
    "                    height='250px',\n",
    "                    width='250px'\n",
    "                    )\n",
    "\n",
    "# init state dict for saving status\n",
    "save_string = 'save/state_dict_1.dill'\n",
    "state_dict = {}\n",
    "\n",
    "# try to load state_dict\n",
    "try: \n",
    "    with open(save_string, 'rb') as fp:\n",
    "        state_dict = dill.load(fp)\n",
    "except:\n",
    "    # init otherwise\n",
    "    for option in select.options:\n",
    "        state_dict[option] = np.zeros([6, 6])\n",
    "\n",
    "# init variables\n",
    "x, y = state_dict[list(state_dict.keys())[0]].shape\n",
    "button_dict = {}\n",
    "items_dict = {}\n",
    "box_list = []\n",
    "\n",
    "# item dict\n",
    "for i in range(x-1, -1, -1):\n",
    "    items_dict['item%i' % i] = [widgets.Label(value=\"W2:%i\" % (i+1), layout={'width': '35px'})]\n",
    "    for j in range(y):\n",
    "        button_dict['button_%i_%i' % (i, j)] = widgets.Button(\n",
    "            button_style='warning', # 'success', 'info', 'warning', 'danger' or ''\n",
    "            layout={'width': '30px', 'height': '30px', 'display' : '%i_%i' % (i, j)},\n",
    "            discription = '%i,%i' % (i, j))\n",
    "        \n",
    "        # init button\n",
    "        if state_dict[select.value][i, j]:\n",
    "            button_dict['button_%i_%i' % (i, j)].button_style = 'success'\n",
    "        else:\n",
    "            button_dict['button_%i_%i' % (i, j)].button_style = 'warning'\n",
    "        \n",
    "        items_dict['item%i' % i].append(button_dict['button_%i_%i' % (i, j)])\n",
    "    box_list.append(widgets.Box(children=items_dict['item%i' % i], layout=box_layout))    \n",
    "\n",
    "# on_button_click function\n",
    "def on_button_clicked(info):\n",
    "    id = info.layout.display\n",
    "    index = id.split('_')\n",
    "    if info.button_style == 'success':\n",
    "        info.button_style = 'warning'\n",
    "        state_dict[select.value][int(index[0]), int(index[1])] = 0 # -1 because the array index start with 0 \n",
    "    else:\n",
    "        info.button_style = 'success'\n",
    "        state_dict[select.value][int(index[0]), int(index[1])] = 1\n",
    "    \n",
    "    # save when changed\n",
    "    with open(save_string, 'wb') as fp:\n",
    "        dill.dump(state_dict, fp)\n",
    "        \n",
    "def on_change(change):\n",
    "    if change['type'] == 'change' and change['name'] == 'value':\n",
    "        for k in range(x):\n",
    "            for l in range(y):\n",
    "                if state_dict[change['new']][k, l]:\n",
    "                    button_dict['button_%i_%i' % (k, l)].button_style = 'success'\n",
    "                else:\n",
    "                    button_dict['button_%i_%i' % (k, l)].button_style = 'warning'\n",
    "        \n",
    "# create x axis\n",
    "x_axis = [widgets.Label(value=\"W1:%i\" % i, layout={'width': '35px'}) for i in range(1, 7)]\n",
    "x_axis.insert(0, widgets.Label(value=\"\", layout={'width': '35px'}))\n",
    "\n",
    "box_axis = widgets.Box(children=x_axis, layout=box_layout)\n",
    "\n",
    "# add axis to the overall box\n",
    "box_list.append(box_axis)\n",
    "\n",
    "# create widget box\n",
    "box = widgets.Box(children=box_list, layout=bigbox_layout)\n",
    "\n",
    "# display everything\n",
    "display(select)\n",
    "display(box)\n",
    "\n",
    "# add on_button_clicked function\n",
    "for name, item in items_dict.items():\n",
    "    for box in item:\n",
    "        try:\n",
    "            box.on_click(on_button_clicked)\n",
    "        except:\n",
    "            pass\n",
    "            # print('this is not a button but a label')\n",
    "\n",
    "select.observe(on_change)"
   ]
  },
  {
   "cell_type": "code",
   "execution_count": 3,
   "metadata": {
    "deletable": false,
    "editable": false,
    "nbgrader": {
     "cell_type": "code",
     "checksum": "c11750123e70ac0385bc335de443f9d5",
     "grade": true,
     "grade_id": "cell-524a5ccbffb27fd5",
     "locked": true,
     "points": 1,
     "schema_version": 3,
     "solution": false,
     "task": false
    }
   },
   "outputs": [],
   "source": [
    "# Autograding 'Summe von W1 und W2 größer als 8', please ignore\n"
   ]
  },
  {
   "cell_type": "code",
   "execution_count": 4,
   "metadata": {
    "deletable": false,
    "editable": false,
    "nbgrader": {
     "cell_type": "code",
     "checksum": "b92c52bb7f2a9aa74d3431baeb3730d8",
     "grade": true,
     "grade_id": "cell-de4b081f73028012",
     "locked": true,
     "points": 1,
     "schema_version": 3,
     "solution": false,
     "task": false
    }
   },
   "outputs": [],
   "source": [
    "# Autograding 'W1 ist größer als W2', please ignore\n"
   ]
  },
  {
   "cell_type": "code",
   "execution_count": 5,
   "metadata": {
    "deletable": false,
    "editable": false,
    "nbgrader": {
     "cell_type": "code",
     "checksum": "9bd4bca99e69b39bf900557266f1ac18",
     "grade": true,
     "grade_id": "cell-e6bdfd5bef46db7a",
     "locked": true,
     "points": 1,
     "schema_version": 3,
     "solution": false,
     "task": false
    }
   },
   "outputs": [],
   "source": [
    "# Autograding 'Das Produkt von W1 und W2 ist durch 3 teilbar', please ignore\n"
   ]
  },
  {
   "cell_type": "code",
   "execution_count": 6,
   "metadata": {
    "deletable": false,
    "editable": false,
    "nbgrader": {
     "cell_type": "code",
     "checksum": "f6e893059105d92b8cdabcd848e6c3a1",
     "grade": true,
     "grade_id": "cell-b5e4ee5e30efd721",
     "locked": true,
     "points": 1,
     "schema_version": 3,
     "solution": false,
     "task": false
    }
   },
   "outputs": [],
   "source": [
    "# Autograding 'W1 und W2 sind größer als 3', please ignore\n"
   ]
  },
  {
   "cell_type": "code",
   "execution_count": 12,
   "metadata": {
    "deletable": false,
    "editable": false,
    "nbgrader": {
     "cell_type": "code",
     "checksum": "ad42dc7e9be6c4cda577c2cbd64b77e8",
     "grade": false,
     "grade_id": "cell-68be7b7b3e690edc",
     "locked": true,
     "schema_version": 3,
     "solution": false,
     "task": false
    },
    "pycharm": {
     "is_executing": false
    }
   },
   "outputs": [
    {
     "data": {
      "application/vnd.jupyter.widget-view+json": {
       "model_id": "2c9ff9e98d6040a1b2a8f98d6b90ee72",
       "version_major": 2,
       "version_minor": 0
      },
      "text/plain": [
       "Canvas(toolbar=Toolbar(toolitems=[('Home', 'Reset original view', 'home', 'home'), ('Back', 'Back to previous …"
      ]
     },
     "metadata": {},
     "output_type": "display_data"
    },
    {
     "data": {
      "text/plain": [
       "Text(8, 4.5, 'False negatives: 0')"
      ]
     },
     "execution_count": 12,
     "metadata": {},
     "output_type": "execute_result"
    }
   ],
   "source": [
    "# close old figure if avaible\n",
    "if fig:\n",
    "    plt.close()\n",
    "# check if patterns are selected\n",
    "assert np.sum(state_dict[select.value]) != 0, \"Bitte mindestens ein Muster oben auswählen\"\n",
    "# get 1 = red coordinates from state_dict\n",
    "r_x, r_y = np.where(state_dict[select.value] == 1)\n",
    "# matrix to coordinates transition\n",
    "r_x += 1 \n",
    "r_y += 1\n",
    "red = list(zip(r_x, r_y))\n",
    "\n",
    "# get 0 = blue coordinates from state_dict\n",
    "b_x, b_y = np.where(state_dict[select.value] == 0)\n",
    "# matrix to coordinates transition\n",
    "b_x += 1 \n",
    "b_y += 1\n",
    "blue = list(zip(b_x, b_y))\n",
    "\n",
    "# define figure\n",
    "fig = plt.figure(figsize=(8, 6))\n",
    "ax1 = fig.add_subplot(111)\n",
    "\n",
    "# plot everything\n",
    "#plt.rcParams[\"figure.figsize\"] = (8, 6)\n",
    "ax1.plot(r_x, r_y, 'ro', color = 'r', markersize = 15)\n",
    "ax1.plot(b_x, b_y, 'ro', color = 'b', markersize = 15)\n",
    "ax1.set_aspect('equal')\n",
    "#plt.gca().set_aspect('equal')\n",
    "ax1.axis([0, 13, 0, 7])\n",
    "plt.ion()\n",
    "plt.tight_layout()\n",
    "\n",
    "# create class mean red\n",
    "r_x_mean, r_y_mean = np.mean(red, axis=0)\n",
    "ax1.plot(r_x_mean, r_y_mean, 'x', color = 'r', markersize = 35)\n",
    "# create class mean blue\n",
    "b_x_mean, b_y_mean = np.mean(blue, axis=0)\n",
    "ax1.plot(b_x_mean, b_y_mean, 'x', color = 'b', markersize = 35)\n",
    "\n",
    "# calculate slope and b\n",
    "m = (r_x_mean - b_x_mean) / (b_y_mean - r_y_mean)\n",
    "b = (r_y_mean + b_y_mean) / 2 - m * (r_x_mean + b_x_mean) / 2\n",
    "\n",
    "# create separation line\n",
    "x_line = np.linspace(0, 7)\n",
    "y_line = m * x_line + b\n",
    "ax1.plot(x_line, y_line, color = 'k')\n",
    "\n",
    "# check reclassification  \n",
    "check_red = r_y - m * r_x - b\n",
    "check_blue = b_y - m * b_x - b\n",
    "\n",
    "# calculate error of reclassification\n",
    "false_pos_rec = np.where(check_blue >= 0.0)\n",
    "true_neg_rec = np.where(check_blue < 0.0)\n",
    "false_neg_rec = np.where(check_red < 0.0)\n",
    "true_pos_rec = np.where(check_red >= 0.0)\n",
    "\n",
    "# plot wrongly classified samples \n",
    "ax1.plot(b_x[false_pos_rec], b_y[false_pos_rec], 'bo', color = 'b', markersize = 15, markeredgecolor='red')\n",
    "ax1.plot(r_x[false_neg_rec], r_y[false_neg_rec], 'ro', color = 'r', markersize = 15, markeredgecolor='blue')\n",
    "\n",
    "# calculate right recognition, false positives and false negatives\n",
    "right_rec = state_dict[select.value].size - len(false_pos_rec[0]) - len(false_neg_rec[0])\n",
    "\n",
    "# plot text\n",
    "font = {'family': 'serif',\n",
    "        'color':  'black',\n",
    "        'weight': 'normal',\n",
    "        'size': 16,\n",
    "        }\n",
    "\n",
    "plt.xticks(np.arange(0, 7, 1.0))\n",
    "ax1.text(8, 6, 'True positives: %d' % len(true_pos_rec[0]), fontdict=font)\n",
    "ax1.text(8, 5.5, 'True negatives: %d' % len(true_neg_rec[0]), fontdict=font)\n",
    "ax1.text(8, 5, 'False positives: %d' % len(false_pos_rec[0]), fontdict=font)\n",
    "ax1.text(8, 4.5, 'False negatives: %d' % len(false_neg_rec[0]), fontdict=font)"
   ]
  },
  {
   "cell_type": "markdown",
   "metadata": {
    "deletable": false,
    "editable": false,
    "nbgrader": {
     "cell_type": "markdown",
     "checksum": "9d21d887091436b0aeeea879cc75b0be",
     "grade": false,
     "grade_id": "cell-cbca83a56607827e",
     "locked": true,
     "schema_version": 3,
     "solution": false,
     "task": false
    }
   },
   "source": [
    "##  1. Wählen Sie die Klasse \"Das Produkt von W1 und W2 ist durch 3 teilbar\". \n",
    "Es findet eine automatisierte Nearest-Mean-Klassifikation statt. Bestimmen Sie den Precision-Wert."
   ]
  },
  {
   "cell_type": "code",
   "execution_count": 8,
   "metadata": {
    "deletable": false,
    "editable": false,
    "nbgrader": {
     "cell_type": "code",
     "checksum": "365ce43c0c14b12789a4b5b46c6c5cab",
     "grade": false,
     "grade_id": "cell-4e482e3693b627ec",
     "locked": true,
     "schema_version": 3,
     "solution": false,
     "task": false
    },
    "pycharm": {
     "is_executing": false
    }
   },
   "outputs": [
    {
     "data": {
      "application/vnd.jupyter.widget-view+json": {
       "model_id": "a88136cef7644abb85e5b24e67ddb685",
       "version_major": 2,
       "version_minor": 0
      },
      "text/plain": [
       "Text(value='0.5', placeholder='')"
      ]
     },
     "metadata": {},
     "output_type": "display_data"
    }
   ],
   "source": [
    "save_precision = 'save/precision.dill'\n",
    "\n",
    "precision = ''\n",
    "# try to load precicion value\n",
    "try: \n",
    "    with open(save_precision, 'rb') as fp:\n",
    "        precision = dill.load(fp)\n",
    "        if precision == '':\n",
    "            precision = 0.0\n",
    "except:\n",
    "    pass\n",
    "\n",
    "text_precision = widgets.Text(value=str(precision),\n",
    "                              placeholder='',\n",
    "                              description='',\n",
    "                              disabled=False,\n",
    "                              continuous_update=True)\n",
    "\n",
    "def callback_precision(change):\n",
    "    if change['type'] == 'change' and change['name'] == 'value':\n",
    "        # save when press enter\n",
    "        with open(save_precision, 'wb') as fp:\n",
    "            dill.dump(change['new'], fp)\n",
    "\n",
    "display(text_precision)\n",
    "\n",
    "text_precision.observe(callback_precision)"
   ]
  },
  {
   "cell_type": "code",
   "execution_count": 9,
   "metadata": {
    "deletable": false,
    "editable": false,
    "nbgrader": {
     "cell_type": "code",
     "checksum": "d3756c652d2f1f5d862df98c9d26cff0",
     "grade": true,
     "grade_id": "cell-3c6cb3b09a7b1a3a",
     "locked": true,
     "points": 1,
     "schema_version": 3,
     "solution": false,
     "task": false
    }
   },
   "outputs": [],
   "source": [
    "# Autograding Precision-Wert\n"
   ]
  },
  {
   "cell_type": "markdown",
   "metadata": {
    "deletable": false,
    "editable": false,
    "nbgrader": {
     "cell_type": "markdown",
     "checksum": "fba8e054022e87a8928fbe94987ac428",
     "grade": false,
     "grade_id": "cell-abf7eef867240c05",
     "locked": true,
     "schema_version": 3,
     "solution": false,
     "task": false
    }
   },
   "source": [
    "Trennen Sie die Nachkommastellen bitte durch einen Punkt ab und runden Sie auf zwei Kommastellen genau.) "
   ]
  },
  {
   "cell_type": "markdown",
   "metadata": {
    "deletable": false,
    "editable": false,
    "nbgrader": {
     "cell_type": "markdown",
     "checksum": "6e8b8ba45030a42214bd2b330eac1b67",
     "grade": false,
     "grade_id": "cell-f29893a0c0b6d9fb",
     "locked": true,
     "schema_version": 3,
     "solution": false,
     "task": false
    }
   },
   "source": [
    "## 2. Bestimmen Sie den Recall-Wert. (Gleiche Klasse wie oben.)"
   ]
  },
  {
   "cell_type": "code",
   "execution_count": 10,
   "metadata": {
    "deletable": false,
    "editable": false,
    "nbgrader": {
     "cell_type": "code",
     "checksum": "58272476fce5f9115ede624afbf6a00c",
     "grade": false,
     "grade_id": "cell-7f26cdecd71b2634",
     "locked": true,
     "schema_version": 3,
     "solution": false,
     "task": false
    },
    "pycharm": {
     "is_executing": false,
     "name": "#%%\n"
    }
   },
   "outputs": [
    {
     "data": {
      "application/vnd.jupyter.widget-view+json": {
       "model_id": "95f106b4d4c5482caf32e37fe7b3ca4a",
       "version_major": 2,
       "version_minor": 0
      },
      "text/plain": [
       "Text(value='0.3', placeholder='')"
      ]
     },
     "metadata": {},
     "output_type": "display_data"
    }
   ],
   "source": [
    "save_recall = 'save/recall.dill'\n",
    "\n",
    "recall = ''\n",
    "# try to load precicion value\n",
    "try: \n",
    "    with open(save_recall, 'rb') as fp:\n",
    "        recall = dill.load(fp)\n",
    "        if recall == '':\n",
    "            recall = 0.0\n",
    "except:\n",
    "    pass\n",
    "\n",
    "text_recall = widgets.Text(value=str(recall),\n",
    "                           placeholder='',\n",
    "                           description='',\n",
    "                           disabled=False,\n",
    "                           continuous_update=True)\n",
    "\n",
    "display(text_recall)\n",
    "\n",
    "def callback_recall(change):\n",
    "    if change['type'] == 'change' and change['name'] == 'value':\n",
    "        # save when press enter\n",
    "        with open(save_recall, 'wb') as fp:\n",
    "            dill.dump(change['new'], fp)\n",
    "\n",
    "text_recall.observe(callback_recall)"
   ]
  },
  {
   "cell_type": "markdown",
   "metadata": {
    "deletable": false,
    "editable": false,
    "nbgrader": {
     "cell_type": "markdown",
     "checksum": "37ef9bfa389d250fe640be11c62dad29",
     "grade": false,
     "grade_id": "cell-cc8155a2ad544bbd",
     "locked": true,
     "schema_version": 3,
     "solution": false,
     "task": false
    }
   },
   "source": [
    "Trennen Sie die Nachkommastellen bitte durch einen Punkt ab und runden Sie auf zwei Kommastellen genau.) "
   ]
  },
  {
   "cell_type": "code",
   "execution_count": 11,
   "metadata": {
    "deletable": false,
    "editable": false,
    "nbgrader": {
     "cell_type": "code",
     "checksum": "097b581412eccfaf541b7fe1e56a5eb6",
     "grade": true,
     "grade_id": "cell-09f7a31f9047eda9",
     "locked": true,
     "points": 1,
     "schema_version": 3,
     "solution": false,
     "task": false
    },
    "pycharm": {
     "is_executing": false
    }
   },
   "outputs": [],
   "source": [
    "# Autograding Recall-Wert\n"
   ]
  }
 ],
 "metadata": {
  "kernelspec": {
   "display_name": "Python 3",
   "language": "python",
   "name": "python3"
  },
  "language_info": {
   "codemirror_mode": {
    "name": "ipython",
    "version": 3
   },
   "file_extension": ".py",
   "mimetype": "text/x-python",
   "name": "python",
   "nbconvert_exporter": "python",
   "pygments_lexer": "ipython3",
   "version": "3.7.7"
  },
  "pycharm": {
   "stem_cell": {
    "cell_type": "raw",
    "metadata": {
     "collapsed": false
    },
    "source": []
   }
  }
 },
 "nbformat": 4,
 "nbformat_minor": 4
}
