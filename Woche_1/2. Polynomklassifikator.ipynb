{
 "cells": [
  {
   "cell_type": "code",
   "execution_count": 1,
   "metadata": {
    "deletable": false,
    "editable": false,
    "nbgrader": {
     "cell_type": "code",
     "checksum": "93bd4fb80b46d72526db882a58974925",
     "grade": false,
     "grade_id": "cell-d1cfa36ff8b20b34",
     "locked": true,
     "schema_version": 3,
     "solution": false,
     "task": false
    },
    "pycharm": {
     "is_executing": false
    }
   },
   "outputs": [],
   "source": [
    "#   |'''''''''''''╔╬╬╬╬╬╬╬╬   _____  _____      _____  _____      ___   __\n",
    "#   |            ╔╬╬╬╬╬╬╬╬╬  |\\   _ \\  _  \\    |\\   _ \\  _  \\    |\\  \\|\\  \\\n",
    "#   | ░░         ╬╬╬╬╬╬╬╬╬╬  \\ \\  \\\\__\\ \\  \\   \\ \\  \\\\__\\ \\  \\   \\ \\  \\/  /|_\n",
    "#    ░░░░        ╬╬╬╬╬╬╬╬╬╬   \\ \\  \\|__| \\  \\   \\ \\  \\|__| \\  \\   \\ \\   ___  \\\n",
    "#   ░░░░░╦╬╦    ╔╬╬╬╬╬╬╬╬╬╬    \\ \\  \\   \\ \\  \\   \\ \\  \\   \\ \\  \\   \\ \\  \\ \\   \\\n",
    "#  ░░░░░╬╬╬╬ ▓▓└╬╬╬╬╬╬╬╬╬╬╬     \\ \\__\\   \\ \\__\\   \\ \\__\\   \\ \\__\\   \\ \\__\\ \\___\\\n",
    "# ░░░░░╔╬╬╬ ▓▓▓  ╓╬╬╬╬╬╬╬╬╬      \\|__|    \\|__|    \\|__|    \\|__|    \\|__| \\|__|\n",
    "# ░░░░░╠╬╬╬ ▓▓▓  └╬╬╬╬╬╬╬╬╬\n",
    "#  ░░░░└╬╬╬╬ ▓▓   ╬╬╬╬╬╬╬╬╬  Lehrstuhl für Mensch-Maschine-Kommunikation\n",
    "#  ░░░░░╙╬╬╬╩            ╬╬  Technische Universität München\n",
    "#   ░░░░░░╚ '''''''''''''''  Author: Tobias Watzel\n",
    "#    ░░░                     Copyright 2020\n",
    "#\n",
    "\n",
    "%matplotlib widget\n",
    "import ipywidgets as widgets\n",
    "import matplotlib.pyplot as plt\n",
    "from matplotlib import rc\n",
    "import numpy as np\n",
    "import operator\n",
    "import dill"
   ]
  },
  {
   "cell_type": "markdown",
   "metadata": {
    "deletable": false,
    "editable": false,
    "nbgrader": {
     "cell_type": "markdown",
     "checksum": "9f7813957c47b26baf9aaed985d3857f",
     "grade": false,
     "grade_id": "cell-da33e1bab0393125",
     "locked": true,
     "schema_version": 3,
     "solution": false,
     "task": false
    }
   },
   "source": [
    "## Versuchsbeschreibung\n",
    "Wählen sie eine Klasse aus. Versuchen Sie zu jeder Klasse eine Entscheidungsfunktion zu finden,\n",
    "die es dem Rechner ermöglicht, alle Muster richtig zu klassifizieren."
   ]
  },
  {
   "cell_type": "code",
   "execution_count": 5,
   "metadata": {
    "deletable": false,
    "editable": false,
    "nbgrader": {
     "cell_type": "code",
     "checksum": "73b25580e1872b2550d8a8758b6c5ef3",
     "grade": false,
     "grade_id": "cell-ea98f19f3eea47bb",
     "locked": true,
     "schema_version": 3,
     "solution": false,
     "task": false
    },
    "pycharm": {
     "name": "#%%\n"
    }
   },
   "outputs": [
    {
     "data": {
      "application/vnd.jupyter.widget-view+json": {
       "model_id": "1690ae24584147df896000a53f815969",
       "version_major": 2,
       "version_minor": 0
      },
      "text/plain": [
       "Box(children=(Text(value='0.0', layout=Layout(width='50px'), placeholder=''), Label(value='$W_1^2 +$'), Text(v…"
      ]
     },
     "metadata": {},
     "output_type": "display_data"
    },
    {
     "data": {
      "application/vnd.jupyter.widget-view+json": {
       "model_id": "1daa729bb9ab4911860e275cfc7ed3bc",
       "version_major": 2,
       "version_minor": 0
      },
      "text/plain": [
       "Dropdown(description='Klasse auswählen:', layout=Layout(width='450px'), options=('Summe von W1 und W2 größer a…"
      ]
     },
     "metadata": {},
     "output_type": "display_data"
    },
    {
     "data": {
      "application/vnd.jupyter.widget-view+json": {
       "model_id": "6312c1765e3b4bc9a11d7360462ecec7",
       "version_major": 2,
       "version_minor": 0
      },
      "text/plain": [
       "Canvas(toolbar=Toolbar(toolitems=[('Home', 'Reset original view', 'home', 'home'), ('Back', 'Back to previous …"
      ]
     },
     "metadata": {},
     "output_type": "display_data"
    }
   ],
   "source": [
    "# define font\n",
    "font = {'family': 'serif',\n",
    "        'color':  'black',\n",
    "        'weight': 'normal',\n",
    "        'size': 16}\n",
    "\n",
    "selectclass = widgets.Dropdown(\n",
    "    options=['Summe von W1 und W2 größer als 8', 'W1 ist größer als W2', 'Das Produkt von W1 und W2 ist durch 3 teilbar', 'W1 und W2 sind größer als 3'],\n",
    "    value='Summe von W1 und W2 größer als 8',\n",
    "    description='Klasse auswählen:',\n",
    "    layout={'width': '450px'},\n",
    "    style={'description_width': '130px'},\n",
    "    disabled=False)\n",
    "\n",
    "# init state dict for saving status\n",
    "save_string = 'save/state_dict_2.dill'\n",
    "state_dict = {}\n",
    "\n",
    "# try to load state_dict\n",
    "try: \n",
    "    with open(save_string, 'rb') as fp:\n",
    "        state_dict = dill.load(fp)\n",
    "    # set data from load\n",
    "    x1.value = str(state_dict[selectclass.value]['x1'])\n",
    "    x2.value = str(state_dict[selectclass.value]['x2'])\n",
    "    x3.value = str(state_dict[selectclass.value]['x3'])\n",
    "    select.value = str(state_dict[selectclass.value]['op'])\n",
    "except:\n",
    "    # init otherwise\n",
    "    for option in selectclass.options:\n",
    "        state_dict[option] = {'x1': 0.0, 'x2': 1.0, 'x3': 0.0, 'op': '>'}\n",
    "\n",
    "x1 = widgets.Text(value = str(state_dict[selectclass.value]['x1']),\n",
    "                  placeholder = '',\n",
    "                  description = '',\n",
    "                  disabled = False,\n",
    "                  layout = {'width' : '50px'},\n",
    "                  continuous_update=True)\n",
    "\n",
    "x2 = widgets.Text(value = str(state_dict[selectclass.value]['x2']),\n",
    "                  placeholder = '',\n",
    "                  description = '',\n",
    "                  disabled = False,\n",
    "                  layout = {'width' : '50px'},\n",
    "                  continuous_update=True)\n",
    "\n",
    "x3 = widgets.Text(value = str(state_dict[selectclass.value]['x3']),\n",
    "                  placeholder = '',\n",
    "                  description = '',\n",
    "                  disabled = False,\n",
    "                  layout = {'width' : '50px'},\n",
    "                  continuous_update=True)\n",
    "\n",
    "operator_dict = {'>': operator.gt,\n",
    "                 '<': operator.lt,\n",
    "                 '>=': operator.ge,\n",
    "                 '<=': operator.le}\n",
    "\n",
    "select = widgets.Dropdown(\n",
    "    options = list(operator_dict.keys()),\n",
    "    value = state_dict[selectclass.value]['op'],\n",
    "    disabled = False,\n",
    "    layout = {'width' : '50px', 'height' : '28px'})\n",
    "\n",
    "\n",
    "l12 = widgets.Label(value='$W_1^2 +$')\n",
    "l1 = widgets.Label(value='$W_1 +$')\n",
    "l2 = widgets.Label(value='$W_2$')\n",
    "items = [x1, l12, x2, l1, x3, select, l2]\n",
    "box = widgets.Box(children=items)\n",
    "display(box)\n",
    "display(selectclass)\n",
    "\n",
    "# create figure\n",
    "fig = plt.figure(figsize=(8, 6))\n",
    "ax1 = fig.add_subplot(111)\n",
    "ax1.set_aspect('equal')\n",
    "ax1.axis([0, 13, 0, 7])\n",
    "plt.xticks(np.arange(0, 8, 1.0))\n",
    "plt.tight_layout()\n",
    "plt.ion()\n",
    "\n",
    "# define base grid for classes\n",
    "w1, w2 = np.mgrid[1:7, 1:7]\n",
    "\n",
    "# plot class boarder func\n",
    "def plot_separation():\n",
    "    y = np.linspace(0, 7, num=100)\n",
    "    y = float(x1.value) * x**2 + float(x2.value) * x + float(x3.value)\n",
    "    line1.set_data([x, y])\n",
    "\n",
    "# define class separation\n",
    "x = np.linspace(0, 7, num=100)\n",
    "line1, = ax1.plot(x, x, linewidth=1, color='k')\n",
    "plot_separation()\n",
    "\n",
    "# init multiple dicts\n",
    "r_x, r_y, b_x, b_y = ({} for i in range(4))\n",
    "\n",
    "# exploit the list order of the dropdown widget and create classes\n",
    "for i, item in enumerate(selectclass.options):\n",
    "    if i == 0:\n",
    "        r_x[item], r_y[item] = np.where(w1 + w2 <= 8)\n",
    "        b_x[item], b_y[item] = np.where(w1 + w2 > 8)\n",
    "    elif i == 1:\n",
    "        r_x[item], r_y[item] = np.where(w1 <= w2)\n",
    "        b_x[item], b_y[item] = np.where(w1 > w2)\n",
    "    elif i == 2:\n",
    "        r_x[item], r_y[item] = np.where((w1 * w2) % 3 != 0)\n",
    "        b_x[item], b_y[item] = np.where((w1 * w2) % 3 == 0)\n",
    "    elif i == 3:\n",
    "        r_x[item], r_y[item] = np.where(~((w1 > 3) & (w2 > 3)))\n",
    "        b_x[item], b_y[item] = np.where((w1 > 3) & (w2 > 3))\n",
    "        \n",
    "# init graph \n",
    "red_dots, = ax1.plot(r_x[selectclass.value] + 1, r_y[selectclass.value] + 1, \n",
    "                    'ro', color = 'r', markersize = 15) # +1 offset for plot\n",
    "blue_dots, = ax1.plot(b_x[selectclass.value] + 1, b_y[selectclass.value] + 1, \n",
    "                     'ro', color = 'b', markersize = 15) # +1 offset for plot\n",
    "\n",
    "# init markers\n",
    "marker1, = ax1.plot(-1, -1, 'ro', color = 'r', markersize = 15, markeredgecolor='blue')\n",
    "marker2, = ax1.plot(-1, -1, 'ro', color = 'b', markersize = 15, markeredgecolor='red')\n",
    "\n",
    "# init text fields\n",
    "right_text = ax1.text(8, 6, 'Richtig erkannt: %d' % 0, fontdict=font)\n",
    "f_p_text = ax1.text(8, 5.5, 'False positives: %d' % 0, fontdict=font)\n",
    "f_n_text = ax1.text(8, 5, 'False negatives: %d' % 0, fontdict=font)\n",
    "\n",
    "# plot labels axis\n",
    "plt.xlabel('W1')\n",
    "plt.ylabel('W2')\n",
    "plt.gcf().subplots_adjust(left=0.05)\n",
    "ax1.xaxis.set_label_coords(0.25, -0.06)\n",
    "\n",
    "# save data\n",
    "def save_data():\n",
    "    state_dict[selectclass.value]['x1'] = float(x1.value)\n",
    "    state_dict[selectclass.value]['x2'] = float(x2.value)\n",
    "    state_dict[selectclass.value]['x3'] = float(x3.value)\n",
    "    state_dict[selectclass.value]['op'] = select.value\n",
    "    with open(save_string, 'wb') as fp:\n",
    "        dill.dump(state_dict, fp)\n",
    "\n",
    "# classify data\n",
    "def classify_data():\n",
    "    # check reclassification  \n",
    "    classify = float(state_dict[selectclass.value]['x1']) * w1**2 + float(state_dict[selectclass.value]['x2']) * w1 +\\\n",
    "                float(state_dict[selectclass.value]['x3']) - w2\n",
    "\n",
    "    # calculate error of reclassification\n",
    "    # red markers\n",
    "    r_x_c, r_y_c = np.where(~operator_dict[select.value](classify, 0.0))\n",
    "    list_red = list(zip(r_x_c, r_y_c))\n",
    "    red_filter_out = list(zip(b_x[selectclass.value], b_y[selectclass.value]))\n",
    "    red_plot = [x for x in list_red if x not in red_filter_out]\n",
    "    \n",
    "    # print if possible\n",
    "    if red_plot:\n",
    "        r_x_plot, r_y_plot = map(np.array, zip(*red_plot))\n",
    "        marker1.set_visible(True)\n",
    "        marker1.set_data(r_x_plot + 1, r_y_plot + 1)\n",
    "    else:\n",
    "        marker1.set_visible(False)\n",
    "    \n",
    "    # blue markers\n",
    "    b_x_c, b_y_c = np.where(operator_dict[select.value](classify, 0.0))\n",
    "    list_blue = list(zip(b_x_c, b_y_c))\n",
    "    blue_filter_out = list(zip(r_x[selectclass.value], r_y[selectclass.value]))\n",
    "    blue_plot = [x for x in list_blue if x not in blue_filter_out]\n",
    "    \n",
    "    # print if possible\n",
    "    if blue_plot:\n",
    "        b_x_plot, b_y_plot = map(np.array, zip(*blue_plot))\n",
    "        marker2.set_visible(True)\n",
    "        marker2.set_data(b_x_plot + 1, b_y_plot + 1)\n",
    "    else:\n",
    "        marker2.set_visible(False)\n",
    "    \n",
    "    # print right recognition, false positives and false negatives\n",
    "    right_text.set_text('Richtig erkannt: %d' % (w1.size - len(red_plot) - len(blue_plot)))\n",
    "    f_p_text.set_text('False positives: %d' % len(blue_plot))\n",
    "    f_n_text.set_text('False negatives: %d' % len(red_plot))\n",
    "        \n",
    "    \n",
    "        \n",
    "# plot markers\n",
    "classify_data()\n",
    "\n",
    "# plot graph based on dropdown selection\n",
    "def on_change_class(change):\n",
    "    if change['type'] == 'change' and change['name'] == 'value':\n",
    "        # set data dict\n",
    "        x1.value = str(state_dict[change['new']]['x1'])\n",
    "        x2.value = str(state_dict[change['new']]['x2'])\n",
    "        x3.value = str(state_dict[change['new']]['x3'])\n",
    "        select.value = str(state_dict[change['new']]['op'])\n",
    "        red_dots.set_data(r_x[change['new']] + 1, r_y[change['new']] + 1)\n",
    "        blue_dots.set_data(b_x[change['new']] + 1, b_y[change['new']] + 1)\n",
    "        classify_data()\n",
    "        plot_separation()\n",
    "            \n",
    "def on_change_operator(change):\n",
    "    # save data\n",
    "    save_data()\n",
    "    # plot update\n",
    "    classify_data()\n",
    "    plot_separation()\n",
    "\n",
    "    \n",
    "\n",
    "def callback(wdgt):\n",
    "    # save data\n",
    "    save_data()\n",
    "    try:\n",
    "        plot_separation()\n",
    "        classify_data()\n",
    "    except ValueError:\n",
    "        print('Please use . instead of ,')\n",
    "        return\n",
    "    \n",
    "# update graph when hitting submit\n",
    "x1.on_submit(callback)\n",
    "x2.on_submit(callback)   \n",
    "x3.on_submit(callback)\n",
    "\n",
    "# change graph based on \"Klasse auswählen\"\n",
    "selectclass.observe(on_change_class)\n",
    "select.observe(on_change_operator)"
   ]
  },
  {
   "cell_type": "markdown",
   "metadata": {
    "deletable": false,
    "editable": false,
    "nbgrader": {
     "cell_type": "markdown",
     "checksum": "51aba20812cd11a07f02b2566e079da0",
     "grade": false,
     "grade_id": "cell-3086928989a0b1b4",
     "locked": true,
     "schema_version": 3,
     "solution": false,
     "task": false
    }
   },
   "source": [
    "## 1. Welche der Klassifikatoren sind nicht-linear?"
   ]
  },
  {
   "cell_type": "code",
   "execution_count": 7,
   "metadata": {
    "deletable": false,
    "editable": false,
    "nbgrader": {
     "cell_type": "code",
     "checksum": "b30c6a2099d1c4e12187045fc7aea067",
     "grade": false,
     "grade_id": "cell-1843419841b39848",
     "locked": true,
     "schema_version": 3,
     "solution": false,
     "task": false
    },
    "scrolled": false
   },
   "outputs": [
    {
     "data": {
      "application/vnd.jupyter.widget-view+json": {
       "model_id": "9d2b8564d48d4b1188d4052164cef31f",
       "version_major": 2,
       "version_minor": 0
      },
      "text/plain": [
       "Checkbox(value=True, description='Polynom-Klassifikatoren')"
      ]
     },
     "metadata": {},
     "output_type": "display_data"
    },
    {
     "data": {
      "application/vnd.jupyter.widget-view+json": {
       "model_id": "73f1d2e5119341da8aba0f9cb798be85",
       "version_major": 2,
       "version_minor": 0
      },
      "text/plain": [
       "Checkbox(value=True, description='Dynamic Time Warp')"
      ]
     },
     "metadata": {},
     "output_type": "display_data"
    },
    {
     "data": {
      "application/vnd.jupyter.widget-view+json": {
       "model_id": "9a30f05d22984bbd8db2cc4e512434e2",
       "version_major": 2,
       "version_minor": 0
      },
      "text/plain": [
       "Checkbox(value=False, description='Support-Vector-Machines')"
      ]
     },
     "metadata": {},
     "output_type": "display_data"
    },
    {
     "data": {
      "application/vnd.jupyter.widget-view+json": {
       "model_id": "6a9946441cce4ced8252d2eaf33328f9",
       "version_major": 2,
       "version_minor": 0
      },
      "text/plain": [
       "Checkbox(value=True, description='Künstliche neuronale Netze')"
      ]
     },
     "metadata": {},
     "output_type": "display_data"
    }
   ],
   "source": [
    "save_checkbox = 'save/checkbox_array.dill'\n",
    "\n",
    "checkbox_array = np.array([False, False, False, False])\n",
    "# try to load checkbox array\n",
    "try: \n",
    "    with open(save_checkbox, 'rb') as fp:\n",
    "        checkbox_array = dill.load(fp)\n",
    "except:\n",
    "    pass\n",
    "\n",
    "checkbox_list = ['Polynom-Klassifikatoren', 'Dynamic Time Warp', \n",
    "                 'Support-Vector-Machines', 'Künstliche neuronale Netze']\n",
    "\n",
    "def callback_checkbox(change):\n",
    "    if change['type'] == 'change' and change['name'] == 'value':\n",
    "        checkbox_array[checkbox_list.index(change['owner'].description)] = change['owner'].value\n",
    "        # save when changed\n",
    "        with open(save_checkbox, 'wb') as fp:\n",
    "            dill.dump(checkbox_array, fp)\n",
    "        \n",
    "checkbox_dict = {element:widgets.Checkbox(\n",
    "    value=bool(checkbox_array[i]),\n",
    "    description=element,\n",
    "    disabled=False) for i, element in enumerate(checkbox_list)}\n",
    "\n",
    "for ele in checkbox_list:\n",
    "    checkbox_dict[ele].observe(callback_checkbox)\n",
    "\n",
    "display(checkbox_dict['Polynom-Klassifikatoren'], checkbox_dict['Dynamic Time Warp'],\n",
    "        checkbox_dict['Support-Vector-Machines'], checkbox_dict['Künstliche neuronale Netze'])\n"
   ]
  },
  {
   "cell_type": "code",
   "execution_count": 8,
   "metadata": {
    "deletable": false,
    "editable": false,
    "nbgrader": {
     "cell_type": "code",
     "checksum": "4a75fd571011e0e1581461cb67f3b92b",
     "grade": true,
     "grade_id": "cell-fb40a85c8fdaa81e",
     "locked": true,
     "points": 1,
     "schema_version": 3,
     "solution": false,
     "task": false
    }
   },
   "outputs": [],
   "source": [
    "# Autograding answer, please ignore\n"
   ]
  },
  {
   "cell_type": "code",
   "execution_count": null,
   "metadata": {},
   "outputs": [],
   "source": []
  }
 ],
 "metadata": {
  "kernelspec": {
   "display_name": "Python 3",
   "language": "python",
   "name": "python3"
  },
  "language_info": {
   "codemirror_mode": {
    "name": "ipython",
    "version": 3
   },
   "file_extension": ".py",
   "mimetype": "text/x-python",
   "name": "python",
   "nbconvert_exporter": "python",
   "pygments_lexer": "ipython3",
   "version": "3.7.7"
  },
  "pycharm": {
   "stem_cell": {
    "cell_type": "raw",
    "metadata": {
     "collapsed": false
    },
    "source": []
   }
  },
  "widgets": {
   "application/vnd.jupyter.widget-state+json": {
    "state": {},
    "version_major": 2,
    "version_minor": 0
   }
  }
 },
 "nbformat": 4,
 "nbformat_minor": 4
}
