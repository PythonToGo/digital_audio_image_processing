{
 "cells": [
  {
   "cell_type": "code",
   "execution_count": 1,
   "metadata": {
    "deletable": false,
    "editable": false,
    "nbgrader": {
     "cell_type": "code",
     "checksum": "5a7a5cf1aa19eb6d8083f5b135006cbf",
     "grade": false,
     "grade_id": "cell-ac8f1c511b800803",
     "locked": true,
     "schema_version": 3,
     "solution": false,
     "task": false
    }
   },
   "outputs": [],
   "source": [
    "#   |'''''''''''''╔╬╬╬╬╬╬╬╬   _____  _____      _____  _____      ___   __\n",
    "#   |            ╔╬╬╬╬╬╬╬╬╬  |\\   _ \\  _  \\    |\\   _ \\  _  \\    |\\  \\|\\  \\\n",
    "#   | ░░         ╬╬╬╬╬╬╬╬╬╬  \\ \\  \\\\__\\ \\  \\   \\ \\  \\\\__\\ \\  \\   \\ \\  \\/  /|_\n",
    "#    ░░░░        ╬╬╬╬╬╬╬╬╬╬   \\ \\  \\|__| \\  \\   \\ \\  \\|__| \\  \\   \\ \\   ___  \\\n",
    "#   ░░░░░╦╬╦    ╔╬╬╬╬╬╬╬╬╬╬    \\ \\  \\   \\ \\  \\   \\ \\  \\   \\ \\  \\   \\ \\  \\ \\   \\\n",
    "#  ░░░░░╬╬╬╬ ▓▓└╬╬╬╬╬╬╬╬╬╬╬     \\ \\__\\   \\ \\__\\   \\ \\__\\   \\ \\__\\   \\ \\__\\ \\___\\\n",
    "# ░░░░░╔╬╬╬ ▓▓▓  ╓╬╬╬╬╬╬╬╬╬      \\|__|    \\|__|    \\|__|    \\|__|    \\|__| \\|__|\n",
    "# ░░░░░╠╬╬╬ ▓▓▓  └╬╬╬╬╬╬╬╬╬\n",
    "#  ░░░░└╬╬╬╬ ▓▓   ╬╬╬╬╬╬╬╬╬  Lehrstuhl für Mensch-Maschine-Kommunikation\n",
    "#  ░░░░░╙╬╬╬╩            ╬╬  Technische Universität München\n",
    "#   ░░░░░░╚ '''''''''''''''  Author: Tobias Watzel\n",
    "#    ░░░                     Copyright 2020\n",
    "#\n",
    "\n",
    "%matplotlib widget\n",
    "import os\n",
    "import ipywidgets as widgets\n",
    "import matplotlib.pyplot as plt\n",
    "import matplotlib as mpl\n",
    "import matplotlib.lines as lines\n",
    "from matplotlib import rc, cm\n",
    "import IPython.display as ipd\n",
    "import librosa.display\n",
    "import numpy as np\n",
    "import scipy\n",
    "import more_itertools\n",
    "from scipy import signal\n",
    "from scipy.fftpack import fft, fftshift, rfft\n",
    "import pandas as pd\n",
    "import dill\n",
    "from dtw import accelerated_dtw\n",
    "from functools import partial\n",
    "from numpy.linalg import norm\n",
    "\n",
    "# init fig for matplotlib\n",
    "fig = None"
   ]
  },
  {
   "cell_type": "markdown",
   "metadata": {
    "deletable": false,
    "editable": false,
    "nbgrader": {
     "cell_type": "markdown",
     "checksum": "7a57bb9d6799cfd5bfa06331c6a72278",
     "grade": false,
     "grade_id": "cell-b5e59883963a02e5",
     "locked": true,
     "schema_version": 3,
     "solution": false,
     "task": false
    }
   },
   "source": [
    "## Versuchsbeschreibung:\n",
    "In diesem Versuch sehen Sie, wie aus einzelnen Fenstern eines Signals Merkmale für die Spracherkennung extrahiert werden.\n",
    "Hierfür können Sie im ersten Schritt zwei Bereiche aus dem Wort \"sieben\" herausschneiden, die unterschiedliche Laute beinhalten.\n",
    "Im zweiten Schritt sehen Sie die Merkmalsvektoren der zugehörigen Fenster.\n",
    "\n",
    "Probieren Sie verschiedene Extraktionsmethoden und Bereiche aus und sehen Sie sich die Auswirkung auf die extrahierten Merkmalsvektoren an.\n",
    "Bedenken Sie dabei, dass anhand der Merkmale eine Unterscheidung der Laute möglich sein muss. Das heißt, innerhalb eines Bereiches sollten die Merkmalswerte möglichst gleich sein, jedoch zwischen den beiden Bereichen möglichst unterschiedlich."
   ]
  },
  {
   "cell_type": "code",
   "execution_count": 2,
   "metadata": {
    "deletable": false,
    "editable": false,
    "nbgrader": {
     "cell_type": "code",
     "checksum": "7c1e4d63848217bc4ae586bb5334bc9c",
     "grade": false,
     "grade_id": "cell-14666efd8c8cfabf",
     "locked": true,
     "schema_version": 3,
     "solution": false,
     "task": false
    }
   },
   "outputs": [],
   "source": [
    "if fig:\n",
    "    plt.close(fig)\n",
    "    \n",
    "# define file list\n",
    "properties_dict = {'name_list': ['Bill', 'George', 'John', 'Charly'],\n",
    "                  'number_list': ['0', '1', '2', '3', '4', '5', '6', '7', '8', '9'],\n",
    "                  'speed_list': ['schnell', 'normal', 'langsam'],\n",
    "                  'version_list': ['0', '1']}\n",
    "\n",
    "description_dict = {'name_list': 'Sprecher:',\n",
    "                  'number_list': 'Wort (Zahl):',\n",
    "                  'speed_list': 'Geschwindigkeit:',\n",
    "                  'version_list': 'Version:'}\n",
    "\n",
    "mapping_dict = {'name': 0,\n",
    "                  'number': 1,\n",
    "                  'speed': 2,\n",
    "                  'version': 3}\n",
    "\n",
    "selections_ref = ['select_name_ref', 'select_number_ref', 'select_speed_ref', 'select_version_ref']\n",
    "selections_test = ['select_name_test', 'select_number_test', 'select_speed_test', 'select_version_test']\n",
    "\n",
    "select_dict = {}\n",
    "\n",
    "\n",
    "\n",
    "for select in selections_ref + selections_test:\n",
    "    helper_string = select.split(\"_\")[1] + '_list'\n",
    "    select_dict[select] = widgets.Dropdown(options = properties_dict[helper_string], value = properties_dict[helper_string][0], layout={'height': '40px'}, \n",
    "                                           description = description_dict[helper_string])\n",
    "\n",
    "\n",
    "de_en = {'schnell': 'fast', 'normal': 'norm', 'langsam': 'slow'}\n",
    "\n",
    "list_ref = [select_dict[ele].value if 'speed' not in ele else de_en[select_dict[ele].value] for ele in selections_ref]\n",
    "list_test = [select_dict[ele].value if 'speed' not in ele else de_en[select_dict[ele].value] for ele in selections_test]\n",
    "\n",
    "# define vars\n",
    "y1, sr1 = librosa.load('wav_files/%s/%s_%s_%s.wav' % tuple(list_ref))\n",
    "y2, sr2 = librosa.load('wav_files/%s/%s_%s_%s.wav' % tuple(list_test))"
   ]
  },
  {
   "cell_type": "code",
   "execution_count": 3,
   "metadata": {
    "deletable": false,
    "editable": false,
    "nbgrader": {
     "cell_type": "code",
     "checksum": "c678dbbc58678d946c644e0d8f9277ff",
     "grade": false,
     "grade_id": "cell-2c2d9dace02041d1",
     "locked": true,
     "schema_version": 3,
     "solution": false,
     "task": false
    }
   },
   "outputs": [
    {
     "data": {
      "application/vnd.jupyter.widget-view+json": {
       "model_id": "3226847b84a94911a0523ce36fdb1d1e",
       "version_major": 2,
       "version_minor": 0
      },
      "text/plain": [
       "Canvas(toolbar=Toolbar(toolitems=[('Home', 'Reset original view', 'home', 'home'), ('Back', 'Back to previous …"
      ]
     },
     "metadata": {},
     "output_type": "display_data"
    },
    {
     "data": {
      "application/vnd.jupyter.widget-view+json": {
       "model_id": "",
       "version_major": 2,
       "version_minor": 0
      },
      "text/plain": [
       "VBox(children=(Label(value='Wort (Referenz)'), Box(children=(Dropdown(description='Sprecher:', layout=Layout(h…"
      ]
     },
     "metadata": {},
     "output_type": "display_data"
    }
   ],
   "source": [
    "if fig:\n",
    "    plt.close()\n",
    "\n",
    "def calculate_mfcc(signal_in, num_coefficients, sample_rate):\n",
    "    return librosa.feature.mfcc(signal_in, sr = sample_rate)    \n",
    "\n",
    "fig = plt.figure(figsize = (11, 6))\n",
    "ax1 = plt.subplot(111)\n",
    "\n",
    "# init plot\n",
    "a = calculate_mfcc(y1, 12, sr1)\n",
    "b = calculate_mfcc(y2, 12, sr2)\n",
    "dist, cost, acc_cost, path = accelerated_dtw(a.T, b.T, dist=lambda x, y: norm(x - y, ord=1))\n",
    "ax1.imshow(cost.T, origin='lower', cmap=cm.gray, interpolation='nearest')\n",
    "ax1.plot(path[0], path[1], 'w')\n",
    "ax1.set_xlabel('Referenzwort')\n",
    "ax1.set_ylabel('Testwort')\n",
    "ax1.set_xlim((-0.5, cost.shape[0]-0.5))\n",
    "ax1.set_ylim((-0.5, cost.shape[1]-0.5))\n",
    "\n",
    "\n",
    "label_ref = widgets.Label(value = 'Wort (Referenz)')\n",
    "label_test = widgets.Label(value = 'Wort (Test)')\n",
    "\n",
    "#for select in selections_ref:\n",
    "#    select_dict[select] = select_dict[select].observe(lambda change: change_selection(change, slider_string = select), 'value', type='change')\n",
    "\n",
    "box_ref = widgets.Box([select_dict[ele] for ele in selections_ref])\n",
    "box_test = widgets.Box([select_dict[ele] for ele in selections_test])\n",
    "box = widgets.VBox([label_ref, box_ref, label_test, box_test], layout = widgets.Layout(justify_content = 'center'))\n",
    "display(box)\n",
    "\n",
    "def change_selection(change, slider_string):\n",
    "    ax1.cla()\n",
    "    \n",
    "    # create helper string\n",
    "    helper_string = slider_string.split(\"_\")\n",
    "    \n",
    "    if helper_string[1] == 'speed':\n",
    "        #print(change['new'])\n",
    "        #print(helper_string)\n",
    "        change['new'] = de_en[change['new']]\n",
    "\n",
    "    # change ref list\n",
    "    if helper_string[2] == 'ref':\n",
    "        list_ref[mapping_dict[helper_string[1]]] = change['new']\n",
    "    if helper_string[2] == 'test':\n",
    "        list_test[mapping_dict[helper_string[1]]] = change['new']\n",
    "\n",
    "    # try to load file\n",
    "    try:\n",
    "        y1, sr1 = librosa.load('wav_files/%s/%s_%s_%s.wav' % tuple(list_ref))\n",
    "        y2, sr2 = librosa.load('wav_files/%s/%s_%s_%s.wav' % tuple(list_test))\n",
    "    except:\n",
    "        print(slider_string)\n",
    "        print('File not found')\n",
    "\n",
    "    # calculate mfccs\n",
    "    a = calculate_mfcc(y1, 12, sr1)\n",
    "    b = calculate_mfcc(y2, 12, sr2)\n",
    "\n",
    "    # perform dtw\n",
    "    dist, cost, acc_cost, path = accelerated_dtw(a.T, b.T, dist = lambda x, y: norm(x - y, ord = 1))\n",
    "    \n",
    "    # update plot\n",
    "    ax1.imshow(cost.T, origin='lower', cmap = cm.gray, interpolation = 'nearest')\n",
    "    ax1.plot(path[0], path[1], 'w')\n",
    "    ax1.set_xlim((-0.5, cost.shape[0]-0.5))\n",
    "    ax1.set_ylim((-0.5, cost.shape[1]-0.5))\n",
    "    ax1.set_xlabel('Referenzwort')\n",
    "    ax1.set_ylabel('Testwort')\n",
    "    \n",
    "        \n",
    "\n",
    "# init observes ref (quite bad... TODO)\n",
    "select_dict['select_name_ref'].observe(lambda change: change_selection(change, 'select_name_ref'), 'value', type='change')\n",
    "select_dict['select_number_ref'].observe(lambda change: change_selection(change, 'select_number_ref'), 'value', type='change')\n",
    "select_dict['select_speed_ref'].observe(lambda change: change_selection(change, 'select_speed_ref'), 'value', type='change')\n",
    "select_dict['select_version_ref'].observe(lambda change: change_selection(change, 'select_version_ref'), 'value', type='change')\n",
    "# init observes test (quite bad... TODO)\n",
    "select_dict['select_name_test'].observe(lambda change: change_selection(change, 'select_name_test'), 'value', type='change')\n",
    "select_dict['select_number_test'].observe(lambda change: change_selection(change, 'select_number_test'), 'value', type='change')\n",
    "select_dict['select_speed_test'].observe(lambda change: change_selection(change, 'select_speed_test'), 'value', type='change')\n",
    "select_dict['select_version_test'].observe(lambda change: change_selection(change, 'select_version_test'), 'value', type='change')\n",
    "        \n",
    "        "
   ]
  },
  {
   "cell_type": "markdown",
   "metadata": {
    "deletable": false,
    "editable": false,
    "nbgrader": {
     "cell_type": "markdown",
     "checksum": "f003fc48dcf0ee04f4ebcb01f6ee8acb",
     "grade": false,
     "grade_id": "cell-091fb9d5ca1bf8f3",
     "locked": true,
     "schema_version": 3,
     "solution": false,
     "task": false
    }
   },
   "source": [
    "## 1. Betrachten Sie den Korridor in der Matrix. \n",
    "Wie groß sind I und J? (Sprecher1: John, Wort: 0, Geschwindigkeit: normal, Version: 0, Sprecher2: John, Wort: 0, Geschwindigkeit: normal, Version: 1)"
   ]
  },
  {
   "cell_type": "code",
   "execution_count": 8,
   "metadata": {
    "deletable": false,
    "editable": false,
    "nbgrader": {
     "cell_type": "code",
     "checksum": "49e28c75c2830b33a581e62bbf9c3f28",
     "grade": false,
     "grade_id": "cell-5e6fb6627341feb7",
     "locked": true,
     "schema_version": 3,
     "solution": false,
     "task": false
    }
   },
   "outputs": [
    {
     "data": {
      "application/vnd.jupyter.widget-view+json": {
       "model_id": "2376754e145b461ea636c292be6436e9",
       "version_major": 2,
       "version_minor": 0
      },
      "text/plain": [
       "RadioButtons(options=('35 20', '37 25', '40 30', '45 35'), value='35 20')"
      ]
     },
     "metadata": {},
     "output_type": "display_data"
    }
   ],
   "source": [
    "save_radio_select = 'save/radio_select_dtw_ij.dill'\n",
    "\n",
    "radio_button_array = np.array([False, False, False, False])\n",
    "# try to load checkbox array\n",
    "try: \n",
    "    with open(save_radio_select, 'rb') as fp:\n",
    "        radio_button_array = dill.load(fp)\n",
    "except:\n",
    "    pass\n",
    "\n",
    "radio_button_list = ['35 20', '37 25', '40 30', '45 35']\n",
    "value_radio = [None if len(np.where(radio_button_array == True)[0]) == 0 else \n",
    "               radio_button_list[np.where(radio_button_array == True)[0][0]]]\n",
    "\n",
    "def callback_checkbox(change):\n",
    "    if change['type'] == 'change' and change['name'] == 'value':\n",
    "        radio_button_array[radio_button_list.index(change['new'])] = not radio_button_array[radio_button_list.index(change['new'])]\n",
    "        if change['old']:\n",
    "            radio_button_array[radio_button_list.index(change['old'])] = not radio_button_array[radio_button_list.index(change['old'])]\n",
    "        # save when changed\n",
    "        with open(save_radio_select, 'wb') as fp:\n",
    "            dill.dump(radio_button_array, fp)            \n",
    "\n",
    "radio_buttons = widgets.RadioButtons(options=radio_button_list, \n",
    "                                     value=value_radio[0])\n",
    "\n",
    "radio_buttons.observe(callback_checkbox)\n",
    "\n",
    "display(radio_buttons)"
   ]
  },
  {
   "cell_type": "code",
   "execution_count": 9,
   "metadata": {
    "deletable": false,
    "editable": false,
    "nbgrader": {
     "cell_type": "code",
     "checksum": "c672ea9d91caf16ff649c3f2816ec63c",
     "grade": true,
     "grade_id": "cell-cfe7acc3d6f20758",
     "locked": true,
     "points": 1,
     "schema_version": 3,
     "solution": false,
     "task": false
    }
   },
   "outputs": [],
   "source": [
    "# Autograding answer, please ignore\n"
   ]
  },
  {
   "cell_type": "code",
   "execution_count": null,
   "metadata": {},
   "outputs": [],
   "source": []
  },
  {
   "cell_type": "code",
   "execution_count": null,
   "metadata": {},
   "outputs": [],
   "source": []
  }
 ],
 "metadata": {
  "kernelspec": {
   "display_name": "Python 3",
   "language": "python",
   "name": "python3"
  },
  "language_info": {
   "codemirror_mode": {
    "name": "ipython",
    "version": 3
   },
   "file_extension": ".py",
   "mimetype": "text/x-python",
   "name": "python",
   "nbconvert_exporter": "python",
   "pygments_lexer": "ipython3",
   "version": "3.7.7"
  },
  "widgets": {
   "application/vnd.jupyter.widget-state+json": {
    "state": {
     "06c2ef7ab5224f25b232fd3004b71869": {
      "model_module": "@jupyter-widgets/base",
      "model_module_version": "1.2.0",
      "model_name": "LayoutModel",
      "state": {
       "height": "40px"
      }
     },
     "0a699cdccecb4443833552aa3c40592b": {
      "model_module": "@jupyter-widgets/controls",
      "model_module_version": "1.5.0",
      "model_name": "DropdownModel",
      "state": {
       "_options_labels": [
        "Bill",
        "George",
        "John",
        "Charly"
       ],
       "description": "Sprecher:",
       "index": 2,
       "layout": "IPY_MODEL_aa58d76633014da3bf7d12e9273bc2eb",
       "style": "IPY_MODEL_484c19ff816243488dfe481258ed549e"
      }
     },
     "0ebe90d0bf4c4880854b4f15281fcc44": {
      "model_module": "@jupyter-widgets/controls",
      "model_module_version": "1.5.0",
      "model_name": "DropdownModel",
      "state": {
       "_options_labels": [
        "0",
        "1",
        "2",
        "3",
        "4",
        "5",
        "6",
        "7",
        "8",
        "9"
       ],
       "description": "Wort (Zahl):",
       "index": 0,
       "layout": "IPY_MODEL_ad2d73719eea4bc2941a82c9a1b3f697",
       "style": "IPY_MODEL_644090ba9e494669afa5861c9912c78e"
      }
     },
     "17f24ee6de3147f4a0a4a7c646901104": {
      "model_module": "@jupyter-widgets/controls",
      "model_module_version": "1.5.0",
      "model_name": "DescriptionStyleModel",
      "state": {
       "description_width": ""
      }
     },
     "1e1c4de590104787a89eac69d837012a": {
      "model_module": "@jupyter-widgets/base",
      "model_module_version": "1.2.0",
      "model_name": "LayoutModel",
      "state": {
       "width": "initial"
      }
     },
     "2717e492b7ea4f7aae2133738ef079c8": {
      "model_module": "@jupyter-widgets/controls",
      "model_module_version": "1.5.0",
      "model_name": "CheckboxModel",
      "state": {
       "description": "40 30",
       "disabled": false,
       "layout": "IPY_MODEL_a30a9518ff6048458937eb4783af378b",
       "style": "IPY_MODEL_c3f7e3c2bc3b4810a7ff9f0228ef8336",
       "value": false
      }
     },
     "2b6952041a5b4402b38ac97ff4f290a6": {
      "model_module": "@jupyter-widgets/controls",
      "model_module_version": "1.5.0",
      "model_name": "DropdownModel",
      "state": {
       "_options_labels": [
        "Bill",
        "George",
        "John",
        "Charly"
       ],
       "description": "Sprecher:",
       "index": 2,
       "layout": "IPY_MODEL_6e86e624f18b4ceda9eb1879f3269b65",
       "style": "IPY_MODEL_d1f3147f912549b7b9cefd6b429b7d7e"
      }
     },
     "2d240af0886041e7bc4425f6bbdcc982": {
      "model_module": "@jupyter-widgets/controls",
      "model_module_version": "1.5.0",
      "model_name": "DescriptionStyleModel",
      "state": {
       "description_width": ""
      }
     },
     "3cc521bd3acf4e15a1aad37459f72a7f": {
      "model_module": "@jupyter-widgets/controls",
      "model_module_version": "1.5.0",
      "model_name": "DropdownModel",
      "state": {
       "_options_labels": [
        "0",
        "1"
       ],
       "description": "Version:",
       "index": 0,
       "layout": "IPY_MODEL_f2c0685e49724b31808ca4f757fcd7dd",
       "style": "IPY_MODEL_d161488962114bbc9be57d568e9786ed"
      }
     },
     "484c19ff816243488dfe481258ed549e": {
      "model_module": "@jupyter-widgets/controls",
      "model_module_version": "1.5.0",
      "model_name": "DescriptionStyleModel",
      "state": {
       "description_width": ""
      }
     },
     "4b6e9053daa340759d0fbc7f8643d9b9": {
      "model_module": "@jupyter-widgets/controls",
      "model_module_version": "1.5.0",
      "model_name": "DescriptionStyleModel",
      "state": {
       "description_width": ""
      }
     },
     "4ca6b0979296448bad2ab6648cfb5178": {
      "model_module": "@jupyter-widgets/base",
      "model_module_version": "1.2.0",
      "model_name": "LayoutModel",
      "state": {}
     },
     "537ee13a63e94a20995dad516aac36ac": {
      "model_module": "@jupyter-widgets/controls",
      "model_module_version": "1.5.0",
      "model_name": "DropdownModel",
      "state": {
       "_options_labels": [
        "schnell",
        "normal",
        "langsam"
       ],
       "description": "Geschwindigkeit:",
       "index": 1,
       "layout": "IPY_MODEL_fc1fcccfba08415984396c9f253f763e",
       "style": "IPY_MODEL_e657997c5eb34bf992cb4f9c70fccf61"
      }
     },
     "540081d9e049475da8e06b4323a293f4": {
      "model_module": "@jupyter-widgets/base",
      "model_module_version": "1.2.0",
      "model_name": "LayoutModel",
      "state": {
       "width": "initial"
      }
     },
     "58f440d959174968b0cc3291b1c588da": {
      "model_module": "@jupyter-widgets/controls",
      "model_module_version": "1.5.0",
      "model_name": "DescriptionStyleModel",
      "state": {
       "description_width": ""
      }
     },
     "5a32f8bd823c471d80adc0d3c491483f": {
      "model_module": "@jupyter-widgets/controls",
      "model_module_version": "1.5.0",
      "model_name": "CheckboxModel",
      "state": {
       "description": "20 30",
       "disabled": false,
       "layout": "IPY_MODEL_b4eff99fffda48ef870965869cf00121",
       "style": "IPY_MODEL_9a3a5ba89c48475198f50fab099aa2a6",
       "value": false
      }
     },
     "5bc0fcffba724727b0efdeb506bf1a09": {
      "model_module": "@jupyter-widgets/controls",
      "model_module_version": "1.5.0",
      "model_name": "LabelModel",
      "state": {
       "layout": "IPY_MODEL_8b7c6d70aef64fcb8d9e2bf8cb4aef1c",
       "style": "IPY_MODEL_69fdc5f03253445a99813fe870ac1c35",
       "value": "Wort (Referenz)"
      }
     },
     "5e255d9e71584106bfa0a6467b4bf01a": {
      "model_module": "@jupyter-widgets/controls",
      "model_module_version": "1.5.0",
      "model_name": "DescriptionStyleModel",
      "state": {
       "description_width": ""
      }
     },
     "6411ac2ca85840349696a01a7c0efcf9": {
      "model_module": "@jupyter-widgets/base",
      "model_module_version": "1.2.0",
      "model_name": "LayoutModel",
      "state": {
       "height": "40px"
      }
     },
     "644090ba9e494669afa5861c9912c78e": {
      "model_module": "@jupyter-widgets/controls",
      "model_module_version": "1.5.0",
      "model_name": "DescriptionStyleModel",
      "state": {
       "description_width": ""
      }
     },
     "69fdc5f03253445a99813fe870ac1c35": {
      "model_module": "@jupyter-widgets/controls",
      "model_module_version": "1.5.0",
      "model_name": "DescriptionStyleModel",
      "state": {
       "description_width": ""
      }
     },
     "6df44774dbf141abb3dba306263fc440": {
      "model_module": "@jupyter-widgets/controls",
      "model_module_version": "1.5.0",
      "model_name": "LabelModel",
      "state": {
       "layout": "IPY_MODEL_d253e628d3f2489da414efa9f9bf4578",
       "style": "IPY_MODEL_a381b252cebb4ab59df52573744ddec3",
       "value": "Wort (Test)"
      }
     },
     "6e86e624f18b4ceda9eb1879f3269b65": {
      "model_module": "@jupyter-widgets/base",
      "model_module_version": "1.2.0",
      "model_name": "LayoutModel",
      "state": {
       "height": "40px"
      }
     },
     "734427cdff0044eeae1466ff3154032b": {
      "model_module": "@jupyter-widgets/controls",
      "model_module_version": "1.5.0",
      "model_name": "DropdownModel",
      "state": {
       "_options_labels": [
        "0",
        "1",
        "2",
        "3",
        "4",
        "5",
        "6",
        "7",
        "8",
        "9"
       ],
       "description": "Wort (Zahl):",
       "index": 0,
       "layout": "IPY_MODEL_6411ac2ca85840349696a01a7c0efcf9",
       "style": "IPY_MODEL_58f440d959174968b0cc3291b1c588da"
      }
     },
     "787e9b19fc60467c87d6046d6efe09fb": {
      "model_module": "@jupyter-widgets/base",
      "model_module_version": "1.2.0",
      "model_name": "LayoutModel",
      "state": {
       "width": "initial"
      }
     },
     "800c7f8778784ef59e26e4d7004104d8": {
      "model_module": "@jupyter-widgets/base",
      "model_module_version": "1.2.0",
      "model_name": "LayoutModel",
      "state": {
       "width": "initial"
      }
     },
     "8b69af6d7b174c4f8706b79729978e68": {
      "model_module": "@jupyter-widgets/controls",
      "model_module_version": "1.5.0",
      "model_name": "CheckboxModel",
      "state": {
       "description": "Die MFC-Koeffizienten eignen sich besonders gut, da sie gut dekorreliert sind und sich daher anschließend besser reduzieren lassen.",
       "disabled": false,
       "layout": "IPY_MODEL_800c7f8778784ef59e26e4d7004104d8",
       "style": "IPY_MODEL_a9514e03f09646fc8c8ea608c81f9acc",
       "value": false
      }
     },
     "8b7c6d70aef64fcb8d9e2bf8cb4aef1c": {
      "model_module": "@jupyter-widgets/base",
      "model_module_version": "1.2.0",
      "model_name": "LayoutModel",
      "state": {}
     },
     "8d8cca419dbc47ea8d16443b0ca92a1a": {
      "model_module": "@jupyter-widgets/base",
      "model_module_version": "1.2.0",
      "model_name": "LayoutModel",
      "state": {
       "width": "initial"
      }
     },
     "944ca738b7804a43abf8700f3481cd57": {
      "model_module": "@jupyter-widgets/controls",
      "model_module_version": "1.5.0",
      "model_name": "DropdownModel",
      "state": {
       "_options_labels": [
        "0",
        "1"
       ],
       "description": "Version:",
       "index": 1,
       "layout": "IPY_MODEL_06c2ef7ab5224f25b232fd3004b71869",
       "style": "IPY_MODEL_4b6e9053daa340759d0fbc7f8643d9b9"
      }
     },
     "9515e582f5414461a8133785cf9d63bb": {
      "model_module": "@jupyter-widgets/controls",
      "model_module_version": "1.5.0",
      "model_name": "VBoxModel",
      "state": {
       "children": [
        "IPY_MODEL_5bc0fcffba724727b0efdeb506bf1a09",
        "IPY_MODEL_b78400371da549fc9ea66c597d127c89",
        "IPY_MODEL_6df44774dbf141abb3dba306263fc440",
        "IPY_MODEL_dcd025c7cf2e4cca9984f67afdf9b98e"
       ],
       "layout": "IPY_MODEL_d85f53afc98b4e8abe99d93865f2457f"
      }
     },
     "9553449bec634b1bb5fa246bb1ae0fe0": {
      "model_module": "jupyter-matplotlib",
      "model_module_version": "^0.7.2",
      "model_name": "ToolbarModel",
      "state": {
       "layout": "IPY_MODEL_9a4676c89bf34b4892583d0dbd5e650d",
       "toolitems": [
        [
         "Home",
         "Reset original view",
         "home",
         "home"
        ],
        [
         "Back",
         "Back to previous view",
         "arrow-left",
         "back"
        ],
        [
         "Forward",
         "Forward to next view",
         "arrow-right",
         "forward"
        ],
        [
         "Pan",
         "Pan axes with left mouse, zoom with right",
         "arrows",
         "pan"
        ],
        [
         "Zoom",
         "Zoom to rectangle",
         "square-o",
         "zoom"
        ],
        [
         "Download",
         "Download plot",
         "floppy-o",
         "save_figure"
        ]
       ]
      }
     },
     "982e33344c524c99b296099838122fbd": {
      "model_module": "@jupyter-widgets/base",
      "model_module_version": "1.2.0",
      "model_name": "LayoutModel",
      "state": {
       "height": "40px"
      }
     },
     "9a3a5ba89c48475198f50fab099aa2a6": {
      "model_module": "@jupyter-widgets/controls",
      "model_module_version": "1.5.0",
      "model_name": "DescriptionStyleModel",
      "state": {
       "description_width": ""
      }
     },
     "9a4676c89bf34b4892583d0dbd5e650d": {
      "model_module": "@jupyter-widgets/base",
      "model_module_version": "1.2.0",
      "model_name": "LayoutModel",
      "state": {}
     },
     "9cb39beae9da41998725d890b397288f": {
      "model_module": "@jupyter-widgets/controls",
      "model_module_version": "1.5.0",
      "model_name": "CheckboxModel",
      "state": {
       "description": "35 20",
       "disabled": false,
       "layout": "IPY_MODEL_540081d9e049475da8e06b4323a293f4",
       "style": "IPY_MODEL_17f24ee6de3147f4a0a4a7c646901104",
       "value": false
      }
     },
     "a30a9518ff6048458937eb4783af378b": {
      "model_module": "@jupyter-widgets/base",
      "model_module_version": "1.2.0",
      "model_name": "LayoutModel",
      "state": {
       "width": "initial"
      }
     },
     "a381b252cebb4ab59df52573744ddec3": {
      "model_module": "@jupyter-widgets/controls",
      "model_module_version": "1.5.0",
      "model_name": "DescriptionStyleModel",
      "state": {
       "description_width": ""
      }
     },
     "a52261a49cf7419195f80b90a0d832a4": {
      "model_module": "@jupyter-widgets/controls",
      "model_module_version": "1.5.0",
      "model_name": "DescriptionStyleModel",
      "state": {
       "description_width": ""
      }
     },
     "a9514e03f09646fc8c8ea608c81f9acc": {
      "model_module": "@jupyter-widgets/controls",
      "model_module_version": "1.5.0",
      "model_name": "DescriptionStyleModel",
      "state": {
       "description_width": ""
      }
     },
     "aa58d76633014da3bf7d12e9273bc2eb": {
      "model_module": "@jupyter-widgets/base",
      "model_module_version": "1.2.0",
      "model_name": "LayoutModel",
      "state": {
       "height": "40px"
      }
     },
     "ad2d73719eea4bc2941a82c9a1b3f697": {
      "model_module": "@jupyter-widgets/base",
      "model_module_version": "1.2.0",
      "model_name": "LayoutModel",
      "state": {
       "height": "40px"
      }
     },
     "afa24371cf8e4e278588baa98524b061": {
      "model_module": "@jupyter-widgets/controls",
      "model_module_version": "1.5.0",
      "model_name": "CheckboxModel",
      "state": {
       "description": "37 25",
       "disabled": false,
       "layout": "IPY_MODEL_1e1c4de590104787a89eac69d837012a",
       "style": "IPY_MODEL_5e255d9e71584106bfa0a6467b4bf01a",
       "value": false
      }
     },
     "b4eff99fffda48ef870965869cf00121": {
      "model_module": "@jupyter-widgets/base",
      "model_module_version": "1.2.0",
      "model_name": "LayoutModel",
      "state": {
       "width": "initial"
      }
     },
     "b78400371da549fc9ea66c597d127c89": {
      "model_module": "@jupyter-widgets/controls",
      "model_module_version": "1.5.0",
      "model_name": "BoxModel",
      "state": {
       "children": [
        "IPY_MODEL_2b6952041a5b4402b38ac97ff4f290a6",
        "IPY_MODEL_0ebe90d0bf4c4880854b4f15281fcc44",
        "IPY_MODEL_d5875fb1d2de4ba6abd183532afb35e7",
        "IPY_MODEL_3cc521bd3acf4e15a1aad37459f72a7f"
       ],
       "layout": "IPY_MODEL_4ca6b0979296448bad2ab6648cfb5178"
      }
     },
     "c1c603902a864f12a4a329f4b8075b05": {
      "model_module": "@jupyter-widgets/base",
      "model_module_version": "1.2.0",
      "model_name": "LayoutModel",
      "state": {}
     },
     "c2ef02335bbe4a50886553341d2489e3": {
      "model_module": "jupyter-matplotlib",
      "model_module_version": "^0.7.2",
      "model_name": "MPLCanvasModel",
      "state": {
       "_cursor": "default",
       "_figure_label": "Figure 1",
       "_height": 600,
       "_image_mode": "diff",
       "_message": "x=13.4679      y=2.97136      [379]",
       "_width": 1100,
       "layout": "IPY_MODEL_c8ed5cd296ca4cb68b32a48b8629ee99",
       "toolbar": "IPY_MODEL_9553449bec634b1bb5fa246bb1ae0fe0",
       "toolbar_position": "left"
      }
     },
     "c3f7e3c2bc3b4810a7ff9f0228ef8336": {
      "model_module": "@jupyter-widgets/controls",
      "model_module_version": "1.5.0",
      "model_name": "DescriptionStyleModel",
      "state": {
       "description_width": ""
      }
     },
     "c8ed5cd296ca4cb68b32a48b8629ee99": {
      "model_module": "@jupyter-widgets/base",
      "model_module_version": "1.2.0",
      "model_name": "LayoutModel",
      "state": {}
     },
     "cd31aed23b194c96ac20c66ee7fea4d2": {
      "model_module": "@jupyter-widgets/controls",
      "model_module_version": "1.5.0",
      "model_name": "CheckboxModel",
      "state": {
       "description": "Um die AK-Koeffiezienten zu bestimmen, muss man zunächst das Spektrum berechnen.",
       "disabled": false,
       "layout": "IPY_MODEL_8d8cca419dbc47ea8d16443b0ca92a1a",
       "style": "IPY_MODEL_2d240af0886041e7bc4425f6bbdcc982",
       "value": false
      }
     },
     "d161488962114bbc9be57d568e9786ed": {
      "model_module": "@jupyter-widgets/controls",
      "model_module_version": "1.5.0",
      "model_name": "DescriptionStyleModel",
      "state": {
       "description_width": ""
      }
     },
     "d1f3147f912549b7b9cefd6b429b7d7e": {
      "model_module": "@jupyter-widgets/controls",
      "model_module_version": "1.5.0",
      "model_name": "DescriptionStyleModel",
      "state": {
       "description_width": ""
      }
     },
     "d253e628d3f2489da414efa9f9bf4578": {
      "model_module": "@jupyter-widgets/base",
      "model_module_version": "1.2.0",
      "model_name": "LayoutModel",
      "state": {}
     },
     "d5875fb1d2de4ba6abd183532afb35e7": {
      "model_module": "@jupyter-widgets/controls",
      "model_module_version": "1.5.0",
      "model_name": "DropdownModel",
      "state": {
       "_options_labels": [
        "schnell",
        "normal",
        "langsam"
       ],
       "description": "Geschwindigkeit:",
       "index": 1,
       "layout": "IPY_MODEL_982e33344c524c99b296099838122fbd",
       "style": "IPY_MODEL_a52261a49cf7419195f80b90a0d832a4"
      }
     },
     "d85f53afc98b4e8abe99d93865f2457f": {
      "model_module": "@jupyter-widgets/base",
      "model_module_version": "1.2.0",
      "model_name": "LayoutModel",
      "state": {
       "justify_content": "center"
      }
     },
     "dcd025c7cf2e4cca9984f67afdf9b98e": {
      "model_module": "@jupyter-widgets/controls",
      "model_module_version": "1.5.0",
      "model_name": "BoxModel",
      "state": {
       "children": [
        "IPY_MODEL_0a699cdccecb4443833552aa3c40592b",
        "IPY_MODEL_734427cdff0044eeae1466ff3154032b",
        "IPY_MODEL_537ee13a63e94a20995dad516aac36ac",
        "IPY_MODEL_944ca738b7804a43abf8700f3481cd57"
       ],
       "layout": "IPY_MODEL_c1c603902a864f12a4a329f4b8075b05"
      }
     },
     "e657997c5eb34bf992cb4f9c70fccf61": {
      "model_module": "@jupyter-widgets/controls",
      "model_module_version": "1.5.0",
      "model_name": "DescriptionStyleModel",
      "state": {
       "description_width": ""
      }
     },
     "efaddbdfe9df46cfb1d03c5812b25435": {
      "model_module": "@jupyter-widgets/controls",
      "model_module_version": "1.5.0",
      "model_name": "DescriptionStyleModel",
      "state": {
       "description_width": ""
      }
     },
     "f152f86e2432477eb13c2a2b1c53209a": {
      "model_module": "@jupyter-widgets/controls",
      "model_module_version": "1.5.0",
      "model_name": "CheckboxModel",
      "state": {
       "description": "45 35",
       "disabled": false,
       "layout": "IPY_MODEL_787e9b19fc60467c87d6046d6efe09fb",
       "style": "IPY_MODEL_efaddbdfe9df46cfb1d03c5812b25435",
       "value": false
      }
     },
     "f2c0685e49724b31808ca4f757fcd7dd": {
      "model_module": "@jupyter-widgets/base",
      "model_module_version": "1.2.0",
      "model_name": "LayoutModel",
      "state": {
       "height": "40px"
      }
     },
     "fc1fcccfba08415984396c9f253f763e": {
      "model_module": "@jupyter-widgets/base",
      "model_module_version": "1.2.0",
      "model_name": "LayoutModel",
      "state": {
       "height": "40px"
      }
     }
    },
    "version_major": 2,
    "version_minor": 0
   }
  }
 },
 "nbformat": 4,
 "nbformat_minor": 4
}
