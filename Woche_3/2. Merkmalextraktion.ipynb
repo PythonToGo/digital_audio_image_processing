{
 "cells": [
  {
   "cell_type": "code",
   "execution_count": 1,
   "metadata": {
    "deletable": false,
    "editable": false,
    "nbgrader": {
     "cell_type": "code",
     "checksum": "5e1f29e5e7fb24860f32473563132b9a",
     "grade": false,
     "grade_id": "cell-e60ec79d76d2ea19",
     "locked": true,
     "schema_version": 3,
     "solution": false,
     "task": false
    }
   },
   "outputs": [],
   "source": [
    "#   |'''''''''''''╔╬╬╬╬╬╬╬╬   _____  _____      _____  _____      ___   __\n",
    "#   |            ╔╬╬╬╬╬╬╬╬╬  |\\   _ \\  _  \\    |\\   _ \\  _  \\    |\\  \\|\\  \\\n",
    "#   | ░░         ╬╬╬╬╬╬╬╬╬╬  \\ \\  \\\\__\\ \\  \\   \\ \\  \\\\__\\ \\  \\   \\ \\  \\/  /|_\n",
    "#    ░░░░        ╬╬╬╬╬╬╬╬╬╬   \\ \\  \\|__| \\  \\   \\ \\  \\|__| \\  \\   \\ \\   ___  \\\n",
    "#   ░░░░░╦╬╦    ╔╬╬╬╬╬╬╬╬╬╬    \\ \\  \\   \\ \\  \\   \\ \\  \\   \\ \\  \\   \\ \\  \\ \\   \\\n",
    "#  ░░░░░╬╬╬╬ ▓▓└╬╬╬╬╬╬╬╬╬╬╬     \\ \\__\\   \\ \\__\\   \\ \\__\\   \\ \\__\\   \\ \\__\\ \\___\\\n",
    "# ░░░░░╔╬╬╬ ▓▓▓  ╓╬╬╬╬╬╬╬╬╬      \\|__|    \\|__|    \\|__|    \\|__|    \\|__| \\|__|\n",
    "# ░░░░░╠╬╬╬ ▓▓▓  └╬╬╬╬╬╬╬╬╬\n",
    "#  ░░░░└╬╬╬╬ ▓▓   ╬╬╬╬╬╬╬╬╬  Lehrstuhl für Mensch-Maschine-Kommunikation\n",
    "#  ░░░░░╙╬╬╬╩            ╬╬  Technische Universität München\n",
    "#   ░░░░░░╚ '''''''''''''''  Author: Tobias Watzel\n",
    "#    ░░░                     Copyright 2020\n",
    "#\n",
    "\n",
    "%matplotlib widget\n",
    "import os\n",
    "import ipywidgets as widgets\n",
    "import matplotlib.pyplot as plt\n",
    "import matplotlib as mpl\n",
    "import matplotlib.lines as lines\n",
    "from matplotlib import rc\n",
    "import IPython.display as ipd\n",
    "import librosa.display\n",
    "import numpy as np\n",
    "import scipy\n",
    "import more_itertools\n",
    "from scipy import signal\n",
    "from scipy.fftpack import fft, fftshift, rfft\n",
    "import pandas as pd\n",
    "import dill\n",
    "\n",
    "# init fig for matplotlib\n",
    "fig = None"
   ]
  },
  {
   "cell_type": "markdown",
   "metadata": {
    "deletable": false,
    "editable": false,
    "nbgrader": {
     "cell_type": "markdown",
     "checksum": "78fbbc16cff117c2da6a14264c9f8868",
     "grade": false,
     "grade_id": "cell-06f376233e25911f",
     "locked": true,
     "schema_version": 3,
     "solution": false,
     "task": false
    }
   },
   "source": [
    "## Versuchsbeschreibung:\n",
    "In diesem Versuch sehen Sie, wie aus einzelnen Fenstern eines Signals Merkmale für die Spracherkennung extrahiert werden.\n",
    "Hierfür können Sie im ersten Schritt zwei Bereiche aus dem Wort \"sieben\" herausschneiden, die unterschiedliche Laute beinhalten.\n",
    "Im zweiten Schritt sehen Sie die Merkmalsvektoren der zugehörigen Fenster.\n",
    "\n",
    "Probieren Sie verschiedene Extraktionsmethoden und Bereiche aus und sehen Sie sich die Auswirkung auf die extrahierten Merkmalsvektoren an.\n",
    "Bedenken Sie dabei, dass anhand der Merkmale eine Unterscheidung der Laute möglich sein muss. Das heißt, innerhalb eines Bereiches sollten die Merkmalswerte möglichst gleich sein, jedoch zwischen den beiden Bereichen möglichst unterschiedlich."
   ]
  },
  {
   "cell_type": "code",
   "execution_count": 2,
   "metadata": {
    "deletable": false,
    "editable": false,
    "nbgrader": {
     "cell_type": "code",
     "checksum": "5218a735a5caa0973de1c05184b15287",
     "grade": false,
     "grade_id": "cell-4d3e287016d3df43",
     "locked": true,
     "schema_version": 3,
     "solution": false,
     "task": false
    }
   },
   "outputs": [
    {
     "data": {
      "application/vnd.jupyter.widget-view+json": {
       "model_id": "bde8be86d739483d9327f852a039222e",
       "version_major": 2,
       "version_minor": 0
      },
      "text/plain": [
       "HBox(children=(VBox(children=(Text(value='256', description='Startblue:'), Text(value='768', description='Endb…"
      ]
     },
     "metadata": {},
     "output_type": "display_data"
    }
   ],
   "source": [
    "# load audio file\n",
    "y, sr = librosa.load('wav_files/sieben.wav', sr = 16000)\n",
    "x = np.linspace(0, y.size, num = y.size)\n",
    "\n",
    "# close old figures if avaible\n",
    "\n",
    "    \n",
    "text_startblue = widgets.Text(value = '256', description = 'Startblue:')\n",
    "text_endblue = widgets.Text(value = '768', description = 'Endblue:')\n",
    "text_startgreen = widgets.Text(value = '2048', description = 'Startgreen:')\n",
    "text_endgreen = widgets.Text(value = '2560', description = 'Endgreen:')\n",
    "\n",
    "box = widgets.HBox([widgets.VBox([text_startblue, text_endblue]), widgets.VBox([text_startgreen, text_endgreen])])\n",
    "\n",
    "display(box)"
   ]
  },
  {
   "cell_type": "code",
   "execution_count": 3,
   "metadata": {
    "deletable": false,
    "editable": false,
    "nbgrader": {
     "cell_type": "code",
     "checksum": "fb4aeae838683e99f984d10304dc5086",
     "grade": false,
     "grade_id": "cell-319bced40a5dd400",
     "locked": true,
     "schema_version": 3,
     "solution": false,
     "task": false
    }
   },
   "outputs": [
    {
     "data": {
      "application/vnd.jupyter.widget-view+json": {
       "model_id": "16ce5340485748f0935e3c04d88b86c6",
       "version_major": 2,
       "version_minor": 0
      },
      "text/plain": [
       "Canvas(toolbar=Toolbar(toolitems=[('Home', 'Reset original view', 'home', 'home'), ('Back', 'Back to previous …"
      ]
     },
     "metadata": {},
     "output_type": "display_data"
    }
   ],
   "source": [
    "if fig:\n",
    "    plt.close(fig)\n",
    "    \n",
    "fig = plt.figure(figsize = (9, 7))\n",
    "ax1 = plt.subplot(211)\n",
    "ax2 = plt.subplot(223)\n",
    "ax3 = plt.subplot(224)\n",
    "\n",
    "\n",
    "\n",
    "ax1.plot(x, y, linewidth=1, color='r')\n",
    "ax1.set_xlim(0.0, y.size)\n",
    "ax1.set_title(\"Zeitverlauf Signal\")\n",
    "ax1.set_xlabel(\"Sample\")\n",
    "ax1.set_ylabel(\"Amplitude\")\n",
    "ax1.grid()\n",
    "\n",
    "# do cutting\n",
    "y_cut_blue = y[int(text_startblue.value):int(text_endblue.value)]\n",
    "y_cut_green = y[int(text_startgreen.value):int(text_endgreen.value)]\n",
    "\n",
    "x_blue = np.arange(int(text_startblue.value), int(text_endblue.value))\n",
    "x_green = np.arange(int(text_startgreen.value), int(text_endgreen.value))\n",
    "\n",
    "\n",
    "l1 = ax1.axvline(x = int(text_startblue.value), color = 'b')\n",
    "l2 = ax1.axvline(x = int(text_endblue.value), color = 'b')\n",
    "l3 = ax1.axvline(x = int(text_startgreen.value), color = 'g')\n",
    "l4 = ax1.axvline(x = int(text_endgreen.value), color = 'g')\n",
    "\n",
    "# plot blue window\n",
    "ax2.plot(x_blue, y_cut_blue, linewidth=1, color='r')\n",
    "ax2.set_xlim(x_blue.min(), x_blue.max())\n",
    "ax2.set_title(\"Zeitverlauf blaues Fenster\")\n",
    "ax2.set_xlabel(\"Sample\")\n",
    "ax2.set_ylabel(\"Amplitude\")\n",
    "ax2.grid()\n",
    "\n",
    "# plot blue window\n",
    "ax3.plot(x_green, y_cut_green, linewidth=1, color='r')\n",
    "ax3.set_xlim(x_green.min(), x_green.max())\n",
    "ax3.set_title(\"Zeitverlauf grünes Fenster\")\n",
    "ax3.set_xlabel(\"Sample\")\n",
    "ax3.set_ylabel(\"Amplitude\")\n",
    "ax3.grid()\n",
    "\n",
    "\n",
    "plt.tight_layout()"
   ]
  },
  {
   "cell_type": "code",
   "execution_count": 4,
   "metadata": {
    "deletable": false,
    "editable": false,
    "nbgrader": {
     "cell_type": "code",
     "checksum": "1bd4f757553f8a6406150e78ae4d4683",
     "grade": false,
     "grade_id": "cell-cc5629c5cc43bd69",
     "locked": true,
     "schema_version": 3,
     "solution": false,
     "task": false
    }
   },
   "outputs": [
    {
     "data": {
      "application/vnd.jupyter.widget-view+json": {
       "model_id": "079df0ea05b54ec3bd2986154e3882c1",
       "version_major": 2,
       "version_minor": 0
      },
      "text/plain": [
       "HBox(children=(Output(),))"
      ]
     },
     "metadata": {},
     "output_type": "display_data"
    }
   ],
   "source": [
    "def autocorr(x):\n",
    "    result = np.correlate(x, x, mode='full')\n",
    "    return result[result.size // 2:]\n",
    "\n",
    "def calculate_fbk(signal_in, num_coefficients, window_size):\n",
    "    step_size = 256\n",
    "    \n",
    "    features = np.zeros([num_coefficients, int(signal_in.size / step_size)])\n",
    "    \n",
    "    for i, w in enumerate(more_itertools.windowed(signal_in, n = window_size, step = step_size, fillvalue = '!')):\n",
    "        power_spectrum = np.abs(np.fft.rfft(w, len(w))) ** 2\n",
    "        for j, x in enumerate(np.array_split(power_spectrum, num_coefficients)): \n",
    "            features[j, i] = np.mean(x)\n",
    "        features[:, i] /= np.sqrt(np.sum(features[:, i] ** 2))\n",
    "\n",
    "    return features\n",
    "\n",
    "def calculate_mfcc(signal_in, num_coefficients):\n",
    "    return librosa.feature.mfcc(signal_in, sr = sr, n_mfcc = num_coefficients)\n",
    "\n",
    "def calculate_akk(signal_in, num_coefficients, window_size):\n",
    "    step_size = 256\n",
    "    \n",
    "    features = np.zeros([num_coefficients, int(signal_in.size / step_size)])\n",
    "    for i, w in enumerate(more_itertools.windowed(signal_in, n = window_size, step = step_size, fillvalue = '!')):  \n",
    "        autocorr_tmp = autocorr(w) / window_size\n",
    "        for j in range(num_coefficients):\n",
    "            features[j, i] = autocorr_tmp[j]\n",
    "        \n",
    "        features[:, i] /= autocorr_tmp[0]\n",
    "        \n",
    "    return features\n",
    "\n",
    "def create_column_names(y_cut_blue, y_cut_green, window_size):\n",
    "    \n",
    "    num_windows_blue = int(y_cut_blue.size / window_size)\n",
    "    num_windows_green = int(y_cut_green.size / window_size)\n",
    "    \n",
    "    column_list_fbk = ['FBK (blau)'] * num_windows_blue + ['FBK (grün)'] * num_windows_blue\n",
    "    column_list_akk = ['AKK (blau)'] * num_windows_blue + ['AKK (grün)'] * num_windows_blue\n",
    "    column_list_mfcc = ['MFCC (blau)'] * num_windows_blue + ['MFCC (grün)'] * num_windows_blue\n",
    "    return column_list_fbk + column_list_akk + column_list_mfcc\n",
    "    \n",
    "\n",
    "#ätmp = np.around(, decimals = 2)\n",
    "features_fbk_blue = calculate_fbk(y_cut_blue, 12, 256)\n",
    "features_fbk_green = calculate_fbk(y_cut_green, 12, 256)\n",
    "\n",
    "\n",
    "features_akk_blue = calculate_akk(y_cut_blue, 12, 256)\n",
    "features_akk_green = calculate_akk(y_cut_green, 12, 256)\n",
    "\n",
    "features_mfcc_blue = calculate_mfcc(y_cut_blue, 12)\n",
    "features_mfcc_green = calculate_mfcc(y_cut_green, 12)\n",
    "    \n",
    "dataframe = pd.DataFrame(np.concatenate([features_fbk_blue, features_fbk_green, features_akk_blue, features_akk_green,\n",
    "                                        features_mfcc_blue, features_mfcc_green], axis = 1))\n",
    "\n",
    "dataframe.columns = create_column_names(y_cut_blue, y_cut_green, 256)\n",
    "\n",
    "widget1 = widgets.Output()\n",
    "\n",
    "# render in output widgets\n",
    "with widget1:\n",
    "    ipd.display(dataframe)\n",
    "\n",
    "# create HBox\n",
    "hbox = widgets.HBox([widget1])\n",
    "\n",
    "display(hbox)\n",
    "    "
   ]
  },
  {
   "cell_type": "markdown",
   "metadata": {
    "deletable": false,
    "editable": false,
    "nbgrader": {
     "cell_type": "markdown",
     "checksum": "e6a997a3708d64797d720bdbf82f8e5a",
     "grade": false,
     "grade_id": "cell-a15e21f58782fea4",
     "locked": true,
     "schema_version": 3,
     "solution": false,
     "task": false
    }
   },
   "source": [
    "## 1. Welche der Aussagen ist richtig?"
   ]
  },
  {
   "cell_type": "code",
   "execution_count": 5,
   "metadata": {
    "deletable": false,
    "editable": false,
    "nbgrader": {
     "cell_type": "code",
     "checksum": "37ed07ba855c01452294c9fe2cea4fc6",
     "grade": false,
     "grade_id": "cell-83bfbb5af17801a4",
     "locked": true,
     "schema_version": 3,
     "solution": false,
     "task": false
    }
   },
   "outputs": [
    {
     "data": {
      "application/vnd.jupyter.widget-view+json": {
       "model_id": "dedcb4dabf22433e93ecfc3352910eda",
       "version_major": 2,
       "version_minor": 0
      },
      "text/plain": [
       "RadioButtons(index=1, layout=Layout(width='initial'), options=('Die FB-Koeffizienten eignen sich als Merkmale …"
      ]
     },
     "metadata": {},
     "output_type": "display_data"
    }
   ],
   "source": [
    "save_radio_select = 'save/radio_select_features.dill'\n",
    "\n",
    "radio_button_array = np.array([False, False, False])\n",
    "# try to load checkbox array\n",
    "try: \n",
    "    with open(save_radio_select, 'rb') as fp:\n",
    "        radio_button_array = dill.load(fp)\n",
    "except:\n",
    "    pass\n",
    "\n",
    "radio_button_list = ['Die FB-Koeffizienten eignen sich als Merkmale besonders gut, da sie sehr gut sprecherspezifische und nicht-sprecherspezifische Informationen trennen können.',\n",
    "                     'Die MFC-Koeffizienten eignen sich besonders gut, da sie gut dekorreliert sind und sich daher anschließend besser reduzieren lassen.',\n",
    "                     'Um die AK-Koeffiezienten zu bestimmen, muss man zunächst das Spektrum berechnen.']\n",
    "value_radio = [None if len(np.where(radio_button_array == True)[0]) == 0 else \n",
    "               radio_button_list[np.where(radio_button_array == True)[0][0]]]\n",
    "\n",
    "def callback_checkbox(change):\n",
    "    if change['type'] == 'change' and change['name'] == 'value':\n",
    "        radio_button_array[radio_button_list.index(change['new'])] = not radio_button_array[radio_button_list.index(change['new'])]\n",
    "        if change['old']:\n",
    "            radio_button_array[radio_button_list.index(change['old'])] = not radio_button_array[radio_button_list.index(change['old'])]\n",
    "        # save when changed\n",
    "        with open(save_radio_select, 'wb') as fp:\n",
    "            dill.dump(radio_button_array, fp)            \n",
    "\n",
    "radio_buttons = widgets.RadioButtons(options=radio_button_list, \n",
    "                                     value=value_radio[0], layout={'width' : 'initial'})\n",
    "\n",
    "radio_buttons.observe(callback_checkbox)\n",
    "\n",
    "display(radio_buttons)"
   ]
  },
  {
   "cell_type": "code",
   "execution_count": 6,
   "metadata": {
    "deletable": false,
    "editable": false,
    "nbgrader": {
     "cell_type": "code",
     "checksum": "d4c551d98b0cf444e56d48cb4bfeabb2",
     "grade": true,
     "grade_id": "cell-5347549e7c1effd9",
     "locked": true,
     "points": 1,
     "schema_version": 3,
     "solution": false,
     "task": false
    }
   },
   "outputs": [],
   "source": [
    "# Autograding answer, please ignore\n"
   ]
  },
  {
   "cell_type": "code",
   "execution_count": null,
   "metadata": {},
   "outputs": [],
   "source": []
  },
  {
   "cell_type": "code",
   "execution_count": null,
   "metadata": {},
   "outputs": [],
   "source": []
  }
 ],
 "metadata": {
  "kernelspec": {
   "display_name": "Python 3",
   "language": "python",
   "name": "python3"
  },
  "language_info": {
   "codemirror_mode": {
    "name": "ipython",
    "version": 3
   },
   "file_extension": ".py",
   "mimetype": "text/x-python",
   "name": "python",
   "nbconvert_exporter": "python",
   "pygments_lexer": "ipython3",
   "version": "3.7.7"
  },
  "widgets": {
   "application/vnd.jupyter.widget-state+json": {
    "state": {},
    "version_major": 2,
    "version_minor": 0
   }
  }
 },
 "nbformat": 4,
 "nbformat_minor": 4
}
